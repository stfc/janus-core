{
 "cells": [
  {
   "cell_type": "markdown",
   "metadata": {
    "colab_type": "text",
    "id": "view-in-github"
   },
   "source": [
    "[![Open In Colab](https://colab.research.google.com/assets/colab-badge.svg)](https://colab.research.google.com/github/stfc/janus-core/blob/main/docs/source/tutorials/cli/md.ipynb)"
   ]
  },
  {
   "cell_type": "markdown",
   "metadata": {
    "id": "4vcbRxmIhHLL"
   },
   "source": [
    "# Molecular Dynamics"
   ]
  },
  {
   "cell_type": "markdown",
   "metadata": {},
   "source": [
    "## Set up environment (optional)\n",
    "\n",
    "These steps are required for Google Colab, but may work on other systems too:"
   ]
  },
  {
   "cell_type": "code",
   "execution_count": null,
   "metadata": {
    "id": "TF-EiWxyuMc7"
   },
   "outputs": [],
   "source": [
    "# import locale\n",
    "# locale.getpreferredencoding = lambda: \"UTF-8\"\n",
    "\n",
    "# ! pip uninstall torch torchaudio torchvision transformers numpy -y\n",
    "# ! uv pip install janus-core[all] data-tutorials torch==2.5.1 --system\n",
    "# get_ipython().kernel.do_shutdown(restart=True)"
   ]
  },
  {
   "cell_type": "code",
   "execution_count": null,
   "metadata": {},
   "outputs": [],
   "source": [
    "# from data_tutorials.data import get_data\n",
    "\n",
    "# get_data(\n",
    "#     url=\"https://raw.githubusercontent.com/stfc/janus-core/main/docs/source/tutorials/data/\",\n",
    "#     filename=[\"NaCl-1040.extxyz\"],\n",
    "#     folder=\"../data\",\n",
    "# )"
   ]
  },
  {
   "cell_type": "code",
   "execution_count": null,
   "metadata": {
    "id": "cgch8VQ--AES"
   },
   "outputs": [],
   "source": [
    "from pathlib import Path\n",
    "\n",
    "from ase.build import bulk\n",
    "from ase.io import read, write\n",
    "import numpy as np\n",
    "import matplotlib.pyplot as plt\n",
    "from weas_widget import WeasWidget\n",
    "import yaml\n",
    "\n",
    "from janus_core.helpers.stats import Stats\n",
    "from janus_core.processing import post_process"
   ]
  },
  {
   "cell_type": "markdown",
   "metadata": {},
   "source": [
    "### NVT\n",
    "\n",
    "In ```janus_core``` we can simulate MD in various ensembles. To start we will look at a simple NVT simulation of NaCl.\n",
    "\n",
    "Using the ASE we can build an NaCl crystal sample. Which we can look at using Weas."
   ]
  },
  {
   "cell_type": "code",
   "execution_count": null,
   "metadata": {},
   "outputs": [],
   "source": [
    "Path(\"../data\").mkdir(exist_ok=True)\n",
    "\n",
    "NaCl = bulk(\"NaCl\", \"rocksalt\", a=5.63, cubic=True)\n",
    "NaCl = NaCl * (2, 2, 2)\n",
    "write(\"../data/NaCl.xyz\", NaCl)\n",
    "\n",
    "v=WeasWidget()\n",
    "v.from_ase(NaCl)\n",
    "v"
   ]
  },
  {
   "cell_type": "markdown",
   "metadata": {},
   "source": [
    "#### Running the simulation\n",
    "\n",
    "For our simulation we can prepare a config YAML file for the ```janus md``` command.\n",
    "\n",
    "Here we set the ensemble and the structure.\n",
    "\n",
    "The following 2 options specify the simulation steps to perform in MD and the MD temperature in K. The default timestep is 1 fs.\n",
    "\n",
    "The final 2 options set the frequency to write statistics and trajectory frames.\n",
    "\n",
    "If you have a GPU on you, then the commented out option will speed things up considerably."
   ]
  },
  {
   "cell_type": "code",
   "execution_count": null,
   "metadata": {},
   "outputs": [],
   "source": [
    "%%writefile config-nvt.yml\n",
    "\n",
    "arch: mace_mp\n",
    "ensemble: nvt\n",
    "struct: ../data/NaCl.xyz\n",
    "\n",
    "steps: 250\n",
    "temp: 100\n",
    "\n",
    "stats_every: 10\n",
    "traj_every: 10\n",
    "restart_every: 50\n",
    "\n",
    "tracker: False\n",
    "\n",
    "# If you have an Nvidia GPU.\n",
    "#device: cuda"
   ]
  },
  {
   "cell_type": "markdown",
   "metadata": {},
   "source": [
    "As with other ```janus_core``` functionalities the help method will show the available options along with units"
   ]
  },
  {
   "cell_type": "code",
   "execution_count": null,
   "metadata": {},
   "outputs": [],
   "source": [
    "!janus md --help"
   ]
  },
  {
   "cell_type": "markdown",
   "metadata": {},
   "source": [
    "We can begin our simulation by calling the following shell command. Which may take a few minutes on a CPU."
   ]
  },
  {
   "cell_type": "code",
   "execution_count": null,
   "metadata": {},
   "outputs": [],
   "source": [
    "! janus md --config config-nvt.yml"
   ]
  },
  {
   "cell_type": "markdown",
   "metadata": {},
   "source": [
    "#### The outputs\n",
    "\n",
    "While we are waiting for the simulation we can familiarise ourselves with the output files you will see.\n",
    "\n",
    "The directory ```janus_results``` will be populated with the following key files named ```NaCl-nvt-T100.0-```\n",
    "\n",
    "- ```stats.dat```\n",
    "- ```traj.extxyz```\n",
    "- ```final.extxyz```\n",
    "- ```md-log.yml```\n",
    "- ```md-summary.yml```\n",
    "\n",
    "The stats file contains core statistical data on the simulation, including the step, wall-time, temperature, volume, and pressure tensor.\n",
    "\n",
    "You could view this now while the simulation is running by the shell command\n",
    "\n",
    "```shell\n",
    "$ head janus_results/NaCl-nvt-T100.0-stats.dat \n",
    "```\n",
    "Giving something like the following\n",
    "```\n",
    "# Step | Real_Time [s] | Time [fs] | Epot/N [eV] ...\n",
    "         0 1.044          0.00 -3.37876019e+00 ...\n",
    "        10 8.772         10.00 -3.37789444e+00 ...\n",
    "```\n",
    "\n",
    "The first line in the stats files also includes the units used. Temperatures are all in K, lengths in Angstroms, and Pressures in GPa."
   ]
  },
  {
   "cell_type": "markdown",
   "metadata": {},
   "source": [
    "The ```traj``` and ```final``` files including the MD trajectory and the final configuration in EXTXYZ format.\n",
    "\n",
    "```md-log``` and ```md-summary``` give information about the running of the simulation and a summary of the options used in ```janus-md``` respectively. The latter in particular is worth a look as it also includes the default values for example the ```bulk_modulus```.\n",
    "\n",
    "```shell\n",
    "$ cat janus_results/NaCl-nvt-T100.0-md-summary.yml \n",
    "command: janus md\n",
    "config:\n",
    "  arch: mace_mp\n",
    "  barostat_chain: 3\n",
    "  barostat_substeps: 1\n",
    "  barostat_time: null\n",
    "  bulk_modulus: 2.0\n",
    "  calc_kwargs: {}\n",
    "...\n",
    "```\n",
    "\n",
    "These output files provide a full record of what you have done alongside the standard MD outputs."
   ]
  },
  {
   "cell_type": "markdown",
   "metadata": {},
   "source": [
    "### Analysing the simulation\n",
    "\n",
    "Once the simulation has completed we can make use of the utilities in ```janus_core```. In particular ```janus_core.helpers.stats.Stats``` which makes viewing the ```stats.dat``` file straightforward (alternatively the file is readable by ```np.loadtxt```).\n",
    "\n",
    "Passing the path to our statistics we can observe the temperature, volume, and pressure resulting from the potential in NVT."
   ]
  },
  {
   "cell_type": "code",
   "execution_count": null,
   "metadata": {},
   "outputs": [],
   "source": [
    "stats = Stats(\"janus_results/NaCl-nvt-T100.0-stats.dat\")\n",
    "fig, ax = plt.subplots(ncols=3, figsize=(10,3))\n",
    "ax[0].plot(stats[0], stats[5])\n",
    "ax[0].set_xlabel(\"Step\")\n",
    "ax[0].set_ylabel(\"Temperature\")\n",
    "\n",
    "ax[1].plot(stats[0], stats[8])\n",
    "ax[1].set_xlabel(\"Step\")\n",
    "ax[1].set_ylabel(\"Volume\")\n",
    "\n",
    "ax[2].plot(stats[0], stats[9])\n",
    "ax[2].set_xlabel(\"Step\")\n",
    "ax[2].set_ylabel(\"Pressure\")\n",
    "plt.tight_layout()"
   ]
  },
  {
   "cell_type": "markdown",
   "metadata": {},
   "source": [
    "Since we have been saving the trajectory every 10 steps we can also see a nice movie of our computers labour."
   ]
  },
  {
   "cell_type": "code",
   "execution_count": null,
   "metadata": {},
   "outputs": [],
   "source": [
    "traj = read(\"janus_results/NaCl-nvt-T100.0-traj.extxyz\", index=\":\")\n",
    "v=WeasWidget()\n",
    "v.from_ase(traj)\n",
    "v.avr.model_style = 1\n",
    "v.avr.show_hydrogen_bonds = True\n",
    "v"
   ]
  },
  {
   "cell_type": "markdown",
   "metadata": {},
   "source": [
    "Another helper provided in ```janus_core``` is the post processing module ```from janus_core.processing.post_process```. This enables velocity auto-correlation function and radial distribution function computation from trajectory files.\n",
    "\n",
    "Using our data we can take a look at the RDF, and VAF"
   ]
  },
  {
   "cell_type": "code",
   "execution_count": null,
   "metadata": {},
   "outputs": [],
   "source": [
    "rdf = post_process.compute_rdf(traj, rmax=5.0, nbins=50)\n",
    "vaf = post_process.compute_vaf(traj)\n",
    "\n",
    "fig, ax = plt.subplots(ncols=2, figsize=(8,4))\n",
    "\n",
    "ax[0].plot(rdf[0], rdf[1])\n",
    "ax[0].set_ylabel(\"RDF\")\n",
    "ax[0].set_xlabel(\"Distance / Å\")\n",
    "\n",
    "ax[1].plot(vaf[0]*10, vaf[1][0]/vaf[1][0][0])\n",
    "ax[1].set_ylabel(\"VAF\")\n",
    "ax[1].set_xlabel(\"Lag time, fs\")\n",
    "\n",
    "plt.tight_layout()"
   ]
  },
  {
   "cell_type": "markdown",
   "metadata": {},
   "source": [
    "### Continuing the simulation\n",
    "\n",
    "Using the final configuration we can continue the simulation easily. We can make use of our old config but override some of the values manually.\n",
    "\n",
    "Here we indicate we want to restart with ```--restart```, and pass our parameters from before via ```--config```. ```janus_core``` will find our old files and begin dynamics again from the last restart file. For us this happens to be at step 250. Because we override the steps with ```--steps 300``` we get an additional 50 simulation steps appended to our statistics and trajectory files."
   ]
  },
  {
   "cell_type": "code",
   "execution_count": null,
   "metadata": {},
   "outputs": [],
   "source": [
    "! janus md --restart --steps 300 --config config-nvt.yml"
   ]
  },
  {
   "cell_type": "code",
   "execution_count": null,
   "metadata": {},
   "outputs": [],
   "source": [
    "stats = Stats(\"janus_results/NaCl-nvt-T100.0-stats.dat\")\n",
    "fig, ax = plt.subplots()\n",
    "ax.plot(stats[0], stats[5])\n",
    "ax.set_xlabel(\"Step\")\n",
    "ax.set_ylabel(\"Temperature\")"
   ]
  },
  {
   "cell_type": "markdown",
   "metadata": {},
   "source": [
    "### Correlations at runtime\n",
    "\n",
    "Alongside post-processing of trajectory files ```janus_core``` includes a correlations module to calculate correlation functions at runtime that do not require trajectory storage.\n",
    "\n",
    "For example beginning again from our initial structure we can compute the VAF online with the addition of correlation_kwargs.\n",
    "\n",
    "In these options we specify a list of correlations $\\langle a b \\rangle$ to compute. First the VAF by requesting a correlation with ```Velocity``` as the quantity $a$ ($b$ is assumed to be the same if not set) up to $250$ correlation points (lag times). Additionally we also create a stress auto-correlation function by forming a second correlation with ```Stress```. In this we also set the stress components to be correlated over, again $b$ left unspecified means it is the same as a. These extra settings will give us the correlation function $\\frac{1}{3}(\\langle \\sigma_{xy}\\sigma_{xy}\\rangle+\\langle \\sigma_{yz}\\sigma_{yz}\\rangle+\\langle \\sigma_{zx}\\sigma_{zx}\\rangle)$.\n",
    "\n",
    "By default a correlation is updated every step. This can be controlled by the option ```update_frequency```."
   ]
  },
  {
   "cell_type": "code",
   "execution_count": null,
   "metadata": {},
   "outputs": [],
   "source": [
    "%%writefile config-nvt-cor.yml\n",
    "\n",
    "ensemble: nvt\n",
    "struct: ../data/NaCl.xyz\n",
    "arch: mace_mp\n",
    "\n",
    "steps: 250\n",
    "temp: 100\n",
    "\n",
    "stats_every: 10\n",
    "traj_every: 250\n",
    "\n",
    "correlation_kwargs:\n",
    "  vaf:\n",
    "    a: Velocity\n",
    "    points: 250\n",
    "  saf:\n",
    "    a: Stress\n",
    "    a_kwargs: {'components': ['xy', 'yz', 'zx']}\n",
    "    points: 250\n",
    "\n",
    "tracker: False\n",
    "\n",
    "# If you have an Nvidia GPU.\n",
    "#device: cuda"
   ]
  },
  {
   "cell_type": "code",
   "execution_count": null,
   "metadata": {},
   "outputs": [],
   "source": [
    "! janus md --config config-nvt-cor.yml"
   ]
  },
  {
   "cell_type": "markdown",
   "metadata": {},
   "source": [
    "### Analysing correlations\n",
    "\n",
    "We can load up the new file ```NaCl-nvt-T100.0-cor.dat``` which contains the correlation function we asked for in a YAML format.\n",
    "\n",
    "Previously we computed the VAF using the trajectory saved every 10 frames, our result here will be more accurate at the expense of a longer runtime, but we do not require any trajectory data."
   ]
  },
  {
   "cell_type": "code",
   "execution_count": null,
   "metadata": {},
   "outputs": [],
   "source": [
    "with open(\"janus_results/NaCl-nvt-T100.0-cor.dat\", \"r\") as cor:\n",
    "    data = yaml.safe_load(cor)\n",
    "    vaf = data[\"vaf\"]\n",
    "    saf = data[\"saf\"]\n",
    "\n",
    "fig, ax = plt.subplots(ncols=2, figsize=(8,4))\n",
    "\n",
    "ax[0].plot(vaf['lags'], np.array(vaf['value'])/vaf['value'][0], label=\"VAF every step (online)\")\n",
    "ax[0].set_ylabel(\"VAF\")\n",
    "ax[0].set_xlabel(\"Lag time, fs\")\n",
    "\n",
    "vaf_post = post_process.compute_vaf(traj)\n",
    "\n",
    "ax[0].plot(vaf_post[0]*10, vaf_post[1][0]/vaf_post[1][0][0], label=\"VAF every 10 steps (post)\")\n",
    "ax[0].set_ylabel(\"VAF\")\n",
    "ax[0].set_xlabel(\"Lag time, fs\")\n",
    "\n",
    "ax[0].legend()\n",
    "\n",
    "ax[1].plot(saf['lags'], np.array(saf['value'])/saf['value'][0])\n",
    "ax[1].set_ylabel(\"SAF\")\n",
    "ax[1].set_xlabel(\"Lag time, fs\")\n",
    "\n",
    "plt.tight_layout()"
   ]
  },
  {
   "cell_type": "markdown",
   "metadata": {},
   "source": [
    "### Heating\n",
    "\n",
    "```janus_core``` has a facility for heating or cooling during MD. This is controlled by 4 options.\n",
    "\n",
    "- ```temp_start```: the starting temperature in Kelvin.\n",
    "- ```temp_end```: the final temperature in Kelvin.\n",
    "- ```temp_step```: the temperature increment in Kelvin.\n",
    "- ```temp_time```: the number of time steps at each temperature increment.\n",
    "\n",
    "In this context the options ```temp``` and ```steps``` will apply in a normal MD run after the heating has finished.\n",
    "\n",
    "We can make use of this to perform a naive estimation of melting in NPT by progressively increasing temperature. To keep the cell angles fixed we also apply a mask via ``ensemble_kwargs``` which are passed to ASE's thermo-/baro-stats.\n",
    "\n",
    "We are going to cheat by using a pre-prepared structure ```NaCl-1070.extxyz```. This was equilibrated from ```../data/NaCl.xyz``` in a similar way that we are about to continue but over many more steps. We can have a quick look at our starting point."
   ]
  },
  {
   "cell_type": "code",
   "execution_count": null,
   "metadata": {},
   "outputs": [],
   "source": [
    "v=WeasWidget()\n",
    "structure = read(\"../data/NaCl-1040.extxyz\")\n",
    "structure.wrap()\n",
    "v.from_ase(structure)\n",
    "v"
   ]
  },
  {
   "cell_type": "markdown",
   "metadata": {},
   "source": [
    "We add in our heating parameters and npt options in a new config and run it."
   ]
  },
  {
   "cell_type": "code",
   "execution_count": null,
   "metadata": {},
   "outputs": [],
   "source": [
    "%%writefile config-npt-heat.yml\n",
    "\n",
    "ensemble: npt\n",
    "ensemble_kwargs:\n",
    "  mask: [[1,0,0],[0,1,0],[0,0,1]]\n",
    "\n",
    "struct: ../data/NaCl-1040.extxyz\n",
    "arch: mace_mp\n",
    "\n",
    "temp_start: 1040\n",
    "temp_end: 1080\n",
    "temp_step: 5\n",
    "temp_time: 25\n",
    "\n",
    "stats_every: 10\n",
    "traj_every: 10\n",
    "\n",
    "tracker: False\n",
    "\n",
    "# If you have an Nvidia GPU.\n",
    "#device: cuda"
   ]
  },
  {
   "cell_type": "code",
   "execution_count": null,
   "metadata": {},
   "outputs": [],
   "source": [
    "! janus md --config config-npt-heat.yml"
   ]
  },
  {
   "cell_type": "code",
   "execution_count": null,
   "metadata": {},
   "outputs": [],
   "source": [
    "v=WeasWidget()\n",
    "structure = read(\"janus_results/NaCl-1040-npt-T1040.0-T1080.0-p0.0-final.extxyz\")\n",
    "structure.wrap()\n",
    "v.from_ase(structure)\n",
    "v"
   ]
  },
  {
   "cell_type": "markdown",
   "metadata": {},
   "source": [
    "### Extensions\n",
    "\n",
    "#### Viscosity\n",
    "\n",
    "Simulate liquid NaCl in NVE at about 1080 K and calculate the SAF as we have done before. Use the SAF to estimate the viscosity $\\eta = \\frac{V}{3k_{b}T}\\int \\langle \\sigma_{xy}\\sigma_{xy}\\rangle+ \\langle \\sigma_{yz}\\sigma_{yz}\\rangle+ \\langle \\sigma_{zx}\\sigma_{zx}\\rangle dt$. Experimentally the viscosity is $1.030$ mN s m ${}^{-2}$ [1]. Long simulations and repeats are required for accuracy, but try 1000 fs.\n",
    "\n",
    "You will find the pre-equilibrated structure ```NaCl-1040.xyz``` useful!\n",
    "\n",
    "[1] Janz, G.J., 1980. Molten salts data as reference standards for density, surface tension, viscosity, and electrical conductance: KNO3 and NaCl. Journal of physical and chemical reference data, 9(4), pp.791-830.\n",
    "\n",
    "#### Melting\n",
    "\n",
    "Try heating the NaCl crystal ```../data/NaCl.xyz``` up to 1080 K using the temperature ramp options in NPT. To keep cell angles constant, you will want to add the options\n",
    "\n",
    "```\n",
    "ensemble_kwargs:\n",
    "  mask: [[1,0,0],[0,1,0],[0,0,1]]\n",
    "```\n",
    "```temp_time: 2000``` would be good if you have a GPU. You can also \"cheat\" by staring from ```NaCl-1000.xyz```\n",
    "\n",
    "Experimentally NaCl melts at about 1074 Kelvin at atmospheric pressure."
   ]
  }
 ],
 "metadata": {
  "accelerator": "GPU",
  "colab": {
   "authorship_tag": "ABX9TyNvtIsPHVgkt0NvUv51T6ZG",
   "gpuType": "T4",
   "include_colab_link": true,
   "private_outputs": true,
   "provenance": []
  },
  "kernelspec": {
   "display_name": ".venv",
   "language": "python",
   "name": "python3"
  },
  "language_info": {
   "codemirror_mode": {
    "name": "ipython",
    "version": 3
   },
   "file_extension": ".py",
   "mimetype": "text/x-python",
   "name": "python",
   "nbconvert_exporter": "python",
   "pygments_lexer": "ipython3",
   "version": "3.12.8"
  }
 },
 "nbformat": 4,
 "nbformat_minor": 0
}
