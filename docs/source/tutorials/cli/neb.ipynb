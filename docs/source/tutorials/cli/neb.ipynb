{
 "cells": [
  {
   "cell_type": "markdown",
   "metadata": {
    "colab_type": "text",
    "id": "view-in-github"
   },
   "source": [
    "[![Open In Colab](https://colab.research.google.com/assets/colab-badge.svg)](https://colab.research.google.com/github/stfc/janus-core/blob/main/docs/source/tutorials/cli/neb.ipynb)"
   ]
  },
  {
   "cell_type": "markdown",
   "metadata": {},
   "source": [
    "# Nudged Elastic Band"
   ]
  },
  {
   "cell_type": "markdown",
   "metadata": {
    "id": "4vcbRxmIhHLL"
   },
   "source": [
    "`janus-core` contains various machine learnt interatomic potentials (MLIPs), including MACE based models (MACE-MP, MACE-OFF), CHGNet, SevenNet and more, full list on https://github.com/stfc/janus-core.\n",
    "\n",
    "Other will be added as their utility is proven beyond a specific material."
   ]
  },
  {
   "cell_type": "markdown",
   "metadata": {},
   "source": [
    "## Aim\n",
    "\n",
    "We showcase the use of NEB with janus and MLIPs by studying Ethanol oxidation reactions catalyzed by water molecules, the full study was carried out in this paper Chemical Physics Letters 363 (2002) 80–86\n",
    "\n",
    "https://doi.org/10.1016/S0009-2614(02)01142-9"
   ]
  },
  {
   "cell_type": "markdown",
   "metadata": {},
   "source": [
    "## Set up environment (optional)\n",
    "\n",
    "These steps are required to run this tutorial with Google Colab. To do so, uncomment and run the cell below.\n",
    "\n",
    "This will replace pre-installed versions of `numpy` and `torch` in Colab with versions that are known to be compatible with `janus-core`.\n",
    "\n",
    "It may be possible to skip the steps that uninstall and reinstall `torch`, which will save a considerable amount of time.\n",
    "\n",
    "These instructions but may work for other systems too, but it is typically preferable to prepare a virtual environment separately before running this notebook if possible."
   ]
  },
  {
   "cell_type": "code",
   "execution_count": null,
   "metadata": {
    "id": "TF-EiWxyuMc7"
   },
   "outputs": [],
   "source": [
    "# import locale\n",
    "# locale.getpreferredencoding = lambda: \"UTF-8\"\n",
    "\n",
    "# ! pip uninstall numpy -y # Uninstall pre-installed numpy\n",
    "\n",
    "# ! pip uninstall torch torchaudio torchvision transformers -y # Uninstall pre-installed torch\n",
    "# ! uv pip install torch==2.5.1 # Install pinned version of torch\n",
    "\n",
    "# ! uv pip install janus-core[mace,visualise] data-tutorials --system # Install janus-core with MACE and WeasWidget, and data-tutorials\n",
    "\n",
    "# get_ipython().kernel.do_shutdown(restart=True) # Restart kernel to update libraries. This may warn that your session has crashed."
   ]
  },
  {
   "cell_type": "markdown",
   "metadata": {},
   "source": [
    "To ensure you have the latest version of `janus-core` installed, compare the output of the following cell to the latest version available at https://pypi.org/project/janus-core/"
   ]
  },
  {
   "cell_type": "code",
   "execution_count": null,
   "metadata": {},
   "outputs": [],
   "source": [
    "from janus_core import __version__\n",
    "\n",
    "print(__version__)"
   ]
  },
  {
   "cell_type": "markdown",
   "metadata": {},
   "source": [
    "## Prepare data"
   ]
  },
  {
   "cell_type": "markdown",
   "metadata": {},
   "source": [
    "Use `data_tutorials` to get the data required for this tutorial:"
   ]
  },
  {
   "cell_type": "code",
   "execution_count": null,
   "metadata": {},
   "outputs": [],
   "source": [
    "from data_tutorials.data import get_data\n",
    "\n",
    "get_data(\n",
    "    url=\"https://raw.githubusercontent.com/stfc/janus-core/main/docs/source/tutorials/data/\",\n",
    "    filename=[\"ethanol_reactants.extxyz\", \"ethanol_products.extxyz\",\"ethanol_reactants_1water.extxyz\",\"ethanol_products_1water.extxyz\",\"ethanol_reactants_2water.extxyz\",\"ethanol_products_2water.extxyz\"],\n",
    "    folder=\"../data\",\n",
    ")"
   ]
  },
  {
   "cell_type": "markdown",
   "metadata": {},
   "source": [
    "## Command-line help and options"
   ]
  },
  {
   "cell_type": "markdown",
   "metadata": {},
   "source": [
    "Once `janus-core` is installed, the `janus` CLI command should be available:"
   ]
  },
  {
   "cell_type": "code",
   "execution_count": null,
   "metadata": {},
   "outputs": [],
   "source": [
    "! janus neb --help"
   ]
  },
  {
   "cell_type": "markdown",
   "metadata": {},
   "source": [
    "## run a simple Nudged Elastic Bands\n",
    "\n",
    "### 0 water molecules case"
   ]
  },
  {
   "cell_type": "code",
   "execution_count": null,
   "metadata": {},
   "outputs": [],
   "source": [
    "%%writefile neb.yml\n",
    "\n",
    "init_struct: ../data/ethanol_reactants.extxyz\n",
    "final_struct: ../data/ethanol_products.extxyz\n",
    "n_images: 11\n",
    "device: cpu\n",
    "arch: mace_mp\n",
    "minimize: True\n",
    "plot_band: True\n",
    "write_band: True\n",
    "calc_kwargs:\n",
    "      dispersion: True\n",
    "      model: medium-omat-0\n",
    "tracker: False"
   ]
  },
  {
   "cell_type": "markdown",
   "metadata": {},
   "source": [
    "visualise the inputs"
   ]
  },
  {
   "cell_type": "code",
   "execution_count": null,
   "metadata": {},
   "outputs": [],
   "source": [
    "from ase.io import read\n",
    "from weas_widget import WeasWidget\n",
    "\n",
    "r = read(\"../data/ethanol_reactants.extxyz\")\n",
    "p = read(\"../data/ethanol_products.extxyz\")\n",
    "\n",
    "v=WeasWidget()\n",
    "v.from_ase([r,p])\n",
    "v.avr.model_style = 1\n",
    "v.avr.show_hydrogen_bonds = True\n",
    "v\n"
   ]
  },
  {
   "cell_type": "code",
   "execution_count": null,
   "metadata": {},
   "outputs": [],
   "source": [
    "!janus neb --config neb.yml"
   ]
  },
  {
   "cell_type": "code",
   "execution_count": null,
   "metadata": {},
   "outputs": [],
   "source": [
    "!ls janus_results/"
   ]
  },
  {
   "cell_type": "code",
   "execution_count": null,
   "metadata": {},
   "outputs": [],
   "source": [
    "from IPython.display import SVG, display\n",
    "display(SVG(\"janus_results/ethanol_reactants-neb-plot.svg\"))"
   ]
  },
  {
   "cell_type": "code",
   "execution_count": null,
   "metadata": {},
   "outputs": [],
   "source": [
    "nebp = read(\"janus_results/ethanol_reactants-neb-band.extxyz\", index=\":\")\n",
    "\n",
    "w=WeasWidget()\n",
    "w.from_ase(nebp)\n",
    "w.avr.model_style = 1\n",
    "w.avr.show_hydrogen_bonds = True\n",
    "w"
   ]
  },
  {
   "cell_type": "markdown",
   "metadata": {},
   "source": [
    "is the barrier realistic? compare with the numbers from the paper.\n",
    "\n",
    "### 1 water molecule\n",
    "\n",
    "we can use the previous config and just overwrite the init and final structures"
   ]
  },
  {
   "cell_type": "code",
   "execution_count": null,
   "metadata": {},
   "outputs": [],
   "source": [
    "! janus neb --config neb.yml --init-struct ../data/ethanol_reactants_1water.extxyz --final-struct ../data/ethanol_products_1water.extxyz"
   ]
  },
  {
   "cell_type": "code",
   "execution_count": null,
   "metadata": {},
   "outputs": [],
   "source": [
    "!ls janus_results/"
   ]
  },
  {
   "cell_type": "code",
   "execution_count": null,
   "metadata": {},
   "outputs": [],
   "source": [
    "display(SVG(\"janus_results/ethanol_reactants_1water-neb-plot.svg\"))"
   ]
  },
  {
   "cell_type": "code",
   "execution_count": null,
   "metadata": {},
   "outputs": [],
   "source": [
    "from ase.io import read\n",
    "from weas_widget import WeasWidget\n",
    "nebp = read(\"janus_results/ethanol_reactants_1water-neb-band.extxyz\", index=\":\")\n",
    "\n",
    "w1=WeasWidget()\n",
    "w1.from_ase(nebp)\n",
    "w1.avr.model_style = 1\n",
    "w1.avr.show_hydrogen_bonds = True\n",
    "w1"
   ]
  },
  {
   "cell_type": "markdown",
   "metadata": {},
   "source": [
    "### 2 water molecules"
   ]
  },
  {
   "cell_type": "code",
   "execution_count": null,
   "metadata": {},
   "outputs": [],
   "source": [
    "! janus neb --config neb.yml --init-struct ../data/ethanol_reactants_2water.extxyz --final-struct ../data/ethanol_products_2water.extxyz"
   ]
  },
  {
   "cell_type": "code",
   "execution_count": null,
   "metadata": {},
   "outputs": [],
   "source": [
    "display(SVG(\"janus_results/ethanol_reactants_2water-neb-plot.svg\"))"
   ]
  },
  {
   "cell_type": "code",
   "execution_count": null,
   "metadata": {},
   "outputs": [],
   "source": [
    "from ase.io import read\n",
    "from weas_widget import WeasWidget\n",
    "nebp = read(\"janus_results/ethanol_reactants_2water-neb-band.extxyz\", index=\":\")\n",
    "\n",
    "w2=WeasWidget()\n",
    "w2.from_ase(nebp)\n",
    "w2.avr.model_style = 1\n",
    "w2.avr.show_hydrogen_bonds = True\n",
    "w2"
   ]
  },
  {
   "cell_type": "markdown",
   "metadata": {},
   "source": [
    "### extra bits\n",
    "\n",
    "\n",
    "- analyse the barrier height trend.\n",
    "- consider redoing the same exercise with a different potential... remember if you use mace-off dispersion needs to be off.\n"
   ]
  }
 ],
 "metadata": {
  "accelerator": "GPU",
  "colab": {
   "authorship_tag": "ABX9TyNvtIsPHVgkt0NvUv51T6ZG",
   "gpuType": "T4",
   "include_colab_link": true,
   "private_outputs": true,
   "provenance": []
  },
  "kernelspec": {
   "display_name": ".venv",
   "language": "python",
   "name": "python3"
  },
  "language_info": {
   "codemirror_mode": {
    "name": "ipython",
    "version": 3
   },
   "file_extension": ".py",
   "mimetype": "text/x-python",
   "name": "python",
   "nbconvert_exporter": "python",
   "pygments_lexer": "ipython3",
   "version": "3.12.8"
  }
 },
 "nbformat": 4,
 "nbformat_minor": 4
}
