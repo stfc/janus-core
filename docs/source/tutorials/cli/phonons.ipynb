{
 "cells": [
  {
   "cell_type": "markdown",
   "metadata": {
    "colab_type": "text",
    "id": "view-in-github"
   },
   "source": [
    "[![Open In Colab](https://colab.research.google.com/assets/colab-badge.svg)](https://colab.research.google.com/github/stfc/janus-core/blob/main/docs/source/tutorials/cli/phonons.ipynb)"
   ]
  },
  {
   "cell_type": "markdown",
   "metadata": {},
   "source": [
    "# Command-line interface (CLI) for phonons calculations"
   ]
  },
  {
   "cell_type": "markdown",
   "metadata": {
    "id": "4vcbRxmIhHLL"
   },
   "source": [
    "`janus-core` contains an interface to [phonopy](https://phonopy.github.io/phonopy/) to compute phonons and ready made workflows these calculations."
   ]
  },
  {
   "cell_type": "markdown",
   "metadata": {},
   "source": [
    "## Set up environment (optional)\n",
    "\n",
    "These steps are required for Google Colab, but may work on other systems too:"
   ]
  },
  {
   "cell_type": "code",
   "execution_count": null,
   "metadata": {
    "id": "TF-EiWxyuMc7"
   },
   "outputs": [],
   "source": [
    "# import locale\n",
    "# locale.getpreferredencoding = lambda: \"UTF-8\"\n",
    "\n",
    "# ! pip uninstall torch torchaudio torchvision numpy -y\n",
    "# ! uv pip install janus-core[all] data-tutorials torch==2.5.1 --system\n",
    "# get_ipython().kernel.do_shutdown(restart=True)"
   ]
  },
  {
   "cell_type": "markdown",
   "metadata": {},
   "source": [
    "Use `data_tutorials` to get the data required for this tutorial:"
   ]
  },
  {
   "cell_type": "code",
   "execution_count": null,
   "metadata": {},
   "outputs": [],
   "source": [
    "from data_tutorials.data import get_data\n",
    "\n",
    "get_data(\n",
    "    url=\"https://raw.githubusercontent.com/stfc/janus-tutorials/main/data/\",\n",
    "    filename=[\"NaCl.cif\"],\n",
    "    folder=\"data\",\n",
    ")"
   ]
  },
  {
   "cell_type": "markdown",
   "metadata": {},
   "source": [
    "view the data"
   ]
  },
  {
   "cell_type": "code",
   "execution_count": null,
   "metadata": {},
   "outputs": [],
   "source": [
    "from ase.io import read\n",
    "from weas_widget import WeasWidget\n",
    "\n",
    "NaCl = read(\"data/NaCl.cif\")\n",
    "print(NaCl.cell)\n",
    "v=WeasWidget()\n",
    "v.from_ase(NaCl)\n",
    "v.avr.model_style = 1\n",
    "v"
   ]
  },
  {
   "cell_type": "markdown",
   "metadata": {},
   "source": [
    "## Command-line help and options"
   ]
  },
  {
   "cell_type": "markdown",
   "metadata": {},
   "source": [
    "Once `janus-core` is installed, the `janus phonons`  command should be available. You may want to execute it in a real terminal to see all the options."
   ]
  },
  {
   "cell_type": "code",
   "execution_count": null,
   "metadata": {},
   "outputs": [],
   "source": [
    "! janus phonons --help"
   ]
  },
  {
   "cell_type": "markdown",
   "metadata": {},
   "source": [
    "## simple calculation\n",
    "\n",
    "start by creating a config for the calculations. In this we performs\n",
    "\n",
    "- geometry optimisation\n",
    "- force constants calculations\n",
    "- band structure (on a path determined by seekpath)\n",
    "- density of states calculation"
   ]
  },
  {
   "cell_type": "code",
   "execution_count": null,
   "metadata": {},
   "outputs": [],
   "source": [
    "%%writefile phonons.yml\n",
    "\n",
    "supercell: 2 2 2\n",
    "displacement: 0.001\n",
    "fmax: 1.0e-6\n",
    "bands: True\n",
    "dos: True\n",
    "minimize: True\n",
    "minimize-kwargs:\n",
    "  write_results: True\n",
    "arch: mace_mp\n",
    "write-full: False\n",
    "plot-to-file: True\n",
    "calc-kwargs:\n",
    "    model:  medium-mpa-0\n",
    "device: cpu\n",
    "tracker: False"
   ]
  },
  {
   "cell_type": "markdown",
   "metadata": {},
   "source": [
    "now run the calculation itself"
   ]
  },
  {
   "cell_type": "code",
   "execution_count": null,
   "metadata": {},
   "outputs": [],
   "source": [
    "! janus phonons --config phonons.yml --struct data/NaCl.cif"
   ]
  },
  {
   "cell_type": "markdown",
   "metadata": {},
   "source": [
    "explore the results"
   ]
  },
  {
   "cell_type": "code",
   "execution_count": null,
   "metadata": {},
   "outputs": [],
   "source": [
    "!ls janus_results/"
   ]
  },
  {
   "cell_type": "code",
   "execution_count": null,
   "metadata": {},
   "outputs": [],
   "source": [
    "from IPython.display import SVG, display\n",
    "\n",
    "NaCl_opt = read(\"janus_results/NaCl-opt.extxyz\")\n",
    "print(NaCl_opt.cell)\n",
    "display(SVG(\"janus_results/NaCl-bands.svg\"))\n",
    "display(SVG(\"janus_results/NaCl-dos.svg\"))"
   ]
  },
  {
   "cell_type": "markdown",
   "metadata": {},
   "source": [
    "## advanced options\n",
    "\n",
    "we compute thermal properties and also we specify the granularity of the DOS"
   ]
  },
  {
   "cell_type": "code",
   "execution_count": null,
   "metadata": {},
   "outputs": [],
   "source": [
    "%%writefile phonons-adv.yml\n",
    "\n",
    "supercell: 2 2 2\n",
    "displacement: 0.001\n",
    "fmax: 1.0e-6\n",
    "thermal: True\n",
    "temp-min: 0\n",
    "temp-max: 1000\n",
    "temp-step: 10\n",
    "bands: True\n",
    "dos: True\n",
    "pdos: False\n",
    "dos-kwargs:\n",
    "  freq_pitch: 0.05\n",
    "mesh: [11,11,11]\n",
    "minimize: True\n",
    "minimize-kwargs:\n",
    "  write_results: True\n",
    "arch: mace_mp\n",
    "write-full: False\n",
    "plot-to-file: True\n",
    "calc-kwargs:\n",
    "    dispersion: False\n",
    "    skin: 0 \n",
    "    model:  medium-mpa-0\n",
    "device: cpu\n",
    "tracker: False"
   ]
  },
  {
   "cell_type": "code",
   "execution_count": null,
   "metadata": {},
   "outputs": [],
   "source": [
    "! janus phonons --config phonons-adv.yml --struct data/NaCl.cif"
   ]
  },
  {
   "cell_type": "code",
   "execution_count": null,
   "metadata": {},
   "outputs": [],
   "source": [
    "!ls janus_results/"
   ]
  },
  {
   "cell_type": "code",
   "execution_count": null,
   "metadata": {},
   "outputs": [],
   "source": [
    "from IPython.display import SVG, display\n",
    "display(SVG(\"janus_results/NaCl-bands.svg\"))\n",
    "display(SVG(\"janus_results/NaCl-dos.svg\"))"
   ]
  },
  {
   "cell_type": "markdown",
   "metadata": {},
   "source": [
    "## phonons under pressure\n"
   ]
  },
  {
   "cell_type": "code",
   "execution_count": null,
   "metadata": {},
   "outputs": [],
   "source": [
    "%%writefile phonons-pressure.yml\n",
    "\n",
    "supercell: 2 2 2\n",
    "displacement: 0.001\n",
    "fmax: 1.0e-6\n",
    "thermal: True\n",
    "temp-min: 0\n",
    "temp-max: 1000\n",
    "temp-step: 10\n",
    "bands: True\n",
    "dos: True\n",
    "pdos: False\n",
    "dos-kwargs:\n",
    "  freq_pitch: 0.05\n",
    "mesh: [11,11,11]\n",
    "minimize: True\n",
    "minimize-kwargs:\n",
    "  write_results: True\n",
    "  filter_kwargs:\n",
    "      scalar_pressure: 1.0\n",
    "arch: mace_mp\n",
    "write-full: False\n",
    "plot-to-file: True\n",
    "calc-kwargs:\n",
    "    dispersion: False\n",
    "    skin: 0 \n",
    "    model:  medium-mpa-0\n",
    "device: cpu\n",
    "tracker: False"
   ]
  },
  {
   "cell_type": "code",
   "execution_count": null,
   "metadata": {},
   "outputs": [],
   "source": [
    "! janus phonons --config phonons-pressure.yml --struct data/NaCl.cif"
   ]
  },
  {
   "cell_type": "code",
   "execution_count": null,
   "metadata": {},
   "outputs": [],
   "source": [
    "from IPython.display import SVG, display\n",
    "display(SVG(\"janus_results/NaCl-bands.svg\"))\n",
    "display(SVG(\"janus_results/NaCl-dos.svg\"))"
   ]
  },
  {
   "cell_type": "markdown",
   "metadata": {},
   "source": [
    "## isotropic optimisation of the cell"
   ]
  },
  {
   "cell_type": "code",
   "execution_count": null,
   "metadata": {},
   "outputs": [],
   "source": [
    "%%writefile phonons-iso.yml\n",
    "\n",
    "supercell: 2 2 2\n",
    "displacement: 0.001\n",
    "fmax: 1.0e-6\n",
    "thermal: True\n",
    "temp-min: 0\n",
    "temp-max: 1000\n",
    "temp-step: 10\n",
    "bands: True\n",
    "dos: True\n",
    "pdos: False\n",
    "dos-kwargs:\n",
    "  freq_pitch: 0.05\n",
    "mesh: [11,11,11]\n",
    "minimize: True\n",
    "minimize-kwargs:\n",
    "  write_results: True\n",
    "  filter_kwargs:\n",
    "    hydrostatic_strain: True\n",
    "arch: mace_mp\n",
    "write-full: False\n",
    "plot-to-file: True\n",
    "calc-kwargs:\n",
    "    dispersion: False\n",
    "    skin: 0 \n",
    "    model:  medium-mpa-0\n",
    "device: cpu\n",
    "tracker: False"
   ]
  },
  {
   "cell_type": "code",
   "execution_count": null,
   "metadata": {},
   "outputs": [],
   "source": [
    "!janus phonons --config phonons-iso.yml --struct data/NaCl.cif"
   ]
  },
  {
   "cell_type": "code",
   "execution_count": null,
   "metadata": {},
   "outputs": [],
   "source": [
    "from IPython.display import SVG, display\n",
    "display(SVG(\"janus_results/NaCl-bands.svg\"))\n",
    "display(SVG(\"janus_results/NaCl-dos.svg\"))"
   ]
  },
  {
   "cell_type": "markdown",
   "metadata": {},
   "source": [
    "## using a path for band structure\n",
    "\n",
    "download mof-5.cif and paths.yaml from examples folder"
   ]
  },
  {
   "cell_type": "code",
   "execution_count": null,
   "metadata": {},
   "outputs": [],
   "source": [
    "get_data(\n",
    "    url=\"https://raw.githubusercontent.com/stfc/janus-core/main/docs/source/tutorials/data/\",\n",
    "    filename=[\"mof-5.cif\",\"paths.yaml\"],\n",
    "    folder=\"data\",\n",
    ")"
   ]
  },
  {
   "cell_type": "code",
   "execution_count": null,
   "metadata": {},
   "outputs": [],
   "source": [
    "mof5 = read(\"data/mof-5.cif\")\n",
    "v=WeasWidget()\n",
    "v.from_ase(mof5)\n",
    "v.avr.model_style = 1\n",
    "v"
   ]
  },
  {
   "cell_type": "code",
   "execution_count": null,
   "metadata": {},
   "outputs": [],
   "source": [
    "%%writefile phonons-mof5.yml\n",
    "\n",
    "supercell: 1 1 1\n",
    "displacement: 0.001\n",
    "fmax: 1.0e-6\n",
    "thermal: True\n",
    "temp-min: 0\n",
    "temp-max: 1000\n",
    "temp-step: 10\n",
    "bands: True\n",
    "dos: True\n",
    "pdos: False\n",
    "dos-kwargs:\n",
    "  freq_pitch: 0.05\n",
    "mesh: [11,11,11]\n",
    "minimize: True\n",
    "minimize-kwargs:\n",
    "  write_results: True\n",
    "arch: mace_mp\n",
    "write-full: False\n",
    "plot-to-file: True\n",
    "calc-kwargs:\n",
    "    dispersion: False\n",
    "    skin: 0 \n",
    "    model:  medium-mpa-0\n",
    "device: cpu\n",
    "tracker: False"
   ]
  },
  {
   "cell_type": "markdown",
   "metadata": {},
   "source": [
    "please note parameters here are chosen for speed rather than correctness"
   ]
  },
  {
   "cell_type": "code",
   "execution_count": null,
   "metadata": {},
   "outputs": [],
   "source": [
    "! janus phonons --config phonons-mof5.yml --struct data/mof-5.cif"
   ]
  },
  {
   "cell_type": "code",
   "execution_count": null,
   "metadata": {},
   "outputs": [],
   "source": [
    "!ls janus_results/"
   ]
  },
  {
   "cell_type": "code",
   "execution_count": null,
   "metadata": {},
   "outputs": [],
   "source": [
    "from IPython.display import SVG, display\n",
    "display(SVG(\"janus_results/mof-5-bs-dos.svg\"))"
   ]
  },
  {
   "cell_type": "code",
   "execution_count": null,
   "metadata": {},
   "outputs": [],
   "source": [
    "%%writefile phonons-mof5-path.yml\n",
    "\n",
    "supercell: 1 1 1\n",
    "displacement: 0.001\n",
    "fmax: 1.0e-6\n",
    "thermal: True\n",
    "temp-min: 0\n",
    "temp-max: 1000\n",
    "temp-step: 10\n",
    "bands: True\n",
    "dos: True\n",
    "pdos: False\n",
    "dos-kwargs:\n",
    "  freq_pitch: 0.05\n",
    "mesh: [11,11,11]\n",
    "qpoint-file: data/paths.yaml\n",
    "minimize: True\n",
    "minimize-kwargs:\n",
    "  write_results: True\n",
    "arch: mace_mp\n",
    "write-full: False\n",
    "plot-to-file: True\n",
    "calc-kwargs:\n",
    "    dispersion: False\n",
    "    skin: 0 \n",
    "    model:  medium-mpa-0\n",
    "device: cpu\n",
    "tracker: False"
   ]
  },
  {
   "cell_type": "code",
   "execution_count": null,
   "metadata": {},
   "outputs": [],
   "source": [
    "! janus phonons --config phonons-mof5-path.yml --struct data/mof-5.cif"
   ]
  },
  {
   "cell_type": "code",
   "execution_count": null,
   "metadata": {},
   "outputs": [],
   "source": [
    "! ls janus_results/"
   ]
  },
  {
   "cell_type": "code",
   "execution_count": null,
   "metadata": {},
   "outputs": [],
   "source": [
    "display(SVG(\"janus_results/mof-5-bs-dos.svg\"))"
   ]
  },
  {
   "cell_type": "markdown",
   "metadata": {},
   "source": [
    "## extra bits\n",
    "\n",
    "now as a challenge you can do a more realistic example, change the above example to\n",
    "-  use a 2 2 2 supercell \n",
    "- use a more accurate model for MoFs mof0_v2 from here https://github.com/ddmms/data/tree/main/mace-mof-0/v2\n",
    "\n",
    "this is part of this paper if you want to know more: https://arxiv.org/abs/2412.02877"
   ]
  }
 ],
 "metadata": {
  "accelerator": "GPU",
  "colab": {
   "authorship_tag": "ABX9TyNvtIsPHVgkt0NvUv51T6ZG",
   "gpuType": "T4",
   "include_colab_link": true,
   "private_outputs": true,
   "provenance": []
  },
  "kernelspec": {
   "display_name": "Python 3",
   "language": "python",
   "name": "python3"
  },
  "language_info": {
   "codemirror_mode": {
    "name": "ipython",
    "version": 3
   },
   "file_extension": ".py",
   "mimetype": "text/x-python",
   "name": "python",
   "nbconvert_exporter": "python",
   "pygments_lexer": "ipython3",
   "version": "3.12.0"
  }
 },
 "nbformat": 4,
 "nbformat_minor": 4
}
