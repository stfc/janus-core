{
 "cells": [
  {
   "cell_type": "markdown",
   "metadata": {
    "colab_type": "text",
    "id": "view-in-github"
   },
   "source": [
    "[![Open In Colab](https://colab.research.google.com/assets/colab-badge.svg)](https://colab.research.google.com/github/stfc/janus-core/blob/main/docs/source/tutorials/cli/singlepoint.ipynb)"
   ]
  },
  {
   "cell_type": "markdown",
   "metadata": {},
   "source": [
    "# Single Point"
   ]
  },
  {
   "cell_type": "markdown",
   "metadata": {
    "id": "4vcbRxmIhHLL"
   },
   "source": [
    "`janus-core` contains various machine learnt interatomic potentials (MLIPs), including MACE based models (MACE-MP, MACE-OFF), CHGNet, SevenNet and more, full list on https://github.com/stfc/janus-core.\n",
    "\n",
    "Other will be added as their utility is proven beyond a specific material."
   ]
  },
  {
   "cell_type": "markdown",
   "metadata": {},
   "source": [
    "## Set up environment (optional)\n",
    "\n",
    "These steps are required for Google Colab, but may work on other systems too:"
   ]
  },
  {
   "cell_type": "code",
   "execution_count": null,
   "metadata": {
    "id": "TF-EiWxyuMc7"
   },
   "outputs": [],
   "source": [
    "# import locale\n",
    "# locale.getpreferredencoding = lambda: \"UTF-8\"\n",
    "\n",
    "# ! pip uninstall torch torchaudio torchvision numpy -y\n",
    "# ! uv pip install janus-core[all] data-tutorials torch==2.5.1 --system\n",
    "# get_ipython().kernel.do_shutdown(restart=True)"
   ]
  },
  {
   "cell_type": "markdown",
   "metadata": {},
   "source": [
    "Use `data_tutorials` to get the data required for this tutorial:"
   ]
  },
  {
   "cell_type": "code",
   "execution_count": null,
   "metadata": {},
   "outputs": [],
   "source": [
    "from data_tutorials.data import get_data\n",
    "\n",
    "get_data(\n",
    "    url=\"https://raw.githubusercontent.com/stfc/janus-core/main/docs/source/tutorials/data/\",\n",
    "    filename=[\"NaCl-set.xyz\"],\n",
    "    folder=\"../data\",\n",
    ")"
   ]
  },
  {
   "cell_type": "markdown",
   "metadata": {},
   "source": [
    "## Command-line help and options"
   ]
  },
  {
   "cell_type": "markdown",
   "metadata": {},
   "source": [
    "Once `janus-core` is installed, the `janus` CLI command should be available:"
   ]
  },
  {
   "cell_type": "code",
   "execution_count": 1,
   "metadata": {},
   "outputs": [
    {
     "name": "stdout",
     "output_type": "stream",
     "text": [
      "\u001b[1m                                                                                \u001b[0m\n",
      "\u001b[1m \u001b[0m\u001b[1;33mUsage: \u001b[0m\u001b[1mjanus [OPTIONS] COMMAND [ARGS]...\u001b[0m\u001b[1m                                      \u001b[0m\u001b[1m \u001b[0m\n",
      "\u001b[1m                                                                                \u001b[0m\n",
      "\u001b[2m╭─\u001b[0m\u001b[2m Options \u001b[0m\u001b[2m───────────────────────────────────────────────────────────────────\u001b[0m\u001b[2m─╮\u001b[0m\n",
      "\u001b[2m│\u001b[0m \u001b[1;36m-\u001b[0m\u001b[1;36m-version\u001b[0m                     Print janus version and exit.                  \u001b[2m│\u001b[0m\n",
      "\u001b[2m│\u001b[0m \u001b[1;36m-\u001b[0m\u001b[1;36m-install\u001b[0m\u001b[1;36m-completion\u001b[0m          Install completion for the current shell.      \u001b[2m│\u001b[0m\n",
      "\u001b[2m│\u001b[0m \u001b[1;36m-\u001b[0m\u001b[1;36m-show\u001b[0m\u001b[1;36m-completion\u001b[0m             Show completion for the current shell, to copy \u001b[2m│\u001b[0m\n",
      "\u001b[2m│\u001b[0m                               it or customize the installation.              \u001b[2m│\u001b[0m\n",
      "\u001b[2m│\u001b[0m \u001b[1;36m-\u001b[0m\u001b[1;36m-help\u001b[0m                        Show this message and exit.                    \u001b[2m│\u001b[0m\n",
      "\u001b[2m╰──────────────────────────────────────────────────────────────────────────────╯\u001b[0m\n",
      "\u001b[2m╭─\u001b[0m\u001b[2m Commands \u001b[0m\u001b[2m──────────────────────────────────────────────────────────────────\u001b[0m\u001b[2m─╮\u001b[0m\n",
      "\u001b[2m│\u001b[0m \u001b[1;36msinglepoint \u001b[0m\u001b[1;36m \u001b[0m Perform single point calculations and save to file.            \u001b[2m│\u001b[0m\n",
      "\u001b[2m│\u001b[0m \u001b[1;36mgeomopt     \u001b[0m\u001b[1;36m \u001b[0m Perform geometry optimization and save optimized structure to  \u001b[2m│\u001b[0m\n",
      "\u001b[2m│\u001b[0m \u001b[1;36m             \u001b[0m file.                                                          \u001b[2m│\u001b[0m\n",
      "\u001b[2m│\u001b[0m \u001b[1;36mmd          \u001b[0m\u001b[1;36m \u001b[0m Run molecular dynamics simulation, and save trajectory and     \u001b[2m│\u001b[0m\n",
      "\u001b[2m│\u001b[0m \u001b[1;36m             \u001b[0m statistics.                                                    \u001b[2m│\u001b[0m\n",
      "\u001b[2m│\u001b[0m \u001b[1;36mphonons     \u001b[0m\u001b[1;36m \u001b[0m Calculate phonons and save results.                            \u001b[2m│\u001b[0m\n",
      "\u001b[2m│\u001b[0m \u001b[1;36meos         \u001b[0m\u001b[1;36m \u001b[0m Calculate equation of state.                                   \u001b[2m│\u001b[0m\n",
      "\u001b[2m│\u001b[0m \u001b[1;36mneb         \u001b[0m\u001b[1;36m \u001b[0m Run Nudged Elastic Band method.                                \u001b[2m│\u001b[0m\n",
      "\u001b[2m│\u001b[0m \u001b[1;36mdescriptors \u001b[0m\u001b[1;36m \u001b[0m Calculate MLIP descriptors.                                    \u001b[2m│\u001b[0m\n",
      "\u001b[2m│\u001b[0m \u001b[1;36mtrain       \u001b[0m\u001b[1;36m \u001b[0m Running training for an MLIP.                                  \u001b[2m│\u001b[0m\n",
      "\u001b[2m│\u001b[0m \u001b[1;36mpreprocess  \u001b[0m\u001b[1;36m \u001b[0m Running preprocessing for an MLIP.                             \u001b[2m│\u001b[0m\n",
      "\u001b[2m╰──────────────────────────────────────────────────────────────────────────────╯\u001b[0m\n",
      "\n"
     ]
    }
   ],
   "source": [
    "! janus --help"
   ]
  },
  {
   "cell_type": "markdown",
   "metadata": {},
   "source": [
    "Help for individual `janus` commands also be requested, describing all available options: "
   ]
  },
  {
   "cell_type": "code",
   "execution_count": 2,
   "metadata": {},
   "outputs": [
    {
     "name": "stdout",
     "output_type": "stream",
     "text": [
      "\u001b[1m                                                                                \u001b[0m\n",
      "\u001b[1m \u001b[0m\u001b[1;33mUsage: \u001b[0m\u001b[1mjanus singlepoint [OPTIONS]\u001b[0m\u001b[1m                                            \u001b[0m\u001b[1m \u001b[0m\n",
      "\u001b[1m                                                                                \u001b[0m\n",
      " Perform single point calculations and save to file.                            \n",
      "                                                                                \n",
      "\u001b[2m╭─\u001b[0m\u001b[2m Options \u001b[0m\u001b[2m───────────────────────────────────────────────────────────────────\u001b[0m\u001b[2m─╮\u001b[0m\n",
      "\u001b[2m│\u001b[0m \u001b[31m*\u001b[0m  \u001b[1;36m-\u001b[0m\u001b[1;36m-struct\u001b[0m                          \u001b[1;33mPATH              \u001b[0m  Path of structure   \u001b[2m│\u001b[0m\n",
      "\u001b[2m│\u001b[0m                                                          to simulate.        \u001b[2m│\u001b[0m\n",
      "\u001b[2m│\u001b[0m                                                          \u001b[2m[default: None]    \u001b[0m \u001b[2m│\u001b[0m\n",
      "\u001b[2m│\u001b[0m                                                          \u001b[2;31m[required]         \u001b[0m \u001b[2m│\u001b[0m\n",
      "\u001b[2m│\u001b[0m    \u001b[1;36m-\u001b[0m\u001b[1;36m-arch\u001b[0m                            \u001b[1;2;33m[\u001b[0m\u001b[1;33mmace\u001b[0m\u001b[1;2;33m|\u001b[0m\u001b[1;33mmace_mp\u001b[0m\u001b[1;2;33m|\u001b[0m\u001b[1;33mmace\u001b[0m  MLIP architecture   \u001b[2m│\u001b[0m\n",
      "\u001b[2m│\u001b[0m                                      \u001b[1;33m_off\u001b[0m\u001b[1;2;33m|\u001b[0m\u001b[1;33mm3gnet\u001b[0m\u001b[1;2;33m|\u001b[0m\u001b[1;33mchgnet\u001b[0m  to use for          \u001b[2m│\u001b[0m\n",
      "\u001b[2m│\u001b[0m                                      \u001b[1;2;33m|\u001b[0m\u001b[1;33malignn\u001b[0m\u001b[1;2;33m|\u001b[0m\u001b[1;33msevennet\u001b[0m\u001b[1;2;33m|\u001b[0m\u001b[1;33mn\u001b[0m  calculations.       \u001b[2m│\u001b[0m\n",
      "\u001b[2m│\u001b[0m                                      \u001b[1;33mequip\u001b[0m\u001b[1;2;33m|\u001b[0m\u001b[1;33mdpa3\u001b[0m\u001b[1;2;33m|\u001b[0m\u001b[1;33morb\u001b[0m\u001b[1;2;33m|\u001b[0m\u001b[1;33mmat\u001b[0m  \u001b[2m[default: mace_mp] \u001b[0m \u001b[2m│\u001b[0m\n",
      "\u001b[2m│\u001b[0m                                      \u001b[1;33mtersim\u001b[0m\u001b[1;2;33m]\u001b[0m\u001b[1;33m           \u001b[0m                      \u001b[2m│\u001b[0m\n",
      "\u001b[2m│\u001b[0m    \u001b[1;36m-\u001b[0m\u001b[1;36m-device\u001b[0m                          \u001b[1;2;33m[\u001b[0m\u001b[1;33mcpu\u001b[0m\u001b[1;2;33m|\u001b[0m\u001b[1;33mcuda\u001b[0m\u001b[1;2;33m|\u001b[0m\u001b[1;33mmps\u001b[0m\u001b[1;2;33m|\u001b[0m\u001b[1;33mxpu\u001b[0m\u001b[1;2;33m]\u001b[0m  Device to run       \u001b[2m│\u001b[0m\n",
      "\u001b[2m│\u001b[0m                                                          calculations on.    \u001b[2m│\u001b[0m\n",
      "\u001b[2m│\u001b[0m                                                          \u001b[2m[default: cpu]     \u001b[0m \u001b[2m│\u001b[0m\n",
      "\u001b[2m│\u001b[0m    \u001b[1;36m-\u001b[0m\u001b[1;36m-model\u001b[0m\u001b[1;36m-path\u001b[0m                      \u001b[1;33mTEXT              \u001b[0m  Path to MLIP model. \u001b[2m│\u001b[0m\n",
      "\u001b[2m│\u001b[0m                                                          \u001b[2m[default: None]    \u001b[0m \u001b[2m│\u001b[0m\n",
      "\u001b[2m│\u001b[0m    \u001b[1;36m-\u001b[0m\u001b[1;36m-properties\u001b[0m                      \u001b[1;2;33m[\u001b[0m\u001b[1;33menergy\u001b[0m\u001b[1;2;33m|\u001b[0m\u001b[1;33mstress\u001b[0m\u001b[1;2;33m|\u001b[0m\u001b[1;33mfor\u001b[0m  Properties to       \u001b[2m│\u001b[0m\n",
      "\u001b[2m│\u001b[0m                                      \u001b[1;33mces\u001b[0m\u001b[1;2;33m|\u001b[0m\u001b[1;33mhessian\u001b[0m\u001b[1;2;33m]\u001b[0m\u001b[1;33m      \u001b[0m  calculate. If not   \u001b[2m│\u001b[0m\n",
      "\u001b[2m│\u001b[0m                                                          specified,          \u001b[2m│\u001b[0m\n",
      "\u001b[2m│\u001b[0m                                                          'energy', 'forces'  \u001b[2m│\u001b[0m\n",
      "\u001b[2m│\u001b[0m                                                          and 'stress' will   \u001b[2m│\u001b[0m\n",
      "\u001b[2m│\u001b[0m                                                          be returned.        \u001b[2m│\u001b[0m\n",
      "\u001b[2m│\u001b[0m                                                          \u001b[2m[default: None]    \u001b[0m \u001b[2m│\u001b[0m\n",
      "\u001b[2m│\u001b[0m    \u001b[1;36m-\u001b[0m\u001b[1;36m-file\u001b[0m\u001b[1;36m-prefix\u001b[0m                     \u001b[1;33mPATH              \u001b[0m  Prefix for output   \u001b[2m│\u001b[0m\n",
      "\u001b[2m│\u001b[0m                                                          files, including    \u001b[2m│\u001b[0m\n",
      "\u001b[2m│\u001b[0m                                                          directories.        \u001b[2m│\u001b[0m\n",
      "\u001b[2m│\u001b[0m                                                          Default directory   \u001b[2m│\u001b[0m\n",
      "\u001b[2m│\u001b[0m                                                          is ./janus_results, \u001b[2m│\u001b[0m\n",
      "\u001b[2m│\u001b[0m                                                          and default         \u001b[2m│\u001b[0m\n",
      "\u001b[2m│\u001b[0m                                                          filename prefix is  \u001b[2m│\u001b[0m\n",
      "\u001b[2m│\u001b[0m                                                          inferred from the   \u001b[2m│\u001b[0m\n",
      "\u001b[2m│\u001b[0m                                                          input stucture      \u001b[2m│\u001b[0m\n",
      "\u001b[2m│\u001b[0m                                                          filename.           \u001b[2m│\u001b[0m\n",
      "\u001b[2m│\u001b[0m                                                          \u001b[2m[default: None]    \u001b[0m \u001b[2m│\u001b[0m\n",
      "\u001b[2m│\u001b[0m    \u001b[1;36m-\u001b[0m\u001b[1;36m-out\u001b[0m                             \u001b[1;33mPATH              \u001b[0m  Path to save        \u001b[2m│\u001b[0m\n",
      "\u001b[2m│\u001b[0m                                                          structure with      \u001b[2m│\u001b[0m\n",
      "\u001b[2m│\u001b[0m                                                          calculated results. \u001b[2m│\u001b[0m\n",
      "\u001b[2m│\u001b[0m                                                          Default is inferred \u001b[2m│\u001b[0m\n",
      "\u001b[2m│\u001b[0m                                                          from `file_prefix`. \u001b[2m│\u001b[0m\n",
      "\u001b[2m│\u001b[0m                                                          \u001b[2m[default: None]    \u001b[0m \u001b[2m│\u001b[0m\n",
      "\u001b[2m│\u001b[0m    \u001b[1;36m-\u001b[0m\u001b[1;36m-read\u001b[0m\u001b[1;36m-kwargs\u001b[0m                     \u001b[1;33mDICT              \u001b[0m  Keyword arguments   \u001b[2m│\u001b[0m\n",
      "\u001b[2m│\u001b[0m                                                          to pass to          \u001b[2m│\u001b[0m\n",
      "\u001b[2m│\u001b[0m                                                          ase.io.read. Must   \u001b[2m│\u001b[0m\n",
      "\u001b[2m│\u001b[0m                                                          be passed as a      \u001b[2m│\u001b[0m\n",
      "\u001b[2m│\u001b[0m                                                          dictionary wrapped  \u001b[2m│\u001b[0m\n",
      "\u001b[2m│\u001b[0m                                                          in quotes, e.g.     \u001b[2m│\u001b[0m\n",
      "\u001b[2m│\u001b[0m                                                          \"{'key': value}\".   \u001b[2m│\u001b[0m\n",
      "\u001b[2m│\u001b[0m                                                          By default,         \u001b[2m│\u001b[0m\n",
      "\u001b[2m│\u001b[0m                                                          read_kwargs['index… \u001b[2m│\u001b[0m\n",
      "\u001b[2m│\u001b[0m                                                          = ':', so all       \u001b[2m│\u001b[0m\n",
      "\u001b[2m│\u001b[0m                                                          structures are      \u001b[2m│\u001b[0m\n",
      "\u001b[2m│\u001b[0m                                                          read.               \u001b[2m│\u001b[0m\n",
      "\u001b[2m│\u001b[0m                                                          \u001b[2m[default: None]    \u001b[0m \u001b[2m│\u001b[0m\n",
      "\u001b[2m│\u001b[0m    \u001b[1;36m-\u001b[0m\u001b[1;36m-calc\u001b[0m\u001b[1;36m-kwargs\u001b[0m                     \u001b[1;33mDICT              \u001b[0m  Keyword arguments   \u001b[2m│\u001b[0m\n",
      "\u001b[2m│\u001b[0m                                                          to pass to selected \u001b[2m│\u001b[0m\n",
      "\u001b[2m│\u001b[0m                                                          calculator. Must be \u001b[2m│\u001b[0m\n",
      "\u001b[2m│\u001b[0m                                                          passed as a         \u001b[2m│\u001b[0m\n",
      "\u001b[2m│\u001b[0m                                                          dictionary wrapped  \u001b[2m│\u001b[0m\n",
      "\u001b[2m│\u001b[0m                                                          in quotes, e.g.     \u001b[2m│\u001b[0m\n",
      "\u001b[2m│\u001b[0m                                                          \"{'key': value}\".   \u001b[2m│\u001b[0m\n",
      "\u001b[2m│\u001b[0m                                                          For the default     \u001b[2m│\u001b[0m\n",
      "\u001b[2m│\u001b[0m                                                          architecture        \u001b[2m│\u001b[0m\n",
      "\u001b[2m│\u001b[0m                                                          ('mace_mp'),        \u001b[2m│\u001b[0m\n",
      "\u001b[2m│\u001b[0m                                                          \"{'model':          \u001b[2m│\u001b[0m\n",
      "\u001b[2m│\u001b[0m                                                          'small'}\" is set    \u001b[2m│\u001b[0m\n",
      "\u001b[2m│\u001b[0m                                                          unless overwritten. \u001b[2m│\u001b[0m\n",
      "\u001b[2m│\u001b[0m                                                          \u001b[2m[default: None]    \u001b[0m \u001b[2m│\u001b[0m\n",
      "\u001b[2m│\u001b[0m    \u001b[1;36m-\u001b[0m\u001b[1;36m-write\u001b[0m\u001b[1;36m-kwargs\u001b[0m                    \u001b[1;33mDICT              \u001b[0m  Keyword arguments   \u001b[2m│\u001b[0m\n",
      "\u001b[2m│\u001b[0m                                                          to pass to          \u001b[2m│\u001b[0m\n",
      "\u001b[2m│\u001b[0m                                                          ase.io.write when   \u001b[2m│\u001b[0m\n",
      "\u001b[2m│\u001b[0m                                                          saving results.     \u001b[2m│\u001b[0m\n",
      "\u001b[2m│\u001b[0m                                                          Must be passed as a \u001b[2m│\u001b[0m\n",
      "\u001b[2m│\u001b[0m                                                          dictionary wrapped  \u001b[2m│\u001b[0m\n",
      "\u001b[2m│\u001b[0m                                                          in quotes, e.g.     \u001b[2m│\u001b[0m\n",
      "\u001b[2m│\u001b[0m                                                          \"{'key': value}\".   \u001b[2m│\u001b[0m\n",
      "\u001b[2m│\u001b[0m                                                          \u001b[2m[default: None]    \u001b[0m \u001b[2m│\u001b[0m\n",
      "\u001b[2m│\u001b[0m    \u001b[1;36m-\u001b[0m\u001b[1;36m-log\u001b[0m                             \u001b[1;33mPATH              \u001b[0m  Path to save logs   \u001b[2m│\u001b[0m\n",
      "\u001b[2m│\u001b[0m                                                          to. Default is      \u001b[2m│\u001b[0m\n",
      "\u001b[2m│\u001b[0m                                                          inferred from       \u001b[2m│\u001b[0m\n",
      "\u001b[2m│\u001b[0m                                                          `file_prefix`       \u001b[2m│\u001b[0m\n",
      "\u001b[2m│\u001b[0m                                                          \u001b[2m[default: None]    \u001b[0m \u001b[2m│\u001b[0m\n",
      "\u001b[2m│\u001b[0m    \u001b[1;36m-\u001b[0m\u001b[1;36m-tracker\u001b[0m         \u001b[1;35m-\u001b[0m\u001b[1;35m-no\u001b[0m\u001b[1;35m-tracker\u001b[0m    \u001b[1;33m                  \u001b[0m  Whether to save     \u001b[2m│\u001b[0m\n",
      "\u001b[2m│\u001b[0m                                                          carbon emissions of \u001b[2m│\u001b[0m\n",
      "\u001b[2m│\u001b[0m                                                          calculation         \u001b[2m│\u001b[0m\n",
      "\u001b[2m│\u001b[0m                                                          \u001b[2m[default: tracker] \u001b[0m \u001b[2m│\u001b[0m\n",
      "\u001b[2m│\u001b[0m    \u001b[1;36m-\u001b[0m\u001b[1;36m-summary\u001b[0m                         \u001b[1;33mPATH              \u001b[0m  Path to save        \u001b[2m│\u001b[0m\n",
      "\u001b[2m│\u001b[0m                                                          summary of inputs,  \u001b[2m│\u001b[0m\n",
      "\u001b[2m│\u001b[0m                                                          start/end time, and \u001b[2m│\u001b[0m\n",
      "\u001b[2m│\u001b[0m                                                          carbon emissions.   \u001b[2m│\u001b[0m\n",
      "\u001b[2m│\u001b[0m                                                          Default is inferred \u001b[2m│\u001b[0m\n",
      "\u001b[2m│\u001b[0m                                                          from `file_prefix`. \u001b[2m│\u001b[0m\n",
      "\u001b[2m│\u001b[0m                                                          \u001b[2m[default: None]    \u001b[0m \u001b[2m│\u001b[0m\n",
      "\u001b[2m│\u001b[0m    \u001b[1;36m-\u001b[0m\u001b[1;36m-config\u001b[0m                          \u001b[1;33mTEXT              \u001b[0m  Configuration file. \u001b[2m│\u001b[0m\n",
      "\u001b[2m│\u001b[0m    \u001b[1;36m-\u001b[0m\u001b[1;36m-help\u001b[0m                            \u001b[1;33m                  \u001b[0m  Show this message   \u001b[2m│\u001b[0m\n",
      "\u001b[2m│\u001b[0m                                                          and exit.           \u001b[2m│\u001b[0m\n",
      "\u001b[2m╰──────────────────────────────────────────────────────────────────────────────╯\u001b[0m\n",
      "\n"
     ]
    }
   ],
   "source": [
    "! janus singlepoint --help"
   ]
  },
  {
   "cell_type": "markdown",
   "metadata": {
    "id": "857K7R9Cenca"
   },
   "source": [
    "## Running single point calculations"
   ]
  },
  {
   "cell_type": "markdown",
   "metadata": {},
   "source": [
    "First, we need a file to perform calculations on. Here, we build a periodic salt structure, visualise it, and write out to a file."
   ]
  },
  {
   "cell_type": "markdown",
   "metadata": {},
   "source": [
    "<div class=\"alert alert-block alert-info\">\n",
    "<b>Tip:</b> We use the ASE and WEAS Widget libaries here to build the structure and visualise it.\n",
    "We discuss these tools in more detail in the Python tutorials. \n",
    "</div>"
   ]
  },
  {
   "cell_type": "code",
   "execution_count": 3,
   "metadata": {},
   "outputs": [
    {
     "data": {
      "application/vnd.jupyter.widget-view+json": {
       "model_id": "e6a68a6461844ca18b6dd6bfbc160176",
       "version_major": 2,
       "version_minor": 0
      },
      "text/plain": [
       "WeasWidget(children=(BaseWidget(atoms={'species': {'Na': 'Na', 'Cl': 'Cl'}, 'cell': [5.63, 0.0, 0.0, 0.0, 5.63…"
      ]
     },
     "execution_count": 3,
     "metadata": {},
     "output_type": "execute_result"
    }
   ],
   "source": [
    "from ase.build import bulk\n",
    "from ase.io import write\n",
    "from weas_widget import WeasWidget\n",
    "\n",
    "NaCl = bulk(\"NaCl\", \"rocksalt\", a=5.63, cubic=True)\n",
    "\n",
    "write(\"../data/NaCl.xyz\", NaCl)\n",
    "\n",
    "v=WeasWidget()\n",
    "v.from_ase(NaCl)\n",
    "v.avr.model_style = 1\n",
    "v.avr.show_hydrogen_bonds = True\n",
    "v"
   ]
  },
  {
   "cell_type": "markdown",
   "metadata": {},
   "source": [
    "Now we can use an MLIP to run single point calculations. By default, this uses the MACE-MP model:"
   ]
  },
  {
   "cell_type": "code",
   "execution_count": 4,
   "metadata": {},
   "outputs": [
    {
     "name": "stdout",
     "output_type": "stream",
     "text": [
      "/Users/elliottkasoar/Documents/PSDI/janus-core/.venv/lib/python3.12/site-packages/e3nn/o3/_wigner.py:10: FutureWarning: You are using `torch.load` with `weights_only=False` (the current default value), which uses the default pickle module implicitly. It is possible to construct malicious pickle data which will execute arbitrary code during unpickling (See https://github.com/pytorch/pytorch/blob/main/SECURITY.md#untrusted-models for more details). In a future release, the default value for `weights_only` will be flipped to `True`. This limits the functions that could be executed during unpickling. Arbitrary objects will no longer be allowed to be loaded via this mode unless they are explicitly allowlisted by the user via `torch.serialization.add_safe_globals`. We recommend you start setting `weights_only=True` for any use case where you don't have full control of the loaded file. Please open an issue on GitHub for any issues related to this experimental feature.\n",
      "  _Jd, _W3j_flat, _W3j_indices = torch.load(os.path.join(os.path.dirname(__file__), 'constants.pt'))\n",
      "cuequivariance or cuequivariance_torch is not available. Cuequivariance acceleration will be disabled.\n",
      "Using Materials Project MACE for MACECalculator with /Users/elliottkasoar/.cache/mace/20231210mace128L0_energy_epoch249model\n",
      "Using float64 for MACECalculator, which is slower but more accurate. Recommended for geometry optimization.\n",
      "/Users/elliottkasoar/Documents/PSDI/janus-core/.venv/lib/python3.12/site-packages/mace/calculators/mace.py:139: FutureWarning: You are using `torch.load` with `weights_only=False` (the current default value), which uses the default pickle module implicitly. It is possible to construct malicious pickle data which will execute arbitrary code during unpickling (See https://github.com/pytorch/pytorch/blob/main/SECURITY.md#untrusted-models for more details). In a future release, the default value for `weights_only` will be flipped to `True`. This limits the functions that could be executed during unpickling. Arbitrary objects will no longer be allowed to be loaded via this mode unless they are explicitly allowlisted by the user via `torch.serialization.add_safe_globals`. We recommend you start setting `weights_only=True` for any use case where you don't have full control of the loaded file. Please open an issue on GitHub for any issues related to this experimental feature.\n",
      "  torch.load(f=model_path, map_location=device)\n"
     ]
    }
   ],
   "source": [
    "! janus singlepoint --struct ../data/NaCl.xyz --no-tracker"
   ]
  },
  {
   "cell_type": "markdown",
   "metadata": {},
   "source": [
    "Results from CLI calculations are saved in a newly created directory, `janus_results`:"
   ]
  },
  {
   "cell_type": "code",
   "execution_count": 5,
   "metadata": {},
   "outputs": [
    {
     "name": "stdout",
     "output_type": "stream",
     "text": [
      "NaCl-results.extxyz          NaCl-singlepoint-summary.yml\n",
      "NaCl-singlepoint-log.yml\n"
     ]
    }
   ],
   "source": [
    "! ls janus_results/"
   ]
  },
  {
   "cell_type": "markdown",
   "metadata": {},
   "source": [
    "We can now read the output file back into ASE, to see the saved energy, stresses, and forces:"
   ]
  },
  {
   "cell_type": "code",
   "execution_count": 6,
   "metadata": {},
   "outputs": [],
   "source": [
    "from ase.io import read\n",
    "\n",
    "results = read(\"janus_results/NaCl-results.extxyz\")"
   ]
  },
  {
   "cell_type": "code",
   "execution_count": 7,
   "metadata": {},
   "outputs": [
    {
     "name": "stdout",
     "output_type": "stream",
     "text": [
      "Energy: -27.0300815358917\n",
      "\n",
      "Stress: [-5.81654699e-03 -5.81654699e-03 -5.81654699e-03  5.97331032e-20\n",
      "  2.42708931e-19 -2.73642450e-20]\n",
      "\n",
      "Forces: [[ 0.  0. -0.]\n",
      " [-0.  0.  0.]\n",
      " [ 0.  0.  0.]\n",
      " [-0.  0.  0.]\n",
      " [-0. -0. -0.]\n",
      " [-0.  0. -0.]\n",
      " [ 0.  0. -0.]\n",
      " [-0.  0. -0.]]\n"
     ]
    }
   ],
   "source": [
    "print(f\"Energy: {results.info['mace_mp_energy']}\")\n",
    "print()\n",
    "print(f\"Stress: {results.info['mace_mp_stress']}\")\n",
    "print()\n",
    "print(f\"Forces: {results.arrays['mace_mp_forces']}\")"
   ]
  },
  {
   "cell_type": "markdown",
   "metadata": {},
   "source": [
    "We can check the units corresponding to these quantities, which are also saved in the \"info\" dictionary:"
   ]
  },
  {
   "cell_type": "code",
   "execution_count": 8,
   "metadata": {},
   "outputs": [
    {
     "name": "stdout",
     "output_type": "stream",
     "text": [
      "{'energy': 'eV', 'forces': 'ev/Ang', 'stress': 'ev/Ang^3'}\n"
     ]
    }
   ],
   "source": [
    "print(results.info[\"units\"])"
   ]
  },
  {
   "cell_type": "markdown",
   "metadata": {},
   "source": [
    "## Using configuration files"
   ]
  },
  {
   "cell_type": "markdown",
   "metadata": {},
   "source": [
    "All options to `janus` commands can be specified through a YAML input file. These are text files of the form:\n",
    "\n",
    "```bash\n",
    "key: value\n",
    "list_key:\n",
    "  - list_value_1\n",
    "  - list_value_2\n",
    "nested_key_1:\n",
    "  nested_key_2: nested_value\n",
    "```\n",
    "\n",
    "which, in Python, would correspond to a dictionary of the form:\n",
    "\n",
    "```python\n",
    "{\n",
    "    \"key\": value,\n",
    "    \"list_key\": [list_value_1, list_value_2],\n",
    "    \"nested_key\": {\"nested_key_2\": nested_value},\n",
    "}\n",
    "```\n",
    "\n",
    "Although you can specify every option, let's first write a minimal configuration file for `janus singlepoint`:"
   ]
  },
  {
   "cell_type": "code",
   "execution_count": 9,
   "metadata": {},
   "outputs": [
    {
     "name": "stdout",
     "output_type": "stream",
     "text": [
      "Writing singlepoint_config_1.yml\n"
     ]
    }
   ],
   "source": [
    "%%writefile singlepoint_config_1.yml\n",
    "\n",
    "struct: ../data/NaCl.xyz\n",
    "tracker: False"
   ]
  },
  {
   "cell_type": "code",
   "execution_count": 10,
   "metadata": {},
   "outputs": [
    {
     "name": "stdout",
     "output_type": "stream",
     "text": [
      "\n",
      "struct: ../data/NaCl.xyz\n",
      "tracker: False\n"
     ]
    }
   ],
   "source": [
    "! cat singlepoint_config_1.yml"
   ]
  },
  {
   "cell_type": "markdown",
   "metadata": {},
   "source": [
    "We can then use this configuration file to re-run the calculation:"
   ]
  },
  {
   "cell_type": "code",
   "execution_count": 11,
   "metadata": {},
   "outputs": [
    {
     "name": "stdout",
     "output_type": "stream",
     "text": [
      "/Users/elliottkasoar/Documents/PSDI/janus-core/.venv/lib/python3.12/site-packages/e3nn/o3/_wigner.py:10: FutureWarning: You are using `torch.load` with `weights_only=False` (the current default value), which uses the default pickle module implicitly. It is possible to construct malicious pickle data which will execute arbitrary code during unpickling (See https://github.com/pytorch/pytorch/blob/main/SECURITY.md#untrusted-models for more details). In a future release, the default value for `weights_only` will be flipped to `True`. This limits the functions that could be executed during unpickling. Arbitrary objects will no longer be allowed to be loaded via this mode unless they are explicitly allowlisted by the user via `torch.serialization.add_safe_globals`. We recommend you start setting `weights_only=True` for any use case where you don't have full control of the loaded file. Please open an issue on GitHub for any issues related to this experimental feature.\n",
      "  _Jd, _W3j_flat, _W3j_indices = torch.load(os.path.join(os.path.dirname(__file__), 'constants.pt'))\n",
      "cuequivariance or cuequivariance_torch is not available. Cuequivariance acceleration will be disabled.\n",
      "Using Materials Project MACE for MACECalculator with /Users/elliottkasoar/.cache/mace/20231210mace128L0_energy_epoch249model\n",
      "Using float64 for MACECalculator, which is slower but more accurate. Recommended for geometry optimization.\n",
      "/Users/elliottkasoar/Documents/PSDI/janus-core/.venv/lib/python3.12/site-packages/mace/calculators/mace.py:139: FutureWarning: You are using `torch.load` with `weights_only=False` (the current default value), which uses the default pickle module implicitly. It is possible to construct malicious pickle data which will execute arbitrary code during unpickling (See https://github.com/pytorch/pytorch/blob/main/SECURITY.md#untrusted-models for more details). In a future release, the default value for `weights_only` will be flipped to `True`. This limits the functions that could be executed during unpickling. Arbitrary objects will no longer be allowed to be loaded via this mode unless they are explicitly allowlisted by the user via `torch.serialization.add_safe_globals`. We recommend you start setting `weights_only=True` for any use case where you don't have full control of the loaded file. Please open an issue on GitHub for any issues related to this experimental feature.\n",
      "  torch.load(f=model_path, map_location=device)\n"
     ]
    }
   ],
   "source": [
    "! janus singlepoint --config singlepoint_config_1.yml"
   ]
  },
  {
   "cell_type": "markdown",
   "metadata": {},
   "source": [
    "Options in the configuration files can be overwritten when running a command. For example, the following configuration file also defines the `file_prefix`, which specifies any directories and the prefix of the file names to be output:"
   ]
  },
  {
   "cell_type": "code",
   "execution_count": 12,
   "metadata": {},
   "outputs": [
    {
     "name": "stdout",
     "output_type": "stream",
     "text": [
      "Writing singlepoint_config_2.yml\n"
     ]
    }
   ],
   "source": [
    "%%writefile singlepoint_config_2.yml\n",
    "\n",
    "struct: ../data/NaCl.xyz\n",
    "file_prefix: examples/NaCl\n",
    "tracker: False"
   ]
  },
  {
   "cell_type": "markdown",
   "metadata": {},
   "source": [
    "We can now use this configuration file, but replace `file_prefix`:"
   ]
  },
  {
   "cell_type": "code",
   "execution_count": 13,
   "metadata": {},
   "outputs": [
    {
     "name": "stdout",
     "output_type": "stream",
     "text": [
      "/Users/elliottkasoar/Documents/PSDI/janus-core/.venv/lib/python3.12/site-packages/e3nn/o3/_wigner.py:10: FutureWarning: You are using `torch.load` with `weights_only=False` (the current default value), which uses the default pickle module implicitly. It is possible to construct malicious pickle data which will execute arbitrary code during unpickling (See https://github.com/pytorch/pytorch/blob/main/SECURITY.md#untrusted-models for more details). In a future release, the default value for `weights_only` will be flipped to `True`. This limits the functions that could be executed during unpickling. Arbitrary objects will no longer be allowed to be loaded via this mode unless they are explicitly allowlisted by the user via `torch.serialization.add_safe_globals`. We recommend you start setting `weights_only=True` for any use case where you don't have full control of the loaded file. Please open an issue on GitHub for any issues related to this experimental feature.\n",
      "  _Jd, _W3j_flat, _W3j_indices = torch.load(os.path.join(os.path.dirname(__file__), 'constants.pt'))\n",
      "cuequivariance or cuequivariance_torch is not available. Cuequivariance acceleration will be disabled.\n",
      "Using Materials Project MACE for MACECalculator with /Users/elliottkasoar/.cache/mace/20231210mace128L0_energy_epoch249model\n",
      "Using float64 for MACECalculator, which is slower but more accurate. Recommended for geometry optimization.\n",
      "/Users/elliottkasoar/Documents/PSDI/janus-core/.venv/lib/python3.12/site-packages/mace/calculators/mace.py:139: FutureWarning: You are using `torch.load` with `weights_only=False` (the current default value), which uses the default pickle module implicitly. It is possible to construct malicious pickle data which will execute arbitrary code during unpickling (See https://github.com/pytorch/pytorch/blob/main/SECURITY.md#untrusted-models for more details). In a future release, the default value for `weights_only` will be flipped to `True`. This limits the functions that could be executed during unpickling. Arbitrary objects will no longer be allowed to be loaded via this mode unless they are explicitly allowlisted by the user via `torch.serialization.add_safe_globals`. We recommend you start setting `weights_only=True` for any use case where you don't have full control of the loaded file. Please open an issue on GitHub for any issues related to this experimental feature.\n",
      "  torch.load(f=model_path, map_location=device)\n"
     ]
    }
   ],
   "source": [
    "! janus singlepoint --config singlepoint_config_2.yml --file-prefix outputs/salt"
   ]
  },
  {
   "cell_type": "markdown",
   "metadata": {},
   "source": [
    "<div class=\"alert alert-block alert-info\">\n",
    "<b>Note:</b> In the CLI, multi-word arguments must be separated by \"-\".\n",
    "In configuration files, they are preferably separated by \"_\", although \"-\" should be converted automatically.\n",
    "</div>"
   ]
  },
  {
   "cell_type": "markdown",
   "metadata": {},
   "source": [
    "This creates a new output directory, `outputs`, as well as starting all output files with \"salt-\""
   ]
  },
  {
   "cell_type": "code",
   "execution_count": 14,
   "metadata": {},
   "outputs": [
    {
     "name": "stdout",
     "output_type": "stream",
     "text": [
      "salt-results.extxyz          salt-singlepoint-summary.yml\n",
      "salt-singlepoint-log.yml\n"
     ]
    }
   ],
   "source": [
    "! ls outputs"
   ]
  },
  {
   "cell_type": "markdown",
   "metadata": {},
   "source": [
    "## Running multiple calculations"
   ]
  },
  {
   "cell_type": "markdown",
   "metadata": {},
   "source": [
    "By default, results from `janus singlepoint` are saved in two forms. For energies, this is an \"info\" dictionary, and a \"results\" dictionary.\n",
    "\n",
    "One set of dictionary keys will be labelled with the MLIP model used (\"mace_mp_energy\", \"mace_mp_stress\", \"mace_mp_forces\"), which ensures these are not overwritten when running calculations with multiple models.\n",
    "\n",
    "The unlabelled set of keys (\"energy\", \"forces\", \"stress\") allow ASE to use the results for further calculations, but will be overwritten if a new calculation is run."
   ]
  },
  {
   "cell_type": "code",
   "execution_count": 15,
   "metadata": {},
   "outputs": [
    {
     "name": "stdout",
     "output_type": "stream",
     "text": [
      "dict_keys(['units', 'model_path', 'arch', 'mace_mp_stress', 'mace_mp_energy', 'system_name'])\n",
      "dict_keys(['numbers', 'positions', 'mace_mp_forces'])\n",
      "dict_keys(['forces', 'energy', 'free_energy', 'stress'])\n",
      "\n",
      "-27.0300815358917\n",
      "-27.0300815358917\n",
      "-27.0300815358917\n"
     ]
    }
   ],
   "source": [
    "print(results.info.keys())\n",
    "print(results.arrays.keys())\n",
    "print(results.calc.results.keys())\n",
    "\n",
    "print()\n",
    "print(results.calc.results[\"energy\"])\n",
    "print(results.get_potential_energy())\n",
    "print(results.get_total_energy())"
   ]
  },
  {
   "cell_type": "markdown",
   "metadata": {},
   "source": [
    "For example, if we re-run the calculation using SevenNet, saving the results to a new output file, we see that \"mace_mp_energy\" is still saved, other unlabelled results are updated:"
   ]
  },
  {
   "cell_type": "code",
   "execution_count": 16,
   "metadata": {},
   "outputs": [
    {
     "name": "stdout",
     "output_type": "stream",
     "text": [
      "/Users/elliottkasoar/Documents/PSDI/janus-core/.venv/lib/python3.12/site-packages/e3nn/o3/_wigner.py:10: FutureWarning: You are using `torch.load` with `weights_only=False` (the current default value), which uses the default pickle module implicitly. It is possible to construct malicious pickle data which will execute arbitrary code during unpickling (See https://github.com/pytorch/pytorch/blob/main/SECURITY.md#untrusted-models for more details). In a future release, the default value for `weights_only` will be flipped to `True`. This limits the functions that could be executed during unpickling. Arbitrary objects will no longer be allowed to be loaded via this mode unless they are explicitly allowlisted by the user via `torch.serialization.add_safe_globals`. We recommend you start setting `weights_only=True` for any use case where you don't have full control of the loaded file. Please open an issue on GitHub for any issues related to this experimental feature.\n",
      "  _Jd, _W3j_flat, _W3j_indices = torch.load(os.path.join(os.path.dirname(__file__), 'constants.pt'))\n"
     ]
    }
   ],
   "source": [
    "! janus singlepoint --struct janus_results/NaCl-results.extxyz --arch sevennet --out janus_results/NaCl-updated-results.extxyz --no-tracker"
   ]
  },
  {
   "cell_type": "code",
   "execution_count": 17,
   "metadata": {},
   "outputs": [],
   "source": [
    "updated_results = read(\"janus_results/NaCl-updated-results.extxyz\")"
   ]
  },
  {
   "cell_type": "code",
   "execution_count": 18,
   "metadata": {},
   "outputs": [
    {
     "name": "stdout",
     "output_type": "stream",
     "text": [
      "dict_keys(['units', 'model_path', 'arch', 'mace_mp_energy', 'mace_mp_stress', 'system_name', 'sevennet_stress', 'sevennet_energy'])\n",
      "dict_keys(['numbers', 'positions', 'mace_mp_forces', 'sevennet_forces'])\n",
      "dict_keys(['energies', 'forces', 'free_energy', 'energy', 'stress'])\n",
      "\n",
      "-27.0300815358917\n",
      "-27.057369232177734\n",
      "-27.057369232177734\n",
      "-27.057369232177734\n",
      "-27.057369232177734\n"
     ]
    }
   ],
   "source": [
    "print(updated_results.info.keys())\n",
    "print(updated_results.arrays.keys())\n",
    "print(updated_results.calc.results.keys())\n",
    "\n",
    "print()\n",
    "print(updated_results.info[\"mace_mp_energy\"])\n",
    "print(updated_results.info[\"sevennet_energy\"])\n",
    "print(updated_results.calc.results[\"energy\"])\n",
    "print(updated_results.get_potential_energy())\n",
    "print(updated_results.get_total_energy())"
   ]
  },
  {
   "cell_type": "markdown",
   "metadata": {},
   "source": [
    "## Output files"
   ]
  },
  {
   "cell_type": "markdown",
   "metadata": {},
   "source": [
    "In addition to the resulting structure file, all calculations run through the CLI generate log (`NaCl-singlepoint-log.yml`) and summary (`NaCl-singlepoint-summary.yml`) files.\n",
    "\n",
    "In this case, the log file captures timestamps for the start and end of the calculation, but it will also capture any Python warnings generated, and carbon tracking information:"
   ]
  },
  {
   "cell_type": "code",
   "execution_count": 19,
   "metadata": {},
   "outputs": [
    {
     "name": "stdout",
     "output_type": "stream",
     "text": [
      "\n",
      "- timestamp: 2025-03-31 15:37:17,643\n",
      "  level: INFO\n",
      "  message: \n",
      "    - \"Starting single point calculation\"\n",
      "  trace: single_point\n",
      "  line: 355\n",
      "\n",
      "\n",
      "- timestamp: 2025-03-31 15:37:17,849\n",
      "  level: INFO\n",
      "  message: \n",
      "    - \"Single point calculation complete\"\n",
      "  trace: single_point\n",
      "  line: 371\n",
      "\n"
     ]
    }
   ],
   "source": [
    "! cat janus_results/NaCl-singlepoint-log.yml"
   ]
  },
  {
   "cell_type": "markdown",
   "metadata": {},
   "source": [
    "The summary file contains:\n",
    "\n",
    "- The main command run\n",
    "- The CLI options specified\n",
    "- Basic information about the structure\n",
    "- Output files generated by the calculation\n",
    "- Start and end times of the calculation\n",
    "- Carbon tracking summary, if applicable "
   ]
  },
  {
   "cell_type": "code",
   "execution_count": 20,
   "metadata": {},
   "outputs": [
    {
     "name": "stdout",
     "output_type": "stream",
     "text": [
      "command: janus singlepoint\n",
      "config:\n",
      "  arch: mace_mp\n",
      "  calc_kwargs: {}\n",
      "  device: cpu\n",
      "  file_prefix: null\n",
      "  log: null\n",
      "  model_path: null\n",
      "  out: null\n",
      "  properties: []\n",
      "  read_kwargs: {}\n",
      "  struct: ../data/NaCl.xyz\n",
      "  summary: null\n",
      "  tracker: false\n",
      "  write_kwargs: {}\n",
      "info:\n",
      "  struct:\n",
      "    formula: Cl4Na4\n",
      "    n_atoms: 8\n",
      "    struct_path: ../data/NaCl.xyz\n",
      "output_files:\n",
      "  log: /Users/elliottkasoar/Documents/PSDI/janus-core/docs/source/tutorials/cli/janus_results/NaCl-singlepoint-log.yml\n",
      "  results: /Users/elliottkasoar/Documents/PSDI/janus-core/docs/source/tutorials/cli/janus_results/NaCl-results.extxyz\n",
      "  summary: /Users/elliottkasoar/Documents/PSDI/janus-core/docs/source/tutorials/cli/janus_results/NaCl-singlepoint-summary.yml\n",
      "start_time: 31/03/2025, 15:37:17\n",
      "end_time: 31/03/2025, 15:37:17\n"
     ]
    }
   ],
   "source": [
    "! cat janus_results/NaCl-singlepoint-summary.yml"
   ]
  },
  {
   "cell_type": "markdown",
   "metadata": {},
   "source": [
    "## Reusing configuration files"
   ]
  },
  {
   "cell_type": "markdown",
   "metadata": {},
   "source": [
    "We can extract the configuration used to run our first calculation from the summary file, reusing it with a slight modification.\n",
    "\n",
    "First, we read in the configuration via the summary file:"
   ]
  },
  {
   "cell_type": "code",
   "execution_count": 21,
   "metadata": {},
   "outputs": [
    {
     "name": "stdout",
     "output_type": "stream",
     "text": [
      "{'arch': 'mace_mp', 'calc_kwargs': {}, 'device': 'cpu', 'file_prefix': None, 'log': None, 'model_path': None, 'out': None, 'properties': [], 'read_kwargs': {}, 'struct': '../data/NaCl.xyz', 'summary': None, 'tracker': False, 'write_kwargs': {}}\n"
     ]
    }
   ],
   "source": [
    "import yaml\n",
    "\n",
    "with open(\"janus_results/NaCl-singlepoint-summary.yml\", encoding=\"utf8\") as file:\n",
    "    summary = yaml.safe_load(file)\n",
    "\n",
    "config = summary[\"config\"]\n",
    "print(config)"
   ]
  },
  {
   "cell_type": "markdown",
   "metadata": {},
   "source": [
    "Next, let's change the structure to run the calculations on, ensure we read all images the file (this is actaully the default for single point calculations), and change the calculated property:"
   ]
  },
  {
   "cell_type": "code",
   "execution_count": 22,
   "metadata": {},
   "outputs": [],
   "source": [
    "config[\"struct\"] = \"../data/NaCl-set.xyz\"\n",
    "config[\"read_kwargs\"] = {\"index\": \":\"} # Key word arguments, passed to ase.io.read`\n",
    "config[\"properties\"] = [\"hessian\"] # This must be a list, even for a single quantity"
   ]
  },
  {
   "cell_type": "markdown",
   "metadata": {},
   "source": [
    "Now, we write this file out, and use it to run our calculation:"
   ]
  },
  {
   "cell_type": "code",
   "execution_count": 23,
   "metadata": {},
   "outputs": [],
   "source": [
    "with open(\"singlepoint_config_3.yml\", \"w\", encoding=\"utf8\") as file:\n",
    "    yaml.dump(config, file)"
   ]
  },
  {
   "cell_type": "code",
   "execution_count": 24,
   "metadata": {},
   "outputs": [
    {
     "name": "stdout",
     "output_type": "stream",
     "text": [
      "arch: mace_mp\n",
      "calc_kwargs: {}\n",
      "device: cpu\n",
      "file_prefix: null\n",
      "log: null\n",
      "model_path: null\n",
      "out: null\n",
      "properties:\n",
      "- hessian\n",
      "read_kwargs:\n",
      "  index: ':'\n",
      "struct: ../data/NaCl-set.xyz\n",
      "summary: null\n",
      "tracker: false\n",
      "write_kwargs: {}\n"
     ]
    }
   ],
   "source": [
    "! cat singlepoint_config_3.yml"
   ]
  },
  {
   "cell_type": "code",
   "execution_count": 25,
   "metadata": {},
   "outputs": [
    {
     "name": "stdout",
     "output_type": "stream",
     "text": [
      "/Users/elliottkasoar/Documents/PSDI/janus-core/.venv/lib/python3.12/site-packages/e3nn/o3/_wigner.py:10: FutureWarning: You are using `torch.load` with `weights_only=False` (the current default value), which uses the default pickle module implicitly. It is possible to construct malicious pickle data which will execute arbitrary code during unpickling (See https://github.com/pytorch/pytorch/blob/main/SECURITY.md#untrusted-models for more details). In a future release, the default value for `weights_only` will be flipped to `True`. This limits the functions that could be executed during unpickling. Arbitrary objects will no longer be allowed to be loaded via this mode unless they are explicitly allowlisted by the user via `torch.serialization.add_safe_globals`. We recommend you start setting `weights_only=True` for any use case where you don't have full control of the loaded file. Please open an issue on GitHub for any issues related to this experimental feature.\n",
      "  _Jd, _W3j_flat, _W3j_indices = torch.load(os.path.join(os.path.dirname(__file__), 'constants.pt'))\n",
      "cuequivariance or cuequivariance_torch is not available. Cuequivariance acceleration will be disabled.\n",
      "Using Materials Project MACE for MACECalculator with /Users/elliottkasoar/.cache/mace/20231210mace128L0_energy_epoch249model\n",
      "Using float64 for MACECalculator, which is slower but more accurate. Recommended for geometry optimization.\n",
      "/Users/elliottkasoar/Documents/PSDI/janus-core/.venv/lib/python3.12/site-packages/mace/calculators/mace.py:139: FutureWarning: You are using `torch.load` with `weights_only=False` (the current default value), which uses the default pickle module implicitly. It is possible to construct malicious pickle data which will execute arbitrary code during unpickling (See https://github.com/pytorch/pytorch/blob/main/SECURITY.md#untrusted-models for more details). In a future release, the default value for `weights_only` will be flipped to `True`. This limits the functions that could be executed during unpickling. Arbitrary objects will no longer be allowed to be loaded via this mode unless they are explicitly allowlisted by the user via `torch.serialization.add_safe_globals`. We recommend you start setting `weights_only=True` for any use case where you don't have full control of the loaded file. Please open an issue on GitHub for any issues related to this experimental feature.\n",
      "  torch.load(f=model_path, map_location=device)\n",
      "\u001b[2KComputing Hessian... \u001b[33m━━━━━━━━━━━━━━━━━━━━━━━━━━━━━━━━━━━━━━━━━━━━━\u001b[0m \u001b[32m11/11\u001b[0m \u001b[36m0:00:00\u001b[0mm \u001b[36m0:00:01\u001b[0m\n",
      "\u001b[?25h"
     ]
    }
   ],
   "source": [
    "! janus singlepoint --config singlepoint_config_3.yml"
   ]
  },
  {
   "cell_type": "markdown",
   "metadata": {},
   "source": [
    "We can read in these results, ensuring we read in all structures from the file:"
   ]
  },
  {
   "cell_type": "code",
   "execution_count": 26,
   "metadata": {},
   "outputs": [],
   "source": [
    "NaCl_set_results = read(\"janus_results/NaCl-set-results.extxyz\", index=\":\")"
   ]
  },
  {
   "cell_type": "code",
   "execution_count": 27,
   "metadata": {},
   "outputs": [
    {
     "name": "stdout",
     "output_type": "stream",
     "text": [
      "[[[ 1.25015779e+01 -1.01554411e-20  1.38595365e-17]\n",
      "  [-1.29279560e+01  0.00000000e+00 -3.19988073e-22]\n",
      "  [ 3.29895005e-01  0.00000000e+00  3.19839641e-18]\n",
      "  [-2.34182749e-01  0.00000000e+00  0.00000000e+00]\n",
      "  [-3.13032441e-02  0.00000000e+00 -1.60461922e-17]\n",
      "  [ 1.96636174e-01  0.00000000e+00 -1.19262239e-18]\n",
      "  [-3.13032441e-02 -3.46944695e-18  0.00000000e+00]\n",
      "  [ 1.96636174e-01  1.19262239e-18  0.00000000e+00]]\n",
      "\n",
      " [[-5.25714643e-21 -7.62354636e-01  5.11595856e-18]\n",
      "  [ 0.00000000e+00  1.52481636e+00 -6.50917606e-19]\n",
      "  [ 0.00000000e+00 -6.53117090e-01  4.98732999e-18]\n",
      "  [ 0.00000000e+00 -4.14234119e-02 -3.46944695e-18]\n",
      "  [ 2.16840434e-19 -4.88497760e-03  1.08420217e-19]\n",
      "  [ 0.00000000e+00 -1.07996124e-01  0.00000000e+00]\n",
      "  [ 1.40946282e-18  2.02868811e-01  0.00000000e+00]\n",
      "  [ 0.00000000e+00 -1.57908927e-01 -1.29769071e-23]]\n",
      "\n",
      " [[-1.37928486e-17 -8.85611216e-21 -7.62354636e-01]\n",
      "  [-2.09289921e-20  1.95148002e-19  1.52481636e+00]\n",
      "  [ 0.00000000e+00  1.73472348e-18 -6.53117090e-01]\n",
      "  [ 8.67361738e-19  0.00000000e+00 -4.14234119e-02]\n",
      "  [ 1.08420217e-18  0.00000000e+00  2.02868811e-01]\n",
      "  [ 0.00000000e+00  0.00000000e+00 -1.57908927e-01]\n",
      "  [-2.16840434e-19  2.16840434e-19 -4.88497760e-03]\n",
      "  [ 0.00000000e+00  8.65754552e-19 -1.07996124e-01]]\n",
      "\n",
      " [[-1.29279560e+01  0.00000000e+00 -7.47754282e-22]\n",
      "  [ 1.25015779e+01 -4.21566393e-20 -5.43837545e-20]\n",
      "  [-2.34182749e-01  0.00000000e+00  4.33680869e-18]\n",
      "  [ 3.29895005e-01  0.00000000e+00 -4.33680869e-19]\n",
      "  [ 1.96636174e-01  0.00000000e+00 -8.67361738e-19]\n",
      "  [-3.13032441e-02  0.00000000e+00 -4.01154804e-18]\n",
      "  [ 1.96636174e-01 -4.33680869e-19  0.00000000e+00]\n",
      "  [-3.13032441e-02 -3.46944695e-18  0.00000000e+00]]\n",
      "\n",
      " [[ 0.00000000e+00  1.52481636e+00  3.99342630e-21]\n",
      "  [ 0.00000000e+00 -7.62354636e-01 -5.25365648e-18]\n",
      "  [ 0.00000000e+00 -4.14234119e-02 -1.73472348e-18]\n",
      "  [ 0.00000000e+00 -6.53117090e-01  3.90312782e-18]\n",
      "  [ 1.08420217e-19 -1.07996124e-01  2.16840434e-19]\n",
      "  [-4.33680869e-19 -4.88497760e-03 -8.67361738e-19]\n",
      "  [ 0.00000000e+00 -1.57908927e-01  0.00000000e+00]\n",
      "  [ 1.19262239e-18  2.02868811e-01  2.16836374e-19]]\n",
      "\n",
      " [[ 3.95859727e-20 -1.11334722e-20  1.52481636e+00]\n",
      "  [-5.32694811e-20 -3.51043463e-18 -7.62354636e-01]\n",
      "  [-8.67361738e-19  0.00000000e+00 -4.14234119e-02]\n",
      "  [ 0.00000000e+00  1.08420217e-18 -6.53117090e-01]\n",
      "  [ 0.00000000e+00  0.00000000e+00 -1.57908927e-01]\n",
      "  [-8.67361738e-19 -4.33680869e-19  2.02868811e-01]\n",
      "  [ 0.00000000e+00  6.50521303e-19 -1.07996124e-01]\n",
      "  [ 5.42101086e-19 -8.65814861e-19 -4.88497760e-03]]\n",
      "\n",
      " [[ 3.29895005e-01  0.00000000e+00  2.29247877e-22]\n",
      "  [-2.34182749e-01  0.00000000e+00 -6.93703464e-18]\n",
      "  [ 1.25015779e+01  0.00000000e+00  0.00000000e+00]\n",
      "  [-1.29279560e+01  0.00000000e+00  0.00000000e+00]\n",
      "  [-3.13032441e-02  3.36102673e-18  0.00000000e+00]\n",
      "  [ 1.96636174e-01 -9.75781955e-19  0.00000000e+00]\n",
      "  [-3.13032441e-02  0.00000000e+00  9.97465999e-18]\n",
      "  [ 1.96636174e-01  0.00000000e+00 -1.08420217e-19]]\n",
      "\n",
      " [[ 0.00000000e+00 -6.53117090e-01  1.36864433e-17]\n",
      "  [ 0.00000000e+00 -4.14234119e-02  1.04104033e-17]\n",
      "  [ 0.00000000e+00 -7.62354636e-01 -2.42861287e-17]\n",
      "  [ 0.00000000e+00  1.52481636e+00  4.33680869e-19]\n",
      "  [ 1.30104261e-18  2.02868811e-01  0.00000000e+00]\n",
      "  [ 0.00000000e+00 -1.57908927e-01  0.00000000e+00]\n",
      "  [-2.16840434e-19 -4.88497760e-03 -2.16840434e-19]\n",
      "  [ 0.00000000e+00 -1.07996124e-01 -1.60797602e-23]]\n",
      "\n",
      " [[-4.68884435e-19 -2.51849707e-19 -6.53117090e-01]\n",
      "  [-1.08616701e-19  1.60834051e-18 -4.14234119e-02]\n",
      "  [ 0.00000000e+00  5.20417043e-18 -7.62354636e-01]\n",
      "  [ 0.00000000e+00 -4.33680869e-19  1.52481636e+00]\n",
      "  [-5.42101086e-19 -2.16840434e-19 -4.88497760e-03]\n",
      "  [ 0.00000000e+00  0.00000000e+00 -1.07996124e-01]\n",
      "  [ 1.13841228e-18  0.00000000e+00  2.02868811e-01]\n",
      "  [-5.42101086e-20  3.03622891e-21 -1.57908927e-01]]\n",
      "\n",
      " [[-2.34182749e-01  0.00000000e+00  2.08156142e-17]\n",
      "  [ 3.29895005e-01  0.00000000e+00  3.63168159e-22]\n",
      "  [-1.29279560e+01  0.00000000e+00  0.00000000e+00]\n",
      "  [ 1.25015779e+01  0.00000000e+00 -2.77555756e-17]\n",
      "  [ 1.96636174e-01  0.00000000e+00  0.00000000e+00]\n",
      "  [-3.13032441e-02 -1.08420217e-18  0.00000000e+00]\n",
      "  [ 1.96636174e-01  0.00000000e+00 -2.16840434e-19]\n",
      "  [-3.13032441e-02  0.00000000e+00 -9.75781955e-19]]\n",
      "\n",
      " [[ 0.00000000e+00 -4.14234119e-02  5.20122361e-18]\n",
      "  [-2.16840434e-19 -6.53117090e-01  2.49365789e-17]\n",
      "  [ 0.00000000e+00  1.52481636e+00  0.00000000e+00]\n",
      "  [ 0.00000000e+00 -7.62354636e-01 -2.42861287e-17]\n",
      "  [ 0.00000000e+00 -1.57908927e-01  0.00000000e+00]\n",
      "  [ 5.96311195e-19  2.02868811e-01 -2.16840434e-19]\n",
      "  [ 0.00000000e+00 -1.07996124e-01  4.33680869e-19]\n",
      "  [ 5.42101086e-19 -4.88497760e-03  1.34676753e-24]]\n",
      "\n",
      " [[ 3.70258146e-19  1.55393156e-18 -4.14234119e-02]\n",
      "  [ 2.34391500e-19  5.00355591e-18 -6.53117090e-01]\n",
      "  [ 0.00000000e+00  0.00000000e+00  1.52481636e+00]\n",
      "  [ 0.00000000e+00 -3.46944695e-18 -7.62354636e-01]\n",
      "  [ 0.00000000e+00  0.00000000e+00 -1.07996124e-01]\n",
      "  [-2.16840434e-19  8.67361738e-19 -4.88497760e-03]\n",
      "  [ 0.00000000e+00  0.00000000e+00 -1.57908927e-01]\n",
      "  [ 5.42101086e-19  8.89837869e-22  2.02868811e-01]]\n",
      "\n",
      " [[-3.13032441e-02  0.00000000e+00 -1.38778333e-17]\n",
      "  [ 1.96636174e-01 -2.16840434e-19 -3.16522564e-22]\n",
      "  [-3.13032441e-02  0.00000000e+00  0.00000000e+00]\n",
      "  [ 1.96636174e-01  0.00000000e+00  0.00000000e+00]\n",
      "  [ 2.90228947e+00 -1.73472348e-18  1.82145965e-17]\n",
      "  [-3.26931171e+00  5.42101086e-20  5.42101086e-20]\n",
      "  [ 3.63270571e-02  2.16840434e-19  0.00000000e+00]\n",
      "  [ 2.93250854e-05  0.00000000e+00  0.00000000e+00]]\n",
      "\n",
      " [[ 0.00000000e+00 -4.88497760e-03 -2.80405753e-18]\n",
      "  [ 0.00000000e+00 -1.07996124e-01 -1.51440066e-18]\n",
      "  [ 0.00000000e+00  2.02868811e-01  6.50521303e-19]\n",
      "  [ 0.00000000e+00 -1.57908927e-01 -5.42101086e-19]\n",
      "  [ 1.73472348e-18 -1.57196463e-01 -1.38777878e-17]\n",
      "  [ 1.08420217e-19  5.54360680e-01  0.00000000e+00]\n",
      "  [ 0.00000000e+00 -2.90072704e-01  1.66967135e-17]\n",
      "  [ 0.00000000e+00 -3.91702947e-02  4.55265372e-23]]\n",
      "\n",
      " [[ 6.17458220e-21  5.62810581e-19  2.02868811e-01]\n",
      "  [-5.26127112e-20  2.02478283e-20 -1.57908927e-01]\n",
      "  [-8.67361738e-19 -2.16840434e-18 -4.88497760e-03]\n",
      "  [ 0.00000000e+00  6.50521303e-19 -1.07996124e-01]\n",
      "  [ 3.46944695e-18 -3.46944695e-18 -1.57196463e-01]\n",
      "  [ 0.00000000e+00  2.16840434e-19  5.54360680e-01]\n",
      "  [ 0.00000000e+00  2.81892565e-18 -2.90072704e-01]\n",
      "  [ 0.00000000e+00 -4.36303623e-19 -3.91702947e-02]]\n",
      "\n",
      " [[ 1.96636174e-01  0.00000000e+00  1.40225552e-20]\n",
      "  [-3.13032441e-02  0.00000000e+00 -8.90853924e-23]\n",
      "  [ 1.96636174e-01  2.71050543e-20  2.16840434e-19]\n",
      "  [-3.13032441e-02  0.00000000e+00  0.00000000e+00]\n",
      "  [-3.26931171e+00  5.42101086e-20  5.42101086e-20]\n",
      "  [ 2.90228947e+00  0.00000000e+00 -3.46944695e-18]\n",
      "  [ 2.93250854e-05  0.00000000e+00  0.00000000e+00]\n",
      "  [ 3.63270571e-02 -7.37903599e-20 -2.90630794e-19]]\n",
      "\n",
      " [[ 0.00000000e+00 -1.07996124e-01 -9.88828094e-19]\n",
      "  [ 0.00000000e+00 -4.88497760e-03 -3.15920365e-19]\n",
      "  [ 0.00000000e+00 -1.57908927e-01  7.58941521e-19]\n",
      "  [ 0.00000000e+00  2.02868811e-01 -6.50521303e-19]\n",
      "  [-1.08420217e-19  5.54360680e-01  2.16840434e-19]\n",
      "  [ 0.00000000e+00 -1.57196463e-01 -1.38777878e-17]\n",
      "  [ 0.00000000e+00 -3.91702947e-02  0.00000000e+00]\n",
      "  [ 0.00000000e+00 -2.90072704e-01  1.38777824e-17]]\n",
      "\n",
      " [[ 5.26377515e-20 -2.71636234e-19 -1.57908927e-01]\n",
      "  [-1.40534952e-20  2.03168692e-19  2.02868811e-01]\n",
      "  [ 0.00000000e+00  4.33680869e-19 -1.07996124e-01]\n",
      "  [ 0.00000000e+00  0.00000000e+00 -4.88497760e-03]\n",
      "  [ 0.00000000e+00  0.00000000e+00  5.54360680e-01]\n",
      "  [ 0.00000000e+00 -6.93889390e-18 -1.57196463e-01]\n",
      "  [ 8.67361738e-19  0.00000000e+00 -3.91702947e-02]\n",
      "  [ 0.00000000e+00 -4.38906520e-22 -2.90072704e-01]]\n",
      "\n",
      " [[-3.13032441e-02  0.00000000e+00  1.05073809e-20]\n",
      "  [ 1.96636174e-01  0.00000000e+00  5.26481754e-22]\n",
      "  [-3.13032441e-02  0.00000000e+00  0.00000000e+00]\n",
      "  [ 1.96636174e-01  0.00000000e+00  0.00000000e+00]\n",
      "  [ 3.63270571e-02  2.16840434e-19  0.00000000e+00]\n",
      "  [ 2.93250854e-05  0.00000000e+00  0.00000000e+00]\n",
      "  [ 2.90228947e+00 -3.46944695e-18 -6.05182592e-18]\n",
      "  [-3.26931171e+00  2.71050543e-20 -2.71050543e-20]]\n",
      "\n",
      " [[ 0.00000000e+00  2.02868811e-01  2.22847070e-19]\n",
      "  [ 5.42101086e-20 -1.57908927e-01 -4.88223421e-19]\n",
      "  [ 0.00000000e+00 -4.88497760e-03 -8.67361738e-19]\n",
      "  [ 0.00000000e+00 -1.07996124e-01 -8.67361738e-19]\n",
      "  [ 0.00000000e+00 -2.90072704e-01  1.51788304e-18]\n",
      "  [ 0.00000000e+00 -3.91702947e-02 -9.97465999e-18]\n",
      "  [ 1.73472348e-18 -1.57196463e-01  1.04018670e-17]\n",
      "  [ 6.50521303e-19  5.54360680e-01  4.56900347e-25]]\n",
      "\n",
      " [[ 1.87572840e-19 -1.38852602e-18 -4.88497760e-03]\n",
      "  [ 1.81240458e-20 -1.28178929e-18 -1.07996124e-01]\n",
      "  [ 0.00000000e+00  2.16840434e-19  2.02868811e-01]\n",
      "  [ 5.42101086e-20 -1.08420217e-19 -1.57908927e-01]\n",
      "  [-2.16840434e-19 -2.16840434e-18 -2.90072704e-01]\n",
      "  [ 0.00000000e+00  4.33680869e-19 -3.91702947e-02]\n",
      "  [-1.73472348e-18 -6.93889390e-18 -1.57196463e-01]\n",
      "  [-2.16840434e-19 -2.15911927e-19  5.54360680e-01]]\n",
      "\n",
      " [[ 1.96636174e-01 -7.93278890e-19  2.16652481e-19]\n",
      "  [-3.13032441e-02  0.00000000e+00  2.08101348e-21]\n",
      "  [ 1.96636174e-01  0.00000000e+00 -7.86046575e-19]\n",
      "  [-3.13032441e-02  0.00000000e+00  0.00000000e+00]\n",
      "  [ 2.93250854e-05  0.00000000e+00  0.00000000e+00]\n",
      "  [ 3.63270571e-02  2.34616802e-19 -1.99064066e-19]\n",
      "  [-3.26931171e+00  2.71050543e-20  8.13151629e-20]\n",
      "  [ 2.90228947e+00  4.36088969e-18  8.91442740e-19]]\n",
      "\n",
      " [[-5.42101086e-20 -1.57908927e-01 -3.19204143e-19]\n",
      "  [ 0.00000000e+00  2.02868811e-01  2.58689315e-20]\n",
      "  [ 0.00000000e+00 -1.07996124e-01 -1.30104261e-18]\n",
      "  [ 0.00000000e+00 -4.88497760e-03 -1.30104261e-18]\n",
      "  [-8.67361738e-19 -3.91702947e-02  0.00000000e+00]\n",
      "  [ 0.00000000e+00 -2.90072704e-01  0.00000000e+00]\n",
      "  [ 2.16840434e-19  5.54360680e-01  2.16840434e-19]\n",
      "  [-1.04083409e-17 -1.57196463e-01 -7.88674727e-21]]\n",
      "\n",
      " [[ 1.14535018e-21 -1.12394604e-18 -1.07996124e-01]\n",
      "  [ 2.93911979e-19  7.62273686e-19 -4.88497760e-03]\n",
      "  [ 5.42101086e-20 -5.42101086e-19 -1.57908927e-01]\n",
      "  [ 0.00000000e+00  0.00000000e+00  2.02868811e-01]\n",
      "  [ 0.00000000e+00  0.00000000e+00 -3.91702947e-02]\n",
      "  [ 0.00000000e+00  0.00000000e+00 -2.90072704e-01]\n",
      "  [ 1.08420217e-19  3.25260652e-19  5.54360680e-01]\n",
      "  [ 1.73472348e-18 -1.29433583e-20 -1.57196463e-01]]]\n"
     ]
    }
   ],
   "source": [
    "print(NaCl_set_results[0].info[\"mace_mp_hessian\"])"
   ]
  },
  {
   "cell_type": "markdown",
   "metadata": {},
   "source": [
    "## Setting keyword arguments"
   ]
  },
  {
   "cell_type": "markdown",
   "metadata": {},
   "source": [
    "All `janus` commands accept keyword arguments (kwargs), which are input in the form of Python dictionaries: `{\"key\": value}`.\n",
    "\n",
    "One useful example is passing options that are specific to an MLIP calculator.\n",
    "\n",
    "For example, MACE has an option to run with D3 dispersion correction, through the `dispersion` option. In the command-line, this can be set using:"
   ]
  },
  {
   "cell_type": "code",
   "execution_count": 28,
   "metadata": {},
   "outputs": [
    {
     "name": "stdout",
     "output_type": "stream",
     "text": [
      "/Users/elliottkasoar/Documents/PSDI/janus-core/.venv/lib/python3.12/site-packages/e3nn/o3/_wigner.py:10: FutureWarning: You are using `torch.load` with `weights_only=False` (the current default value), which uses the default pickle module implicitly. It is possible to construct malicious pickle data which will execute arbitrary code during unpickling (See https://github.com/pytorch/pytorch/blob/main/SECURITY.md#untrusted-models for more details). In a future release, the default value for `weights_only` will be flipped to `True`. This limits the functions that could be executed during unpickling. Arbitrary objects will no longer be allowed to be loaded via this mode unless they are explicitly allowlisted by the user via `torch.serialization.add_safe_globals`. We recommend you start setting `weights_only=True` for any use case where you don't have full control of the loaded file. Please open an issue on GitHub for any issues related to this experimental feature.\n",
      "  _Jd, _W3j_flat, _W3j_indices = torch.load(os.path.join(os.path.dirname(__file__), 'constants.pt'))\n",
      "cuequivariance or cuequivariance_torch is not available. Cuequivariance acceleration will be disabled.\n",
      "Using Materials Project MACE for MACECalculator with /Users/elliottkasoar/.cache/mace/20231210mace128L0_energy_epoch249model\n",
      "Using float64 for MACECalculator, which is slower but more accurate. Recommended for geometry optimization.\n",
      "/Users/elliottkasoar/Documents/PSDI/janus-core/.venv/lib/python3.12/site-packages/mace/calculators/mace.py:139: FutureWarning: You are using `torch.load` with `weights_only=False` (the current default value), which uses the default pickle module implicitly. It is possible to construct malicious pickle data which will execute arbitrary code during unpickling (See https://github.com/pytorch/pytorch/blob/main/SECURITY.md#untrusted-models for more details). In a future release, the default value for `weights_only` will be flipped to `True`. This limits the functions that could be executed during unpickling. Arbitrary objects will no longer be allowed to be loaded via this mode unless they are explicitly allowlisted by the user via `torch.serialization.add_safe_globals`. We recommend you start setting `weights_only=True` for any use case where you don't have full control of the loaded file. Please open an issue on GitHub for any issues related to this experimental feature.\n",
      "  torch.load(f=model_path, map_location=device)\n",
      "Using TorchDFTD3Calculator for D3 dispersion corrections\n"
     ]
    }
   ],
   "source": [
    "! janus singlepoint --config singlepoint_config_1.yml --calc-kwargs \"{'dispersion': True}\" --out janus_results/NaCl-dispersion-results.extxyz"
   ]
  },
  {
   "cell_type": "markdown",
   "metadata": {},
   "source": [
    "To avoid the complications of nested quotations, setting this in the configuration file is preferable:"
   ]
  },
  {
   "cell_type": "code",
   "execution_count": 29,
   "metadata": {},
   "outputs": [
    {
     "name": "stdout",
     "output_type": "stream",
     "text": [
      "Writing singlepoint_config_4.yml\n"
     ]
    }
   ],
   "source": [
    "%%writefile singlepoint_config_4.yml\n",
    "\n",
    "struct: ../data/NaCl.xyz\n",
    "tracker: False\n",
    "calc_kwargs:\n",
    "  dispersion: True\n",
    "out: janus_results/NaCl-dispersion-results.extxyz"
   ]
  },
  {
   "cell_type": "code",
   "execution_count": 30,
   "metadata": {},
   "outputs": [
    {
     "name": "stdout",
     "output_type": "stream",
     "text": [
      "/Users/elliottkasoar/Documents/PSDI/janus-core/.venv/lib/python3.12/site-packages/e3nn/o3/_wigner.py:10: FutureWarning: You are using `torch.load` with `weights_only=False` (the current default value), which uses the default pickle module implicitly. It is possible to construct malicious pickle data which will execute arbitrary code during unpickling (See https://github.com/pytorch/pytorch/blob/main/SECURITY.md#untrusted-models for more details). In a future release, the default value for `weights_only` will be flipped to `True`. This limits the functions that could be executed during unpickling. Arbitrary objects will no longer be allowed to be loaded via this mode unless they are explicitly allowlisted by the user via `torch.serialization.add_safe_globals`. We recommend you start setting `weights_only=True` for any use case where you don't have full control of the loaded file. Please open an issue on GitHub for any issues related to this experimental feature.\n",
      "  _Jd, _W3j_flat, _W3j_indices = torch.load(os.path.join(os.path.dirname(__file__), 'constants.pt'))\n",
      "cuequivariance or cuequivariance_torch is not available. Cuequivariance acceleration will be disabled.\n",
      "Using Materials Project MACE for MACECalculator with /Users/elliottkasoar/.cache/mace/20231210mace128L0_energy_epoch249model\n",
      "Using float64 for MACECalculator, which is slower but more accurate. Recommended for geometry optimization.\n",
      "/Users/elliottkasoar/Documents/PSDI/janus-core/.venv/lib/python3.12/site-packages/mace/calculators/mace.py:139: FutureWarning: You are using `torch.load` with `weights_only=False` (the current default value), which uses the default pickle module implicitly. It is possible to construct malicious pickle data which will execute arbitrary code during unpickling (See https://github.com/pytorch/pytorch/blob/main/SECURITY.md#untrusted-models for more details). In a future release, the default value for `weights_only` will be flipped to `True`. This limits the functions that could be executed during unpickling. Arbitrary objects will no longer be allowed to be loaded via this mode unless they are explicitly allowlisted by the user via `torch.serialization.add_safe_globals`. We recommend you start setting `weights_only=True` for any use case where you don't have full control of the loaded file. Please open an issue on GitHub for any issues related to this experimental feature.\n",
      "  torch.load(f=model_path, map_location=device)\n",
      "Using TorchDFTD3Calculator for D3 dispersion corrections\n"
     ]
    }
   ],
   "source": [
    "! janus singlepoint --config singlepoint_config_4.yml"
   ]
  },
  {
   "cell_type": "markdown",
   "metadata": {},
   "source": [
    "Comparing the results before and after the correction:"
   ]
  },
  {
   "cell_type": "code",
   "execution_count": 31,
   "metadata": {},
   "outputs": [
    {
     "name": "stdout",
     "output_type": "stream",
     "text": [
      "Original results: -27.0300815358917\n",
      "Results with dispersion correction: -28.749976781125884\n"
     ]
    }
   ],
   "source": [
    "dispersion_results = read(\"janus_results/NaCl-dispersion-results.extxyz\")\n",
    "\n",
    "print(f\"Original results: {results.info['mace_mp_energy']}\")\n",
    "print(f\"Results with dispersion correction: {dispersion_results.info['mace_mp_energy']}\")"
   ]
  }
 ],
 "metadata": {
  "accelerator": "GPU",
  "colab": {
   "authorship_tag": "ABX9TyNvtIsPHVgkt0NvUv51T6ZG",
   "gpuType": "T4",
   "include_colab_link": true,
   "private_outputs": true,
   "provenance": []
  },
  "kernelspec": {
   "display_name": ".venv",
   "language": "python",
   "name": "python3"
  },
  "language_info": {
   "codemirror_mode": {
    "name": "ipython",
    "version": 3
   },
   "file_extension": ".py",
   "mimetype": "text/x-python",
   "name": "python",
   "nbconvert_exporter": "python",
   "pygments_lexer": "ipython3",
   "version": "3.12.8"
  }
 },
 "nbformat": 4,
 "nbformat_minor": 4
}
