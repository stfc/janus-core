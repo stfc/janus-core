{
 "cells": [
  {
   "cell_type": "markdown",
   "metadata": {
    "colab_type": "text",
    "id": "view-in-github"
   },
   "source": [
    "[![Open In Colab](https://colab.research.google.com/assets/colab-badge.svg)](https://colab.research.google.com/github/stfc/janus-core/blob/main/docs/source/tutorials/cli/geomopt.ipynb)"
   ]
  },
  {
   "cell_type": "markdown",
   "metadata": {
    "id": "4vcbRxmIhHLL"
   },
   "source": [
    "# Geometry Optimization"
   ]
  },
  {
   "cell_type": "markdown",
   "metadata": {},
   "source": [
    "## Set up environment (optional)\n",
    "\n",
    "These steps are required for Google Colab, but may work on other systems too:"
   ]
  },
  {
   "cell_type": "code",
   "execution_count": 22,
   "metadata": {
    "id": "TF-EiWxyuMc7"
   },
   "outputs": [],
   "source": [
    "# import locale\n",
    "# locale.getpreferredencoding = lambda: \"UTF-8\"\n",
    "\n",
    "# ! pip uninstall torch torchaudio torchvision numpy -y\n",
    "# ! uv pip install janus-core[all] data-tutorials torch==2.5.1 --system\n",
    "# get_ipython().kernel.do_shutdown(restart=True)"
   ]
  },
  {
   "cell_type": "markdown",
   "metadata": {},
   "source": [
    "## Command-line help and options"
   ]
  },
  {
   "cell_type": "markdown",
   "metadata": {},
   "source": [
    "As with `janus singlepoint`, we can check the options for geometry optimisation:"
   ]
  },
  {
   "cell_type": "code",
   "execution_count": 1,
   "metadata": {},
   "outputs": [
    {
     "name": "stdout",
     "output_type": "stream",
     "text": [
      "\u001b[1m                                                                                \u001b[0m\n",
      "\u001b[1m \u001b[0m\u001b[1;33mUsage: \u001b[0m\u001b[1mjanus geomopt [OPTIONS]\u001b[0m\u001b[1m                                                \u001b[0m\u001b[1m \u001b[0m\n",
      "\u001b[1m                                                                                \u001b[0m\n",
      " Perform geometry optimization and save optimized structure to file.            \n",
      "                                                                                \n",
      "\u001b[2m╭─\u001b[0m\u001b[2m Options \u001b[0m\u001b[2m───────────────────────────────────────────────────────────────────\u001b[0m\u001b[2m─╮\u001b[0m\n",
      "\u001b[2m│\u001b[0m \u001b[31m*\u001b[0m  \u001b[1;36m-\u001b[0m\u001b[1;36m-struct\u001b[0m                               \u001b[1;33mPATH            \u001b[0m  Path of          \u001b[2m│\u001b[0m\n",
      "\u001b[2m│\u001b[0m                                                             structure to     \u001b[2m│\u001b[0m\n",
      "\u001b[2m│\u001b[0m                                                             simulate.        \u001b[2m│\u001b[0m\n",
      "\u001b[2m│\u001b[0m                                                             \u001b[2m[default: None] \u001b[0m \u001b[2m│\u001b[0m\n",
      "\u001b[2m│\u001b[0m                                                             \u001b[2;31m[required]      \u001b[0m \u001b[2m│\u001b[0m\n",
      "\u001b[2m│\u001b[0m    \u001b[1;36m-\u001b[0m\u001b[1;36m-optimizer\u001b[0m                            \u001b[1;33mTEXT            \u001b[0m  Name of ASE      \u001b[2m│\u001b[0m\n",
      "\u001b[2m│\u001b[0m                                                             optimizer        \u001b[2m│\u001b[0m\n",
      "\u001b[2m│\u001b[0m                                                             function to use. \u001b[2m│\u001b[0m\n",
      "\u001b[2m│\u001b[0m                                                             \u001b[2m[default: LBFGS]\u001b[0m \u001b[2m│\u001b[0m\n",
      "\u001b[2m│\u001b[0m    \u001b[1;36m-\u001b[0m\u001b[1;36m-fmax\u001b[0m                                 \u001b[1;33mFLOAT           \u001b[0m  Maximum force    \u001b[2m│\u001b[0m\n",
      "\u001b[2m│\u001b[0m                                                             for convergence, \u001b[2m│\u001b[0m\n",
      "\u001b[2m│\u001b[0m                                                             in eV/Å.         \u001b[2m│\u001b[0m\n",
      "\u001b[2m│\u001b[0m                                                             \u001b[2m[default: 0.1]  \u001b[0m \u001b[2m│\u001b[0m\n",
      "\u001b[2m│\u001b[0m    \u001b[1;36m-\u001b[0m\u001b[1;36m-steps\u001b[0m                                \u001b[1;33mINTEGER         \u001b[0m  Maximum number   \u001b[2m│\u001b[0m\n",
      "\u001b[2m│\u001b[0m                                                             of optimization  \u001b[2m│\u001b[0m\n",
      "\u001b[2m│\u001b[0m                                                             steps.           \u001b[2m│\u001b[0m\n",
      "\u001b[2m│\u001b[0m                                                             \u001b[2m[default: 1000] \u001b[0m \u001b[2m│\u001b[0m\n",
      "\u001b[2m│\u001b[0m    \u001b[1;36m-\u001b[0m\u001b[1;36m-arch\u001b[0m                                 \u001b[1;2;33m[\u001b[0m\u001b[1;33mmace\u001b[0m\u001b[1;2;33m|\u001b[0m\u001b[1;33mmace_mp\u001b[0m\u001b[1;2;33m|\u001b[0m\u001b[1;33mma\u001b[0m  MLIP             \u001b[2m│\u001b[0m\n",
      "\u001b[2m│\u001b[0m                                           \u001b[1;33mce_off\u001b[0m\u001b[1;2;33m|\u001b[0m\u001b[1;33mm3gnet\u001b[0m\u001b[1;2;33m|\u001b[0m\u001b[1;33mch\u001b[0m  architecture to  \u001b[2m│\u001b[0m\n",
      "\u001b[2m│\u001b[0m                                           \u001b[1;33mgnet\u001b[0m\u001b[1;2;33m|\u001b[0m\u001b[1;33malignn\u001b[0m\u001b[1;2;33m|\u001b[0m\u001b[1;33mseve\u001b[0m  use for          \u001b[2m│\u001b[0m\n",
      "\u001b[2m│\u001b[0m                                           \u001b[1;33mnnet\u001b[0m\u001b[1;2;33m|\u001b[0m\u001b[1;33mnequip\u001b[0m\u001b[1;2;33m|\u001b[0m\u001b[1;33mdpa3\u001b[0m  calculations.    \u001b[2m│\u001b[0m\n",
      "\u001b[2m│\u001b[0m                                           \u001b[1;2;33m|\u001b[0m\u001b[1;33morb\u001b[0m\u001b[1;2;33m|\u001b[0m\u001b[1;33mmattersim\u001b[0m\u001b[1;2;33m]\u001b[0m\u001b[1;33m \u001b[0m  \u001b[2m[default:       \u001b[0m \u001b[2m│\u001b[0m\n",
      "\u001b[2m│\u001b[0m                                                             \u001b[2mmace_mp]        \u001b[0m \u001b[2m│\u001b[0m\n",
      "\u001b[2m│\u001b[0m    \u001b[1;36m-\u001b[0m\u001b[1;36m-device\u001b[0m                               \u001b[1;2;33m[\u001b[0m\u001b[1;33mcpu\u001b[0m\u001b[1;2;33m|\u001b[0m\u001b[1;33mcuda\u001b[0m\u001b[1;2;33m|\u001b[0m\u001b[1;33mmps\u001b[0m\u001b[1;2;33m|\u001b[0m\u001b[1;33mxp\u001b[0m  Device to run    \u001b[2m│\u001b[0m\n",
      "\u001b[2m│\u001b[0m                                           \u001b[1;33mu\u001b[0m\u001b[1;2;33m]\u001b[0m\u001b[1;33m              \u001b[0m  calculations on. \u001b[2m│\u001b[0m\n",
      "\u001b[2m│\u001b[0m                                                             \u001b[2m[default: cpu]  \u001b[0m \u001b[2m│\u001b[0m\n",
      "\u001b[2m│\u001b[0m    \u001b[1;36m-\u001b[0m\u001b[1;36m-model\u001b[0m\u001b[1;36m-path\u001b[0m                           \u001b[1;33mTEXT            \u001b[0m  Path to MLIP     \u001b[2m│\u001b[0m\n",
      "\u001b[2m│\u001b[0m                                                             model.           \u001b[2m│\u001b[0m\n",
      "\u001b[2m│\u001b[0m                                                             \u001b[2m[default: None] \u001b[0m \u001b[2m│\u001b[0m\n",
      "\u001b[2m│\u001b[0m    \u001b[1;36m-\u001b[0m\u001b[1;36m-opt\u001b[0m\u001b[1;36m-cell-leng…\u001b[0m    \u001b[1;35m-\u001b[0m\u001b[1;35m-no\u001b[0m\u001b[1;35m-opt-cell-…\u001b[0m    \u001b[1;33m                \u001b[0m  Optimize cell    \u001b[2m│\u001b[0m\n",
      "\u001b[2m│\u001b[0m                                                             vectors, as well \u001b[2m│\u001b[0m\n",
      "\u001b[2m│\u001b[0m                                                             as atomic        \u001b[2m│\u001b[0m\n",
      "\u001b[2m│\u001b[0m                                                             positions.       \u001b[2m│\u001b[0m\n",
      "\u001b[2m│\u001b[0m                                                             \u001b[2m[default:       \u001b[0m \u001b[2m│\u001b[0m\n",
      "\u001b[2m│\u001b[0m                                                             \u001b[2mno-opt-cell-len…\u001b[0m \u001b[2m│\u001b[0m\n",
      "\u001b[2m│\u001b[0m    \u001b[1;36m-\u001b[0m\u001b[1;36m-opt\u001b[0m\u001b[1;36m-cell-fully\u001b[0m    \u001b[1;35m-\u001b[0m\u001b[1;35m-no\u001b[0m\u001b[1;35m-opt-cell-…\u001b[0m    \u001b[1;33m                \u001b[0m  Fully optimize   \u001b[2m│\u001b[0m\n",
      "\u001b[2m│\u001b[0m                                                             the cell         \u001b[2m│\u001b[0m\n",
      "\u001b[2m│\u001b[0m                                                             vectors, angles, \u001b[2m│\u001b[0m\n",
      "\u001b[2m│\u001b[0m                                                             and atomic       \u001b[2m│\u001b[0m\n",
      "\u001b[2m│\u001b[0m                                                             positions.       \u001b[2m│\u001b[0m\n",
      "\u001b[2m│\u001b[0m                                                             \u001b[2m[default:       \u001b[0m \u001b[2m│\u001b[0m\n",
      "\u001b[2m│\u001b[0m                                                             \u001b[2mno-opt-cell-ful…\u001b[0m \u001b[2m│\u001b[0m\n",
      "\u001b[2m│\u001b[0m    \u001b[1;36m-\u001b[0m\u001b[1;36m-filter\u001b[0m\u001b[1;36m-func\u001b[0m                          \u001b[1;33mTEXT            \u001b[0m  Name of ASE      \u001b[2m│\u001b[0m\n",
      "\u001b[2m│\u001b[0m                                                             filter/constrai… \u001b[2m│\u001b[0m\n",
      "\u001b[2m│\u001b[0m                                                             function to use. \u001b[2m│\u001b[0m\n",
      "\u001b[2m│\u001b[0m                                                             If using         \u001b[2m│\u001b[0m\n",
      "\u001b[2m│\u001b[0m                                                             \u001b[1;36m-\u001b[0m\u001b[1;36m-opt\u001b[0m\u001b[1;36m-cell-leng…\u001b[0m \u001b[2m│\u001b[0m\n",
      "\u001b[2m│\u001b[0m                                                             or               \u001b[2m│\u001b[0m\n",
      "\u001b[2m│\u001b[0m                                                             \u001b[1;36m-\u001b[0m\u001b[1;36m-opt\u001b[0m\u001b[1;36m-cell-full…\u001b[0m \u001b[2m│\u001b[0m\n",
      "\u001b[2m│\u001b[0m                                                             defaults to      \u001b[2m│\u001b[0m\n",
      "\u001b[2m│\u001b[0m                                                             `FrechetCellFil… \u001b[2m│\u001b[0m\n",
      "\u001b[2m│\u001b[0m                                                             if available,    \u001b[2m│\u001b[0m\n",
      "\u001b[2m│\u001b[0m                                                             otherwise        \u001b[2m│\u001b[0m\n",
      "\u001b[2m│\u001b[0m                                                             `ExpCellFilter`. \u001b[2m│\u001b[0m\n",
      "\u001b[2m│\u001b[0m                                                             \u001b[2m[default: None] \u001b[0m \u001b[2m│\u001b[0m\n",
      "\u001b[2m│\u001b[0m    \u001b[1;36m-\u001b[0m\u001b[1;36m-pressure\u001b[0m                             \u001b[1;33mFLOAT           \u001b[0m  Scalar pressure  \u001b[2m│\u001b[0m\n",
      "\u001b[2m│\u001b[0m                                                             when optimizing  \u001b[2m│\u001b[0m\n",
      "\u001b[2m│\u001b[0m                                                             cell geometry,   \u001b[2m│\u001b[0m\n",
      "\u001b[2m│\u001b[0m                                                             in GPa.          \u001b[2m│\u001b[0m\n",
      "\u001b[2m│\u001b[0m                                                             \u001b[2m[default: 0.0]  \u001b[0m \u001b[2m│\u001b[0m\n",
      "\u001b[2m│\u001b[0m    \u001b[1;36m-\u001b[0m\u001b[1;36m-symmetrize\u001b[0m        \u001b[1;35m-\u001b[0m\u001b[1;35m-no\u001b[0m\u001b[1;35m-symmetrize\u001b[0m    \u001b[1;33m                \u001b[0m  Whether to       \u001b[2m│\u001b[0m\n",
      "\u001b[2m│\u001b[0m                                                             refine symmetry  \u001b[2m│\u001b[0m\n",
      "\u001b[2m│\u001b[0m                                                             after geometry   \u001b[2m│\u001b[0m\n",
      "\u001b[2m│\u001b[0m                                                             optimization.    \u001b[2m│\u001b[0m\n",
      "\u001b[2m│\u001b[0m                                                             \u001b[2m[default:       \u001b[0m \u001b[2m│\u001b[0m\n",
      "\u001b[2m│\u001b[0m                                                             \u001b[2mno-symmetrize]  \u001b[0m \u001b[2m│\u001b[0m\n",
      "\u001b[2m│\u001b[0m    \u001b[1;36m-\u001b[0m\u001b[1;36m-symmetry\u001b[0m\u001b[1;36m-tole…\u001b[0m                       \u001b[1;33mFLOAT           \u001b[0m  Atom             \u001b[2m│\u001b[0m\n",
      "\u001b[2m│\u001b[0m                                                             displacement     \u001b[2m│\u001b[0m\n",
      "\u001b[2m│\u001b[0m                                                             tolerance for    \u001b[2m│\u001b[0m\n",
      "\u001b[2m│\u001b[0m                                                             spglib symmetry  \u001b[2m│\u001b[0m\n",
      "\u001b[2m│\u001b[0m                                                             determination,   \u001b[2m│\u001b[0m\n",
      "\u001b[2m│\u001b[0m                                                             in Å.            \u001b[2m│\u001b[0m\n",
      "\u001b[2m│\u001b[0m                                                             \u001b[2m[default: 0.001]\u001b[0m \u001b[2m│\u001b[0m\n",
      "\u001b[2m│\u001b[0m    \u001b[1;36m-\u001b[0m\u001b[1;36m-file\u001b[0m\u001b[1;36m-prefix\u001b[0m                          \u001b[1;33mPATH            \u001b[0m  Prefix for       \u001b[2m│\u001b[0m\n",
      "\u001b[2m│\u001b[0m                                                             output files,    \u001b[2m│\u001b[0m\n",
      "\u001b[2m│\u001b[0m                                                             including        \u001b[2m│\u001b[0m\n",
      "\u001b[2m│\u001b[0m                                                             directories.     \u001b[2m│\u001b[0m\n",
      "\u001b[2m│\u001b[0m                                                             Default          \u001b[2m│\u001b[0m\n",
      "\u001b[2m│\u001b[0m                                                             directory is     \u001b[2m│\u001b[0m\n",
      "\u001b[2m│\u001b[0m                                                             ./janus_results, \u001b[2m│\u001b[0m\n",
      "\u001b[2m│\u001b[0m                                                             and default      \u001b[2m│\u001b[0m\n",
      "\u001b[2m│\u001b[0m                                                             filename prefix  \u001b[2m│\u001b[0m\n",
      "\u001b[2m│\u001b[0m                                                             is inferred from \u001b[2m│\u001b[0m\n",
      "\u001b[2m│\u001b[0m                                                             the input        \u001b[2m│\u001b[0m\n",
      "\u001b[2m│\u001b[0m                                                             stucture         \u001b[2m│\u001b[0m\n",
      "\u001b[2m│\u001b[0m                                                             filename.        \u001b[2m│\u001b[0m\n",
      "\u001b[2m│\u001b[0m                                                             \u001b[2m[default: None] \u001b[0m \u001b[2m│\u001b[0m\n",
      "\u001b[2m│\u001b[0m    \u001b[1;36m-\u001b[0m\u001b[1;36m-out\u001b[0m                                  \u001b[1;33mPATH            \u001b[0m  Path to save     \u001b[2m│\u001b[0m\n",
      "\u001b[2m│\u001b[0m                                                             optimized        \u001b[2m│\u001b[0m\n",
      "\u001b[2m│\u001b[0m                                                             structure.       \u001b[2m│\u001b[0m\n",
      "\u001b[2m│\u001b[0m                                                             Default is       \u001b[2m│\u001b[0m\n",
      "\u001b[2m│\u001b[0m                                                             inferred         \u001b[2m│\u001b[0m\n",
      "\u001b[2m│\u001b[0m                                                             `file_prefix`.   \u001b[2m│\u001b[0m\n",
      "\u001b[2m│\u001b[0m                                                             \u001b[2m[default: None] \u001b[0m \u001b[2m│\u001b[0m\n",
      "\u001b[2m│\u001b[0m    \u001b[1;36m-\u001b[0m\u001b[1;36m-write\u001b[0m\u001b[1;36m-traj\u001b[0m        \u001b[1;35m-\u001b[0m\u001b[1;35m-no\u001b[0m\u001b[1;35m-write-traj\u001b[0m    \u001b[1;33m                \u001b[0m  Whether to save  \u001b[2m│\u001b[0m\n",
      "\u001b[2m│\u001b[0m                                                             a trajectory     \u001b[2m│\u001b[0m\n",
      "\u001b[2m│\u001b[0m                                                             file of          \u001b[2m│\u001b[0m\n",
      "\u001b[2m│\u001b[0m                                                             optimization     \u001b[2m│\u001b[0m\n",
      "\u001b[2m│\u001b[0m                                                             frames. If       \u001b[2m│\u001b[0m\n",
      "\u001b[2m│\u001b[0m                                                             traj_kwargs[\"fi… \u001b[2m│\u001b[0m\n",
      "\u001b[2m│\u001b[0m                                                             is not           \u001b[2m│\u001b[0m\n",
      "\u001b[2m│\u001b[0m                                                             specified, it is \u001b[2m│\u001b[0m\n",
      "\u001b[2m│\u001b[0m                                                             inferred from    \u001b[2m│\u001b[0m\n",
      "\u001b[2m│\u001b[0m                                                             `file_prefix`.   \u001b[2m│\u001b[0m\n",
      "\u001b[2m│\u001b[0m                                                             \u001b[2m[default:       \u001b[0m \u001b[2m│\u001b[0m\n",
      "\u001b[2m│\u001b[0m                                                             \u001b[2mno-write-traj]  \u001b[0m \u001b[2m│\u001b[0m\n",
      "\u001b[2m│\u001b[0m    \u001b[1;36m-\u001b[0m\u001b[1;36m-read\u001b[0m\u001b[1;36m-kwargs\u001b[0m                          \u001b[1;33mDICT            \u001b[0m  Keyword          \u001b[2m│\u001b[0m\n",
      "\u001b[2m│\u001b[0m                                                             arguments to     \u001b[2m│\u001b[0m\n",
      "\u001b[2m│\u001b[0m                                                             pass to          \u001b[2m│\u001b[0m\n",
      "\u001b[2m│\u001b[0m                                                             ase.io.read.     \u001b[2m│\u001b[0m\n",
      "\u001b[2m│\u001b[0m                                                             Must be passed   \u001b[2m│\u001b[0m\n",
      "\u001b[2m│\u001b[0m                                                             as a dictionary  \u001b[2m│\u001b[0m\n",
      "\u001b[2m│\u001b[0m                                                             wrapped in       \u001b[2m│\u001b[0m\n",
      "\u001b[2m│\u001b[0m                                                             quotes, e.g.     \u001b[2m│\u001b[0m\n",
      "\u001b[2m│\u001b[0m                                                             \"{'key':         \u001b[2m│\u001b[0m\n",
      "\u001b[2m│\u001b[0m                                                             value}\". By      \u001b[2m│\u001b[0m\n",
      "\u001b[2m│\u001b[0m                                                             default,         \u001b[2m│\u001b[0m\n",
      "\u001b[2m│\u001b[0m                                                             read_kwargs['in… \u001b[2m│\u001b[0m\n",
      "\u001b[2m│\u001b[0m                                                             = \u001b[1;32m-1\u001b[0m, so only    \u001b[2m│\u001b[0m\n",
      "\u001b[2m│\u001b[0m                                                             the last         \u001b[2m│\u001b[0m\n",
      "\u001b[2m│\u001b[0m                                                             structure is     \u001b[2m│\u001b[0m\n",
      "\u001b[2m│\u001b[0m                                                             read.            \u001b[2m│\u001b[0m\n",
      "\u001b[2m│\u001b[0m                                                             \u001b[2m[default: None] \u001b[0m \u001b[2m│\u001b[0m\n",
      "\u001b[2m│\u001b[0m    \u001b[1;36m-\u001b[0m\u001b[1;36m-calc\u001b[0m\u001b[1;36m-kwargs\u001b[0m                          \u001b[1;33mDICT            \u001b[0m  Keyword          \u001b[2m│\u001b[0m\n",
      "\u001b[2m│\u001b[0m                                                             arguments to     \u001b[2m│\u001b[0m\n",
      "\u001b[2m│\u001b[0m                                                             pass to selected \u001b[2m│\u001b[0m\n",
      "\u001b[2m│\u001b[0m                                                             calculator. Must \u001b[2m│\u001b[0m\n",
      "\u001b[2m│\u001b[0m                                                             be passed as a   \u001b[2m│\u001b[0m\n",
      "\u001b[2m│\u001b[0m                                                             dictionary       \u001b[2m│\u001b[0m\n",
      "\u001b[2m│\u001b[0m                                                             wrapped in       \u001b[2m│\u001b[0m\n",
      "\u001b[2m│\u001b[0m                                                             quotes, e.g.     \u001b[2m│\u001b[0m\n",
      "\u001b[2m│\u001b[0m                                                             \"{'key':         \u001b[2m│\u001b[0m\n",
      "\u001b[2m│\u001b[0m                                                             value}\". For the \u001b[2m│\u001b[0m\n",
      "\u001b[2m│\u001b[0m                                                             default          \u001b[2m│\u001b[0m\n",
      "\u001b[2m│\u001b[0m                                                             architecture     \u001b[2m│\u001b[0m\n",
      "\u001b[2m│\u001b[0m                                                             ('mace_mp'),     \u001b[2m│\u001b[0m\n",
      "\u001b[2m│\u001b[0m                                                             \"{'model':       \u001b[2m│\u001b[0m\n",
      "\u001b[2m│\u001b[0m                                                             'small'}\" is set \u001b[2m│\u001b[0m\n",
      "\u001b[2m│\u001b[0m                                                             unless           \u001b[2m│\u001b[0m\n",
      "\u001b[2m│\u001b[0m                                                             overwritten.     \u001b[2m│\u001b[0m\n",
      "\u001b[2m│\u001b[0m                                                             \u001b[2m[default: None] \u001b[0m \u001b[2m│\u001b[0m\n",
      "\u001b[2m│\u001b[0m    \u001b[1;36m-\u001b[0m\u001b[1;36m-minimize\u001b[0m\u001b[1;36m-kwar…\u001b[0m                       \u001b[1;33mDICT            \u001b[0m  Keyword          \u001b[2m│\u001b[0m\n",
      "\u001b[2m│\u001b[0m                                                             arguments to     \u001b[2m│\u001b[0m\n",
      "\u001b[2m│\u001b[0m                                                             pass to          \u001b[2m│\u001b[0m\n",
      "\u001b[2m│\u001b[0m                                                             optimizer. Must  \u001b[2m│\u001b[0m\n",
      "\u001b[2m│\u001b[0m                                                             be passed as a   \u001b[2m│\u001b[0m\n",
      "\u001b[2m│\u001b[0m                                                             dictionary       \u001b[2m│\u001b[0m\n",
      "\u001b[2m│\u001b[0m                                                             wrapped in       \u001b[2m│\u001b[0m\n",
      "\u001b[2m│\u001b[0m                                                             quotes, e.g.     \u001b[2m│\u001b[0m\n",
      "\u001b[2m│\u001b[0m                                                             \"{'key':         \u001b[2m│\u001b[0m\n",
      "\u001b[2m│\u001b[0m                                                             value}\".         \u001b[2m│\u001b[0m\n",
      "\u001b[2m│\u001b[0m                                                             \u001b[2m[default: None] \u001b[0m \u001b[2m│\u001b[0m\n",
      "\u001b[2m│\u001b[0m    \u001b[1;36m-\u001b[0m\u001b[1;36m-write\u001b[0m\u001b[1;36m-kwargs\u001b[0m                         \u001b[1;33mDICT            \u001b[0m  Keyword          \u001b[2m│\u001b[0m\n",
      "\u001b[2m│\u001b[0m                                                             arguments to     \u001b[2m│\u001b[0m\n",
      "\u001b[2m│\u001b[0m                                                             pass to          \u001b[2m│\u001b[0m\n",
      "\u001b[2m│\u001b[0m                                                             ase.io.write     \u001b[2m│\u001b[0m\n",
      "\u001b[2m│\u001b[0m                                                             when saving      \u001b[2m│\u001b[0m\n",
      "\u001b[2m│\u001b[0m                                                             results. Must be \u001b[2m│\u001b[0m\n",
      "\u001b[2m│\u001b[0m                                                             passed as a      \u001b[2m│\u001b[0m\n",
      "\u001b[2m│\u001b[0m                                                             dictionary       \u001b[2m│\u001b[0m\n",
      "\u001b[2m│\u001b[0m                                                             wrapped in       \u001b[2m│\u001b[0m\n",
      "\u001b[2m│\u001b[0m                                                             quotes, e.g.     \u001b[2m│\u001b[0m\n",
      "\u001b[2m│\u001b[0m                                                             \"{'key':         \u001b[2m│\u001b[0m\n",
      "\u001b[2m│\u001b[0m                                                             value}\".         \u001b[2m│\u001b[0m\n",
      "\u001b[2m│\u001b[0m                                                             \u001b[2m[default: None] \u001b[0m \u001b[2m│\u001b[0m\n",
      "\u001b[2m│\u001b[0m    \u001b[1;36m-\u001b[0m\u001b[1;36m-log\u001b[0m                                  \u001b[1;33mPATH            \u001b[0m  Path to save     \u001b[2m│\u001b[0m\n",
      "\u001b[2m│\u001b[0m                                                             logs to. Default \u001b[2m│\u001b[0m\n",
      "\u001b[2m│\u001b[0m                                                             is inferred from \u001b[2m│\u001b[0m\n",
      "\u001b[2m│\u001b[0m                                                             `file_prefix`    \u001b[2m│\u001b[0m\n",
      "\u001b[2m│\u001b[0m                                                             \u001b[2m[default: None] \u001b[0m \u001b[2m│\u001b[0m\n",
      "\u001b[2m│\u001b[0m    \u001b[1;36m-\u001b[0m\u001b[1;36m-tracker\u001b[0m           \u001b[1;35m-\u001b[0m\u001b[1;35m-no\u001b[0m\u001b[1;35m-tracker\u001b[0m       \u001b[1;33m                \u001b[0m  Whether to save  \u001b[2m│\u001b[0m\n",
      "\u001b[2m│\u001b[0m                                                             carbon emissions \u001b[2m│\u001b[0m\n",
      "\u001b[2m│\u001b[0m                                                             of calculation   \u001b[2m│\u001b[0m\n",
      "\u001b[2m│\u001b[0m                                                             \u001b[2m[default:       \u001b[0m \u001b[2m│\u001b[0m\n",
      "\u001b[2m│\u001b[0m                                                             \u001b[2mtracker]        \u001b[0m \u001b[2m│\u001b[0m\n",
      "\u001b[2m│\u001b[0m    \u001b[1;36m-\u001b[0m\u001b[1;36m-summary\u001b[0m                              \u001b[1;33mPATH            \u001b[0m  Path to save     \u001b[2m│\u001b[0m\n",
      "\u001b[2m│\u001b[0m                                                             summary of       \u001b[2m│\u001b[0m\n",
      "\u001b[2m│\u001b[0m                                                             inputs,          \u001b[2m│\u001b[0m\n",
      "\u001b[2m│\u001b[0m                                                             start/end time,  \u001b[2m│\u001b[0m\n",
      "\u001b[2m│\u001b[0m                                                             and carbon       \u001b[2m│\u001b[0m\n",
      "\u001b[2m│\u001b[0m                                                             emissions.       \u001b[2m│\u001b[0m\n",
      "\u001b[2m│\u001b[0m                                                             Default is       \u001b[2m│\u001b[0m\n",
      "\u001b[2m│\u001b[0m                                                             inferred from    \u001b[2m│\u001b[0m\n",
      "\u001b[2m│\u001b[0m                                                             `file_prefix`.   \u001b[2m│\u001b[0m\n",
      "\u001b[2m│\u001b[0m                                                             \u001b[2m[default: None] \u001b[0m \u001b[2m│\u001b[0m\n",
      "\u001b[2m│\u001b[0m    \u001b[1;36m-\u001b[0m\u001b[1;36m-config\u001b[0m                               \u001b[1;33mTEXT            \u001b[0m  Configuration    \u001b[2m│\u001b[0m\n",
      "\u001b[2m│\u001b[0m                                                             file.            \u001b[2m│\u001b[0m\n",
      "\u001b[2m│\u001b[0m    \u001b[1;36m-\u001b[0m\u001b[1;36m-help\u001b[0m                                 \u001b[1;33m                \u001b[0m  Show this        \u001b[2m│\u001b[0m\n",
      "\u001b[2m│\u001b[0m                                                             message and      \u001b[2m│\u001b[0m\n",
      "\u001b[2m│\u001b[0m                                                             exit.            \u001b[2m│\u001b[0m\n",
      "\u001b[2m╰──────────────────────────────────────────────────────────────────────────────╯\u001b[0m\n",
      "\n"
     ]
    }
   ],
   "source": [
    "! janus geomopt --help"
   ]
  },
  {
   "cell_type": "markdown",
   "metadata": {},
   "source": [
    "## Running geometry optimisation calculation"
   ]
  },
  {
   "cell_type": "markdown",
   "metadata": {},
   "source": [
    "First, we'll build a structure to optimise, as we did for single point calculations, but add in a deformation:"
   ]
  },
  {
   "cell_type": "code",
   "execution_count": 2,
   "metadata": {},
   "outputs": [
    {
     "data": {
      "application/vnd.jupyter.widget-view+json": {
       "model_id": "a95f161ccf394188a73d7342ab19c444",
       "version_major": 2,
       "version_minor": 0
      },
      "text/plain": [
       "WeasWidget(children=(BaseWidget(atoms={'species': {'Na': 'Na', 'Cl': 'Cl'}, 'cell': [5.63, 0.0, 0.0, 0.0, 5.63…"
      ]
     },
     "execution_count": 2,
     "metadata": {},
     "output_type": "execute_result"
    }
   ],
   "source": [
    "from pathlib import Path\n",
    "\n",
    "from ase.build import bulk\n",
    "from ase.io import write\n",
    "from weas_widget import WeasWidget\n",
    "\n",
    "Path(\"data\").mkdir(exist_ok=True)\n",
    "\n",
    "NaCl = bulk(\"NaCl\", \"rocksalt\", a=5.63, cubic=True)\n",
    "NaCl[0].position = [1.5, 1.5, 1.5]\n",
    "\n",
    "write(\"../data/NaCl-deformed.xyz\", NaCl)\n",
    "\n",
    "v=WeasWidget()\n",
    "v.from_ase(NaCl)\n",
    "v.avr.model_style = 1\n",
    "v.avr.show_hydrogen_bonds = True\n",
    "v"
   ]
  },
  {
   "cell_type": "markdown",
   "metadata": {},
   "source": [
    "Now we can optimise the geometry of this structure in a similar manner to running `janus singlepoint`:"
   ]
  },
  {
   "cell_type": "code",
   "execution_count": 3,
   "metadata": {},
   "outputs": [
    {
     "name": "stdout",
     "output_type": "stream",
     "text": [
      "/Users/elliottkasoar/Documents/PSDI/janus-core/.venv/lib/python3.12/site-packages/e3nn/o3/_wigner.py:10: FutureWarning: You are using `torch.load` with `weights_only=False` (the current default value), which uses the default pickle module implicitly. It is possible to construct malicious pickle data which will execute arbitrary code during unpickling (See https://github.com/pytorch/pytorch/blob/main/SECURITY.md#untrusted-models for more details). In a future release, the default value for `weights_only` will be flipped to `True`. This limits the functions that could be executed during unpickling. Arbitrary objects will no longer be allowed to be loaded via this mode unless they are explicitly allowlisted by the user via `torch.serialization.add_safe_globals`. We recommend you start setting `weights_only=True` for any use case where you don't have full control of the loaded file. Please open an issue on GitHub for any issues related to this experimental feature.\n",
      "  _Jd, _W3j_flat, _W3j_indices = torch.load(os.path.join(os.path.dirname(__file__), 'constants.pt'))\n",
      "cuequivariance or cuequivariance_torch is not available. Cuequivariance acceleration will be disabled.\n",
      "Using Materials Project MACE for MACECalculator with /Users/elliottkasoar/.cache/mace/20231210mace128L0_energy_epoch249model\n",
      "Using float64 for MACECalculator, which is slower but more accurate. Recommended for geometry optimization.\n",
      "/Users/elliottkasoar/Documents/PSDI/janus-core/.venv/lib/python3.12/site-packages/mace/calculators/mace.py:139: FutureWarning: You are using `torch.load` with `weights_only=False` (the current default value), which uses the default pickle module implicitly. It is possible to construct malicious pickle data which will execute arbitrary code during unpickling (See https://github.com/pytorch/pytorch/blob/main/SECURITY.md#untrusted-models for more details). In a future release, the default value for `weights_only` will be flipped to `True`. This limits the functions that could be executed during unpickling. Arbitrary objects will no longer be allowed to be loaded via this mode unless they are explicitly allowlisted by the user via `torch.serialization.add_safe_globals`. We recommend you start setting `weights_only=True` for any use case where you don't have full control of the loaded file. Please open an issue on GitHub for any issues related to this experimental feature.\n",
      "  torch.load(f=model_path, map_location=device)\n",
      "       Step     Time          Energy          fmax\n",
      "LBFGS:    0 15:51:20      -24.377063        2.732337\n",
      "LBFGS:    1 15:51:21      -24.576368        2.152513\n",
      "LBFGS:    2 15:51:21      -25.093690        0.949845\n",
      "LBFGS:    3 15:51:21      -25.290212        0.685740\n",
      "LBFGS:    4 15:51:21      -25.403788        0.951695\n",
      "LBFGS:    5 15:51:21      -25.465213        1.066671\n",
      "LBFGS:    6 15:51:21      -25.566446        1.095941\n",
      "LBFGS:    7 15:51:21      -25.695050        0.931041\n",
      "LBFGS:    8 15:51:21      -25.856683        0.857034\n",
      "LBFGS:    9 15:51:21      -26.109079        0.811033\n",
      "LBFGS:   10 15:51:21      -26.298823        0.545193\n",
      "LBFGS:   11 15:51:21      -26.353032        0.656387\n",
      "LBFGS:   12 15:51:21      -26.383904        0.710488\n",
      "LBFGS:   13 15:51:21      -26.485793        0.790107\n",
      "LBFGS:   14 15:51:21      -26.643853        0.768081\n",
      "LBFGS:   15 15:51:21      -26.751857        0.477356\n",
      "LBFGS:   16 15:51:21      -26.792940        0.329784\n",
      "LBFGS:   17 15:51:21      -26.815123        0.343673\n",
      "LBFGS:   18 15:51:21      -26.829194        0.334430\n",
      "LBFGS:   19 15:51:21      -26.845943        0.317718\n",
      "LBFGS:   20 15:51:21      -26.912307        0.249075\n",
      "LBFGS:   21 15:51:21      -26.975682        0.229256\n",
      "LBFGS:   22 15:51:21      -27.018210        0.150833\n",
      "LBFGS:   23 15:51:21      -27.023510        0.093603\n"
     ]
    }
   ],
   "source": [
    "! janus geomopt --struct ../data/NaCl-deformed.xyz --no-tracker"
   ]
  },
  {
   "cell_type": "markdown",
   "metadata": {},
   "source": [
    "We can also change the optimisation function used, and specify an even lower force convergence criteria, `fmax` (the maximum force on all individual atoms):"
   ]
  },
  {
   "cell_type": "markdown",
   "metadata": {},
   "source": [
    "<div class=\"alert alert-block alert-info\">\n",
    "<b>Tip:</b> The optimizer must be a class defined in ASE.\n",
    "</div>\n"
   ]
  },
  {
   "cell_type": "code",
   "execution_count": 4,
   "metadata": {},
   "outputs": [
    {
     "name": "stdout",
     "output_type": "stream",
     "text": [
      "/Users/elliottkasoar/Documents/PSDI/janus-core/.venv/lib/python3.12/site-packages/e3nn/o3/_wigner.py:10: FutureWarning: You are using `torch.load` with `weights_only=False` (the current default value), which uses the default pickle module implicitly. It is possible to construct malicious pickle data which will execute arbitrary code during unpickling (See https://github.com/pytorch/pytorch/blob/main/SECURITY.md#untrusted-models for more details). In a future release, the default value for `weights_only` will be flipped to `True`. This limits the functions that could be executed during unpickling. Arbitrary objects will no longer be allowed to be loaded via this mode unless they are explicitly allowlisted by the user via `torch.serialization.add_safe_globals`. We recommend you start setting `weights_only=True` for any use case where you don't have full control of the loaded file. Please open an issue on GitHub for any issues related to this experimental feature.\n",
      "  _Jd, _W3j_flat, _W3j_indices = torch.load(os.path.join(os.path.dirname(__file__), 'constants.pt'))\n",
      "cuequivariance or cuequivariance_torch is not available. Cuequivariance acceleration will be disabled.\n",
      "Using Materials Project MACE for MACECalculator with /Users/elliottkasoar/.cache/mace/20231210mace128L0_energy_epoch249model\n",
      "Using float64 for MACECalculator, which is slower but more accurate. Recommended for geometry optimization.\n",
      "/Users/elliottkasoar/Documents/PSDI/janus-core/.venv/lib/python3.12/site-packages/mace/calculators/mace.py:139: FutureWarning: You are using `torch.load` with `weights_only=False` (the current default value), which uses the default pickle module implicitly. It is possible to construct malicious pickle data which will execute arbitrary code during unpickling (See https://github.com/pytorch/pytorch/blob/main/SECURITY.md#untrusted-models for more details). In a future release, the default value for `weights_only` will be flipped to `True`. This limits the functions that could be executed during unpickling. Arbitrary objects will no longer be allowed to be loaded via this mode unless they are explicitly allowlisted by the user via `torch.serialization.add_safe_globals`. We recommend you start setting `weights_only=True` for any use case where you don't have full control of the loaded file. Please open an issue on GitHub for any issues related to this experimental feature.\n",
      "  torch.load(f=model_path, map_location=device)\n",
      "      Step     Time          Energy          fmax\n",
      "FIRE:    0 15:51:24      -24.377063        2.732337\n",
      "FIRE:    1 15:51:24      -24.521143        2.311307\n",
      "FIRE:    2 15:51:24      -24.737816        1.719928\n",
      "FIRE:    3 15:51:24      -24.954552        1.216180\n",
      "FIRE:    4 15:51:24      -25.138250        0.893003\n",
      "FIRE:    5 15:51:24      -25.283693        0.712183\n",
      "FIRE:    6 15:51:24      -25.398292        0.725931\n",
      "FIRE:    7 15:51:24      -25.495898        0.776106\n",
      "FIRE:    8 15:51:24      -25.600795        0.738520\n",
      "FIRE:    9 15:51:24      -25.727081        0.624992\n",
      "FIRE:   10 15:51:24      -25.886706        0.633155\n",
      "FIRE:   11 15:51:24      -26.063737        0.609225\n",
      "FIRE:   12 15:51:24      -26.237721        0.564647\n",
      "FIRE:   13 15:51:24      -26.390734        0.525758\n",
      "FIRE:   14 15:51:24      -26.511572        0.531927\n",
      "FIRE:   15 15:51:25      -26.597920        0.696601\n",
      "FIRE:   16 15:51:25      -26.653461        0.790166\n",
      "FIRE:   17 15:51:25      -26.686575        0.773073\n",
      "FIRE:   18 15:51:25      -26.705939        0.735325\n",
      "FIRE:   19 15:51:25      -26.741131        0.662023\n",
      "FIRE:   20 15:51:25      -26.785861        0.557699\n",
      "FIRE:   21 15:51:25      -26.832526        0.429577\n",
      "FIRE:   22 15:51:25      -26.874093        0.288174\n",
      "FIRE:   23 15:51:25      -26.906094        0.205971\n",
      "FIRE:   24 15:51:25      -26.928149        0.249613\n",
      "FIRE:   25 15:51:25      -26.945064        0.282363\n",
      "FIRE:   26 15:51:25      -26.961246        0.296619\n",
      "FIRE:   27 15:51:25      -26.981117        0.283688\n",
      "FIRE:   28 15:51:25      -27.004699        0.232056\n",
      "FIRE:   29 15:51:25      -27.023875        0.129160\n",
      "FIRE:   30 15:51:25      -27.023665        0.065418\n",
      "FIRE:   31 15:51:25      -27.023932        0.063243\n",
      "FIRE:   32 15:51:25      -27.024426        0.058997\n",
      "FIRE:   33 15:51:25      -27.025071        0.052890\n",
      "FIRE:   34 15:51:25      -27.025778        0.045230\n",
      "FIRE:   35 15:51:25      -27.026455        0.036435\n",
      "FIRE:   36 15:51:25      -27.027033        0.030872\n",
      "FIRE:   37 15:51:25      -27.027485        0.033525\n",
      "FIRE:   38 15:51:25      -27.027863        0.046407\n",
      "FIRE:   39 15:51:25      -27.028209        0.055288\n",
      "FIRE:   40 15:51:25      -27.028598        0.057928\n",
      "FIRE:   41 15:51:25      -27.029081        0.052454\n",
      "FIRE:   42 15:51:25      -27.029611        0.037632\n",
      "FIRE:   43 15:51:25      -27.029996        0.013477\n",
      "FIRE:   44 15:51:25      -27.029974        0.017129\n",
      "FIRE:   45 15:51:25      -27.029982        0.016447\n",
      "FIRE:   46 15:51:25      -27.029995        0.015113\n",
      "FIRE:   47 15:51:25      -27.030013        0.013191\n",
      "FIRE:   48 15:51:25      -27.030031        0.010771\n",
      "FIRE:   49 15:51:25      -27.030046        0.007969\n",
      "FIRE:   50 15:51:25      -27.030057        0.004932\n"
     ]
    }
   ],
   "source": [
    "! janus geomopt --struct ../data/NaCl-deformed.xyz --optimizer FIRE --fmax 0.005 --no-tracker"
   ]
  },
  {
   "cell_type": "markdown",
   "metadata": {},
   "source": [
    "As with single point calculations, this saves a results file, corresponding to the optimised structure, as well as a summary and log:"
   ]
  },
  {
   "cell_type": "code",
   "execution_count": 5,
   "metadata": {},
   "outputs": [
    {
     "name": "stdout",
     "output_type": "stream",
     "text": [
      "janus_results/NaCl-deformed-geomopt-log.yml\n",
      "janus_results/NaCl-deformed-geomopt-summary.yml\n",
      "janus_results/NaCl-deformed-opt.extxyz\n"
     ]
    }
   ],
   "source": [
    "! ls janus_results/NaCl-deformed*"
   ]
  },
  {
   "cell_type": "markdown",
   "metadata": {},
   "source": [
    "We can now see the optimised structure:"
   ]
  },
  {
   "cell_type": "code",
   "execution_count": 6,
   "metadata": {},
   "outputs": [
    {
     "data": {
      "application/vnd.jupyter.widget-view+json": {
       "model_id": "057d6ad4722b4a1f81816f06dd13cf5f",
       "version_major": 2,
       "version_minor": 0
      },
      "text/plain": [
       "WeasWidget(children=(BaseWidget(atoms={'species': {'Na': 'Na', 'Cl': 'Cl'}, 'cell': [5.63, 0.0, 0.0, 0.0, 5.63…"
      ]
     },
     "execution_count": 6,
     "metadata": {},
     "output_type": "execute_result"
    }
   ],
   "source": [
    "from ase.io import read\n",
    "from weas_widget import WeasWidget\n",
    "\n",
    "traj = read(\"janus_results/NaCl-deformed-opt.extxyz\")\n",
    "\n",
    "v=WeasWidget()\n",
    "v.from_ase(traj)\n",
    "v.avr.model_style = 1\n",
    "v.avr.show_hydrogen_bonds = True\n",
    "v"
   ]
  },
  {
   "cell_type": "markdown",
   "metadata": {},
   "source": [
    "## Trajectories"
   ]
  },
  {
   "cell_type": "markdown",
   "metadata": {},
   "source": [
    "We can also save the trajectory during optimisation:"
   ]
  },
  {
   "cell_type": "code",
   "execution_count": 7,
   "metadata": {},
   "outputs": [
    {
     "name": "stdout",
     "output_type": "stream",
     "text": [
      "/Users/elliottkasoar/Documents/PSDI/janus-core/.venv/lib/python3.12/site-packages/e3nn/o3/_wigner.py:10: FutureWarning: You are using `torch.load` with `weights_only=False` (the current default value), which uses the default pickle module implicitly. It is possible to construct malicious pickle data which will execute arbitrary code during unpickling (See https://github.com/pytorch/pytorch/blob/main/SECURITY.md#untrusted-models for more details). In a future release, the default value for `weights_only` will be flipped to `True`. This limits the functions that could be executed during unpickling. Arbitrary objects will no longer be allowed to be loaded via this mode unless they are explicitly allowlisted by the user via `torch.serialization.add_safe_globals`. We recommend you start setting `weights_only=True` for any use case where you don't have full control of the loaded file. Please open an issue on GitHub for any issues related to this experimental feature.\n",
      "  _Jd, _W3j_flat, _W3j_indices = torch.load(os.path.join(os.path.dirname(__file__), 'constants.pt'))\n",
      "cuequivariance or cuequivariance_torch is not available. Cuequivariance acceleration will be disabled.\n",
      "Using Materials Project MACE for MACECalculator with /Users/elliottkasoar/.cache/mace/20231210mace128L0_energy_epoch249model\n",
      "Using float64 for MACECalculator, which is slower but more accurate. Recommended for geometry optimization.\n",
      "/Users/elliottkasoar/Documents/PSDI/janus-core/.venv/lib/python3.12/site-packages/mace/calculators/mace.py:139: FutureWarning: You are using `torch.load` with `weights_only=False` (the current default value), which uses the default pickle module implicitly. It is possible to construct malicious pickle data which will execute arbitrary code during unpickling (See https://github.com/pytorch/pytorch/blob/main/SECURITY.md#untrusted-models for more details). In a future release, the default value for `weights_only` will be flipped to `True`. This limits the functions that could be executed during unpickling. Arbitrary objects will no longer be allowed to be loaded via this mode unless they are explicitly allowlisted by the user via `torch.serialization.add_safe_globals`. We recommend you start setting `weights_only=True` for any use case where you don't have full control of the loaded file. Please open an issue on GitHub for any issues related to this experimental feature.\n",
      "  torch.load(f=model_path, map_location=device)\n",
      "       Step     Time          Energy          fmax\n",
      "LBFGS:    0 15:51:28      -24.377063        2.732337\n",
      "LBFGS:    1 15:51:29      -24.576368        2.152513\n",
      "LBFGS:    2 15:51:29      -25.093690        0.949845\n",
      "LBFGS:    3 15:51:29      -25.290212        0.685740\n",
      "LBFGS:    4 15:51:29      -25.403788        0.951695\n",
      "LBFGS:    5 15:51:29      -25.465213        1.066671\n",
      "LBFGS:    6 15:51:29      -25.566446        1.095941\n",
      "LBFGS:    7 15:51:29      -25.695050        0.931041\n",
      "LBFGS:    8 15:51:29      -25.856683        0.857034\n",
      "LBFGS:    9 15:51:29      -26.109079        0.811033\n",
      "LBFGS:   10 15:51:29      -26.298823        0.545193\n",
      "LBFGS:   11 15:51:29      -26.353032        0.656387\n",
      "LBFGS:   12 15:51:29      -26.383904        0.710488\n",
      "LBFGS:   13 15:51:29      -26.485793        0.790107\n",
      "LBFGS:   14 15:51:29      -26.643853        0.768081\n",
      "LBFGS:   15 15:51:29      -26.751857        0.477356\n",
      "LBFGS:   16 15:51:29      -26.792940        0.329784\n",
      "LBFGS:   17 15:51:29      -26.815123        0.343673\n",
      "LBFGS:   18 15:51:29      -26.829194        0.334430\n",
      "LBFGS:   19 15:51:29      -26.845943        0.317718\n",
      "LBFGS:   20 15:51:29      -26.912307        0.249075\n",
      "LBFGS:   21 15:51:29      -26.975682        0.229256\n",
      "LBFGS:   22 15:51:29      -27.018210        0.150833\n",
      "LBFGS:   23 15:51:29      -27.023510        0.093603\n"
     ]
    }
   ],
   "source": [
    "! janus geomopt --struct ../data/NaCl-deformed.xyz --write-traj --no-tracker"
   ]
  },
  {
   "cell_type": "markdown",
   "metadata": {},
   "source": [
    "This creates an additional file, `janus_results/NaCl-deformed-traj.extxyz`:"
   ]
  },
  {
   "cell_type": "code",
   "execution_count": 8,
   "metadata": {},
   "outputs": [
    {
     "name": "stdout",
     "output_type": "stream",
     "text": [
      "janus_results/NaCl-deformed-geomopt-log.yml\n",
      "janus_results/NaCl-deformed-geomopt-summary.yml\n",
      "janus_results/NaCl-deformed-opt.extxyz\n",
      "janus_results/NaCl-deformed-traj.extxyz\n"
     ]
    }
   ],
   "source": [
    "! ls janus_results/NaCl-deformed*"
   ]
  },
  {
   "cell_type": "markdown",
   "metadata": {},
   "source": [
    "This allows us to visualise the optimisation:"
   ]
  },
  {
   "cell_type": "code",
   "execution_count": 9,
   "metadata": {},
   "outputs": [
    {
     "data": {
      "application/vnd.jupyter.widget-view+json": {
       "model_id": "7ae82f5b54e04fdab0c68825198cb74c",
       "version_major": 2,
       "version_minor": 0
      },
      "text/plain": [
       "WeasWidget(children=(BaseWidget(atoms=[{'species': {'Na': 'Na', 'Cl': 'Cl'}, 'cell': [5.63, 0.0, 0.0, 0.0, 5.6…"
      ]
     },
     "execution_count": 9,
     "metadata": {},
     "output_type": "execute_result"
    }
   ],
   "source": [
    "from ase.io import read\n",
    "from weas_widget import WeasWidget\n",
    "\n",
    "traj = read(\"janus_results/NaCl-deformed-traj.extxyz\", index=\":\")\n",
    "\n",
    "v=WeasWidget()\n",
    "v.from_ase(traj)\n",
    "v.avr.model_style = 1\n",
    "v.avr.show_hydrogen_bonds = True\n",
    "v"
   ]
  },
  {
   "cell_type": "markdown",
   "metadata": {},
   "source": [
    "## Cell optimisation"
   ]
  },
  {
   "cell_type": "markdown",
   "metadata": {},
   "source": [
    "We can also choose to modify the cell vectors during the optimisation. To allow only the cell lengths to change, we can run:"
   ]
  },
  {
   "cell_type": "code",
   "execution_count": 10,
   "metadata": {},
   "outputs": [
    {
     "name": "stdout",
     "output_type": "stream",
     "text": [
      "/Users/elliottkasoar/Documents/PSDI/janus-core/.venv/lib/python3.12/site-packages/e3nn/o3/_wigner.py:10: FutureWarning: You are using `torch.load` with `weights_only=False` (the current default value), which uses the default pickle module implicitly. It is possible to construct malicious pickle data which will execute arbitrary code during unpickling (See https://github.com/pytorch/pytorch/blob/main/SECURITY.md#untrusted-models for more details). In a future release, the default value for `weights_only` will be flipped to `True`. This limits the functions that could be executed during unpickling. Arbitrary objects will no longer be allowed to be loaded via this mode unless they are explicitly allowlisted by the user via `torch.serialization.add_safe_globals`. We recommend you start setting `weights_only=True` for any use case where you don't have full control of the loaded file. Please open an issue on GitHub for any issues related to this experimental feature.\n",
      "  _Jd, _W3j_flat, _W3j_indices = torch.load(os.path.join(os.path.dirname(__file__), 'constants.pt'))\n",
      "cuequivariance or cuequivariance_torch is not available. Cuequivariance acceleration will be disabled.\n",
      "Using Materials Project MACE for MACECalculator with /Users/elliottkasoar/.cache/mace/20231210mace128L0_energy_epoch249model\n",
      "Using float64 for MACECalculator, which is slower but more accurate. Recommended for geometry optimization.\n",
      "/Users/elliottkasoar/Documents/PSDI/janus-core/.venv/lib/python3.12/site-packages/mace/calculators/mace.py:139: FutureWarning: You are using `torch.load` with `weights_only=False` (the current default value), which uses the default pickle module implicitly. It is possible to construct malicious pickle data which will execute arbitrary code during unpickling (See https://github.com/pytorch/pytorch/blob/main/SECURITY.md#untrusted-models for more details). In a future release, the default value for `weights_only` will be flipped to `True`. This limits the functions that could be executed during unpickling. Arbitrary objects will no longer be allowed to be loaded via this mode unless they are explicitly allowlisted by the user via `torch.serialization.add_safe_globals`. We recommend you start setting `weights_only=True` for any use case where you don't have full control of the loaded file. Please open an issue on GitHub for any issues related to this experimental feature.\n",
      "  torch.load(f=model_path, map_location=device)\n",
      "       Step     Time          Energy          fmax\n",
      "LBFGS:    0 15:51:32      -24.377063        2.732337\n",
      "LBFGS:    1 15:51:32      -24.593123        2.143240\n",
      "LBFGS:    2 15:51:32      -25.178180        0.955170\n",
      "LBFGS:    3 15:51:32      -25.445502        0.670912\n",
      "LBFGS:    4 15:51:33      -25.641907        0.919610\n",
      "LBFGS:    5 15:51:33      -25.735611        1.036999\n",
      "LBFGS:    6 15:51:33      -25.816918        1.015167\n",
      "LBFGS:    7 15:51:33      -25.937123        0.774473\n",
      "LBFGS:    8 15:51:33      -26.075553        0.561448\n",
      "LBFGS:    9 15:51:33      -26.194652        0.423668\n",
      "LBFGS:   10 15:51:33      -26.290628        0.391005\n",
      "LBFGS:   11 15:51:33      -26.323319        0.439570\n",
      "LBFGS:   12 15:51:33      -26.337274        0.452690\n",
      "LBFGS:   13 15:51:33      -26.372755        0.457902\n",
      "LBFGS:   14 15:51:33      -26.436676        0.640085\n",
      "LBFGS:   15 15:51:33      -26.522182        0.786499\n",
      "LBFGS:   16 15:51:33      -26.636096        0.839171\n",
      "LBFGS:   17 15:51:33      -26.785166        0.746960\n",
      "LBFGS:   18 15:51:33      -26.953112        0.390060\n",
      "LBFGS:   19 15:51:33      -27.019414        0.155454\n",
      "LBFGS:   20 15:51:34      -27.024708        0.104189\n",
      "LBFGS:   21 15:51:34      -27.025735        0.100499\n",
      "LBFGS:   22 15:51:34      -27.040218        0.057352\n"
     ]
    }
   ],
   "source": [
    "! janus geomopt --struct ../data/NaCl-deformed.xyz --write-traj --opt-cell-lengths --no-tracker"
   ]
  },
  {
   "cell_type": "markdown",
   "metadata": {},
   "source": [
    "As before, we can visualise this trajectory:"
   ]
  },
  {
   "cell_type": "code",
   "execution_count": 11,
   "metadata": {},
   "outputs": [
    {
     "data": {
      "application/vnd.jupyter.widget-view+json": {
       "model_id": "7eecdf8e430447dc8114a5e3b8f04c44",
       "version_major": 2,
       "version_minor": 0
      },
      "text/plain": [
       "WeasWidget(children=(BaseWidget(atoms=[{'species': {'Na': 'Na', 'Cl': 'Cl'}, 'cell': [5.63, 0.0, 0.0, 0.0, 5.6…"
      ]
     },
     "execution_count": 11,
     "metadata": {},
     "output_type": "execute_result"
    }
   ],
   "source": [
    "from ase.io import read\n",
    "from weas_widget import WeasWidget\n",
    "\n",
    "traj = read(\"janus_results/NaCl-deformed-traj.extxyz\", index=\":\")\n",
    "\n",
    "v=WeasWidget()\n",
    "v.from_ase(traj)\n",
    "v.avr.model_style = 1\n",
    "v.avr.show_hydrogen_bonds = True\n",
    "v"
   ]
  },
  {
   "cell_type": "markdown",
   "metadata": {},
   "source": [
    "We can also allow the cell angles to change:"
   ]
  },
  {
   "cell_type": "code",
   "execution_count": 12,
   "metadata": {},
   "outputs": [
    {
     "name": "stdout",
     "output_type": "stream",
     "text": [
      "/Users/elliottkasoar/Documents/PSDI/janus-core/.venv/lib/python3.12/site-packages/e3nn/o3/_wigner.py:10: FutureWarning: You are using `torch.load` with `weights_only=False` (the current default value), which uses the default pickle module implicitly. It is possible to construct malicious pickle data which will execute arbitrary code during unpickling (See https://github.com/pytorch/pytorch/blob/main/SECURITY.md#untrusted-models for more details). In a future release, the default value for `weights_only` will be flipped to `True`. This limits the functions that could be executed during unpickling. Arbitrary objects will no longer be allowed to be loaded via this mode unless they are explicitly allowlisted by the user via `torch.serialization.add_safe_globals`. We recommend you start setting `weights_only=True` for any use case where you don't have full control of the loaded file. Please open an issue on GitHub for any issues related to this experimental feature.\n",
      "  _Jd, _W3j_flat, _W3j_indices = torch.load(os.path.join(os.path.dirname(__file__), 'constants.pt'))\n",
      "cuequivariance or cuequivariance_torch is not available. Cuequivariance acceleration will be disabled.\n",
      "Using Materials Project MACE for MACECalculator with /Users/elliottkasoar/.cache/mace/20231210mace128L0_energy_epoch249model\n",
      "Using float64 for MACECalculator, which is slower but more accurate. Recommended for geometry optimization.\n",
      "/Users/elliottkasoar/Documents/PSDI/janus-core/.venv/lib/python3.12/site-packages/mace/calculators/mace.py:139: FutureWarning: You are using `torch.load` with `weights_only=False` (the current default value), which uses the default pickle module implicitly. It is possible to construct malicious pickle data which will execute arbitrary code during unpickling (See https://github.com/pytorch/pytorch/blob/main/SECURITY.md#untrusted-models for more details). In a future release, the default value for `weights_only` will be flipped to `True`. This limits the functions that could be executed during unpickling. Arbitrary objects will no longer be allowed to be loaded via this mode unless they are explicitly allowlisted by the user via `torch.serialization.add_safe_globals`. We recommend you start setting `weights_only=True` for any use case where you don't have full control of the loaded file. Please open an issue on GitHub for any issues related to this experimental feature.\n",
      "  torch.load(f=model_path, map_location=device)\n",
      "       Step     Time          Energy          fmax\n",
      "LBFGS:    0 15:51:36      -24.377063        2.732337\n",
      "LBFGS:    1 15:51:36      -24.593440        2.145517\n",
      "LBFGS:    2 15:51:37      -25.187807        0.956555\n",
      "LBFGS:    3 15:51:37      -25.462335        0.675018\n",
      "LBFGS:    4 15:51:37      -25.663853        0.932226\n",
      "LBFGS:    5 15:51:37      -25.757785        1.056063\n",
      "LBFGS:    6 15:51:37      -25.841303        1.038396\n",
      "LBFGS:    7 15:51:37      -25.968290        0.806821\n",
      "LBFGS:    8 15:51:37      -26.115858        0.539264\n",
      "LBFGS:    9 15:51:37      -26.230485        0.404401\n",
      "LBFGS:   10 15:51:37      -26.323082        0.351277\n",
      "LBFGS:   11 15:51:37      -26.354901        0.404205\n",
      "LBFGS:   12 15:51:37      -26.366593        0.418519\n",
      "LBFGS:   13 15:51:37      -26.402172        0.433457\n",
      "LBFGS:   14 15:51:37      -26.468589        0.596828\n",
      "LBFGS:   15 15:51:37      -26.555830        0.733795\n",
      "LBFGS:   16 15:51:37      -26.664503        0.782841\n",
      "LBFGS:   17 15:51:38      -26.800773        0.695400\n",
      "LBFGS:   18 15:51:38      -26.945555        0.318072\n",
      "LBFGS:   19 15:51:38      -26.988824        0.103903\n",
      "LBFGS:   20 15:51:38      -26.991370        0.096582\n"
     ]
    }
   ],
   "source": [
    "! janus geomopt --struct ../data/NaCl-deformed.xyz --write-traj --opt-cell-fully --no-tracker"
   ]
  },
  {
   "cell_type": "markdown",
   "metadata": {},
   "source": [
    "Visualising this:"
   ]
  },
  {
   "cell_type": "code",
   "execution_count": 13,
   "metadata": {},
   "outputs": [
    {
     "data": {
      "application/vnd.jupyter.widget-view+json": {
       "model_id": "39b17611b5974295a8742cd09537e75a",
       "version_major": 2,
       "version_minor": 0
      },
      "text/plain": [
       "WeasWidget(children=(BaseWidget(atoms=[{'species': {'Na': 'Na', 'Cl': 'Cl'}, 'cell': [5.63, 0.0, 0.0, 0.0, 5.6…"
      ]
     },
     "execution_count": 13,
     "metadata": {},
     "output_type": "execute_result"
    }
   ],
   "source": [
    "from ase.io import read\n",
    "from weas_widget import WeasWidget\n",
    "\n",
    "traj = read(\"janus_results/NaCl-deformed-traj.extxyz\", index=\":\")\n",
    "\n",
    "v=WeasWidget()\n",
    "v.from_ase(traj)\n",
    "v.avr.model_style = 1\n",
    "v.avr.show_hydrogen_bonds = True\n",
    "v"
   ]
  },
  {
   "cell_type": "markdown",
   "metadata": {},
   "source": [
    "## Setting the unit cell filter"
   ]
  },
  {
   "cell_type": "markdown",
   "metadata": {},
   "source": [
    "Cell optimisation is carried out by appling an ASE `filter` to the structure. By default, this is the `FrechetCellFilter`, but you may wish to apply others, such as the `ExpCellFilter`. This is passed as a string, and must correspond to a class defined in ASE.\n",
    "\n",
    "Key word arguments can also be passed to these filters. For example, we can maintain constant volume using the following configuration file:"
   ]
  },
  {
   "cell_type": "code",
   "execution_count": 14,
   "metadata": {},
   "outputs": [
    {
     "name": "stdout",
     "output_type": "stream",
     "text": [
      "Writing geomopt_config_1.yml\n"
     ]
    }
   ],
   "source": [
    "%%writefile geomopt_config_1.yml\n",
    "\n",
    "struct: ../data/NaCl-deformed.xyz\n",
    "opt_cell_fully: True\n",
    "filter_func: ExpCellFilter\n",
    "minimize_kwargs:\n",
    "  filter_kwargs:\n",
    "    constant_volume: True\n",
    "tracker: False"
   ]
  },
  {
   "cell_type": "markdown",
   "metadata": {},
   "source": [
    "<div class=\"alert alert-block alert-info\">\n",
    "<b>Tip:</b> This is equivalent to:\n",
    "\n",
    "--struct ../data/NaCl-deformed.xyz --opt-cell-fully --filter-func ExpCellFilter --minimize-kwargs \"{'filter_kwargs': {'constant_volume' : True}\" --no-tracker\n",
    "</div>\n"
   ]
  },
  {
   "cell_type": "code",
   "execution_count": 15,
   "metadata": {},
   "outputs": [
    {
     "name": "stdout",
     "output_type": "stream",
     "text": [
      "/Users/elliottkasoar/Documents/PSDI/janus-core/.venv/lib/python3.12/site-packages/e3nn/o3/_wigner.py:10: FutureWarning: You are using `torch.load` with `weights_only=False` (the current default value), which uses the default pickle module implicitly. It is possible to construct malicious pickle data which will execute arbitrary code during unpickling (See https://github.com/pytorch/pytorch/blob/main/SECURITY.md#untrusted-models for more details). In a future release, the default value for `weights_only` will be flipped to `True`. This limits the functions that could be executed during unpickling. Arbitrary objects will no longer be allowed to be loaded via this mode unless they are explicitly allowlisted by the user via `torch.serialization.add_safe_globals`. We recommend you start setting `weights_only=True` for any use case where you don't have full control of the loaded file. Please open an issue on GitHub for any issues related to this experimental feature.\n",
      "  _Jd, _W3j_flat, _W3j_indices = torch.load(os.path.join(os.path.dirname(__file__), 'constants.pt'))\n",
      "cuequivariance or cuequivariance_torch is not available. Cuequivariance acceleration will be disabled.\n",
      "Using Materials Project MACE for MACECalculator with /Users/elliottkasoar/.cache/mace/20231210mace128L0_energy_epoch249model\n",
      "Using float64 for MACECalculator, which is slower but more accurate. Recommended for geometry optimization.\n",
      "/Users/elliottkasoar/Documents/PSDI/janus-core/.venv/lib/python3.12/site-packages/mace/calculators/mace.py:139: FutureWarning: You are using `torch.load` with `weights_only=False` (the current default value), which uses the default pickle module implicitly. It is possible to construct malicious pickle data which will execute arbitrary code during unpickling (See https://github.com/pytorch/pytorch/blob/main/SECURITY.md#untrusted-models for more details). In a future release, the default value for `weights_only` will be flipped to `True`. This limits the functions that could be executed during unpickling. Arbitrary objects will no longer be allowed to be loaded via this mode unless they are explicitly allowlisted by the user via `torch.serialization.add_safe_globals`. We recommend you start setting `weights_only=True` for any use case where you don't have full control of the loaded file. Please open an issue on GitHub for any issues related to this experimental feature.\n",
      "  torch.load(f=model_path, map_location=device)\n",
      "       Step     Time          Energy          fmax\n",
      "LBFGS:    0 15:51:40      -24.377063        2.732337\n",
      "LBFGS:    1 15:51:41      -24.592435        2.306591\n",
      "LBFGS:    2 15:51:41      -25.267905        1.323804\n",
      "LBFGS:    3 15:51:41      -25.449977        1.003470\n",
      "LBFGS:    4 15:51:41      -25.521347        0.823847\n",
      "LBFGS:    5 15:51:41      -25.573640        0.866332\n",
      "LBFGS:    6 15:51:41      -25.673315        1.004378\n",
      "LBFGS:    7 15:51:41      -25.811015        1.004781\n",
      "LBFGS:    8 15:51:41      -25.975638        0.889642\n",
      "LBFGS:    9 15:51:41      -26.150934        0.689834\n",
      "LBFGS:   10 15:51:41      -26.319557        0.690018\n",
      "LBFGS:   11 15:51:41      -26.467568        0.708275\n",
      "LBFGS:   12 15:51:41      -26.574768        0.722124\n",
      "LBFGS:   13 15:51:41      -26.637370        0.637261\n",
      "LBFGS:   14 15:51:41      -26.708598        0.646450\n",
      "LBFGS:   15 15:51:42      -26.781501        0.681819\n",
      "LBFGS:   16 15:51:42      -26.844998        0.708926\n",
      "LBFGS:   17 15:51:42      -26.874141        0.642122\n",
      "LBFGS:   18 15:51:42      -26.894946        0.530522\n",
      "LBFGS:   19 15:51:42      -26.919861        0.583009\n",
      "LBFGS:   20 15:51:42      -26.954422        0.529294\n",
      "LBFGS:   21 15:51:42      -26.977868        0.252808\n",
      "LBFGS:   22 15:51:42      -26.985391        0.153658\n",
      "LBFGS:   23 15:51:42      -26.987735        0.137245\n",
      "LBFGS:   24 15:51:42      -26.991006        0.146929\n",
      "LBFGS:   25 15:51:42      -26.998079        0.227195\n",
      "LBFGS:   26 15:51:42      -27.010168        0.266027\n",
      "LBFGS:   27 15:51:42      -27.022858        0.207394\n",
      "LBFGS:   28 15:51:42      -27.029032        0.073577\n"
     ]
    }
   ],
   "source": [
    "! janus geomopt --config geomopt_config_1.yml"
   ]
  },
  {
   "cell_type": "markdown",
   "metadata": {},
   "source": [
    "Visualising this:"
   ]
  },
  {
   "cell_type": "code",
   "execution_count": 16,
   "metadata": {},
   "outputs": [
    {
     "data": {
      "application/vnd.jupyter.widget-view+json": {
       "model_id": "af6e171b92684ac78de674d1a097f6be",
       "version_major": 2,
       "version_minor": 0
      },
      "text/plain": [
       "WeasWidget(children=(BaseWidget(atoms=[{'species': {'Na': 'Na', 'Cl': 'Cl'}, 'cell': [5.63, 0.0, 0.0, 0.0, 5.6…"
      ]
     },
     "execution_count": 16,
     "metadata": {},
     "output_type": "execute_result"
    }
   ],
   "source": [
    "from ase.io import read\n",
    "from weas_widget import WeasWidget\n",
    "\n",
    "traj = read(\"janus_results/NaCl-deformed-traj.extxyz\", index=\":\")\n",
    "\n",
    "v=WeasWidget()\n",
    "v.from_ase(traj)\n",
    "v.avr.model_style = 1\n",
    "v.avr.show_hydrogen_bonds = True\n",
    "v"
   ]
  },
  {
   "cell_type": "markdown",
   "metadata": {},
   "source": [
    "## Constant pressure and symmetry refinement"
   ]
  },
  {
   "cell_type": "markdown",
   "metadata": {},
   "source": [
    "We can also choose to optimise at a fixed pressure (in GPa), and refine the symmetry of the final structure:"
   ]
  },
  {
   "cell_type": "code",
   "execution_count": 17,
   "metadata": {},
   "outputs": [
    {
     "name": "stdout",
     "output_type": "stream",
     "text": [
      "/Users/elliottkasoar/Documents/PSDI/janus-core/.venv/lib/python3.12/site-packages/e3nn/o3/_wigner.py:10: FutureWarning: You are using `torch.load` with `weights_only=False` (the current default value), which uses the default pickle module implicitly. It is possible to construct malicious pickle data which will execute arbitrary code during unpickling (See https://github.com/pytorch/pytorch/blob/main/SECURITY.md#untrusted-models for more details). In a future release, the default value for `weights_only` will be flipped to `True`. This limits the functions that could be executed during unpickling. Arbitrary objects will no longer be allowed to be loaded via this mode unless they are explicitly allowlisted by the user via `torch.serialization.add_safe_globals`. We recommend you start setting `weights_only=True` for any use case where you don't have full control of the loaded file. Please open an issue on GitHub for any issues related to this experimental feature.\n",
      "  _Jd, _W3j_flat, _W3j_indices = torch.load(os.path.join(os.path.dirname(__file__), 'constants.pt'))\n",
      "cuequivariance or cuequivariance_torch is not available. Cuequivariance acceleration will be disabled.\n",
      "Using Materials Project MACE for MACECalculator with /Users/elliottkasoar/.cache/mace/20231210mace128L0_energy_epoch249model\n",
      "Using float64 for MACECalculator, which is slower but more accurate. Recommended for geometry optimization.\n",
      "/Users/elliottkasoar/Documents/PSDI/janus-core/.venv/lib/python3.12/site-packages/mace/calculators/mace.py:139: FutureWarning: You are using `torch.load` with `weights_only=False` (the current default value), which uses the default pickle module implicitly. It is possible to construct malicious pickle data which will execute arbitrary code during unpickling (See https://github.com/pytorch/pytorch/blob/main/SECURITY.md#untrusted-models for more details). In a future release, the default value for `weights_only` will be flipped to `True`. This limits the functions that could be executed during unpickling. Arbitrary objects will no longer be allowed to be loaded via this mode unless they are explicitly allowlisted by the user via `torch.serialization.add_safe_globals`. We recommend you start setting `weights_only=True` for any use case where you don't have full control of the loaded file. Please open an issue on GitHub for any issues related to this experimental feature.\n",
      "  torch.load(f=model_path, map_location=device)\n",
      "       Step     Time          Energy          fmax\n",
      "LBFGS:    0 15:51:45      -13.238868        2.732337\n",
      "LBFGS:    1 15:51:45      -13.462923        2.165368\n",
      "LBFGS:    2 15:51:45      -14.202196        0.816332\n",
      "LBFGS:    3 15:51:45      -14.482717        0.974135\n",
      "LBFGS:    4 15:51:45      -14.615201        1.357127\n",
      "LBFGS:    5 15:51:45      -14.725192        1.523082\n",
      "LBFGS:    6 15:51:46      -14.965894        1.582837\n",
      "LBFGS:    7 15:51:46      -15.224801        1.365773\n",
      "LBFGS:    8 15:51:46      -15.565080        1.478877\n",
      "LBFGS:    9 15:51:46      -16.012663        1.304065\n",
      "LBFGS:   10 15:51:46      -16.228606        0.830748\n",
      "LBFGS:   11 15:51:46      -16.309868        0.857244\n",
      "LBFGS:   12 15:51:46      -16.420749        0.921891\n",
      "LBFGS:   13 15:51:46      -16.573410        0.762856\n",
      "LBFGS:   14 15:51:46      -16.657135        0.352620\n",
      "LBFGS:   15 15:51:46      -16.675171        0.233915\n",
      "LBFGS:   16 15:51:46      -16.683179        0.220636\n",
      "LBFGS:   17 15:51:46      -16.689688        0.228274\n",
      "LBFGS:   18 15:51:46      -16.704695        0.244224\n",
      "LBFGS:   19 15:51:46      -16.735181        0.260771\n",
      "LBFGS:   20 15:51:46      -16.783558        0.280588\n",
      "LBFGS:   21 15:51:47      -16.825748        0.241423\n",
      "LBFGS:   22 15:51:47      -16.838071        0.184039\n",
      "LBFGS:   23 15:51:47      -16.842487        0.164277\n",
      "LBFGS:   24 15:51:47      -16.845307        0.148875\n",
      "LBFGS:   25 15:51:47      -16.851921        0.108184\n",
      "LBFGS:   26 15:51:47      -16.859492        0.071406\n"
     ]
    }
   ],
   "source": [
    "! janus geomopt --struct ../data/NaCl-deformed.xyz --write-traj --pressure 10 --opt-cell-fully --symmetrize --no-tracker"
   ]
  },
  {
   "cell_type": "markdown",
   "metadata": {},
   "source": [
    "Visualising this:"
   ]
  },
  {
   "cell_type": "code",
   "execution_count": 18,
   "metadata": {},
   "outputs": [
    {
     "data": {
      "application/vnd.jupyter.widget-view+json": {
       "model_id": "72ecff51916349b394acb7453af657c6",
       "version_major": 2,
       "version_minor": 0
      },
      "text/plain": [
       "WeasWidget(children=(BaseWidget(atoms=[{'species': {'Na': 'Na', 'Cl': 'Cl'}, 'cell': [5.63, 0.0, 0.0, 0.0, 5.6…"
      ]
     },
     "execution_count": 18,
     "metadata": {},
     "output_type": "execute_result"
    }
   ],
   "source": [
    "from ase.io import read\n",
    "from weas_widget import WeasWidget\n",
    "\n",
    "traj = read(\"janus_results/NaCl-deformed-traj.extxyz\", index=\":\")\n",
    "\n",
    "v=WeasWidget()\n",
    "v.from_ase(traj)\n",
    "v.avr.model_style = 1\n",
    "v.avr.show_hydrogen_bonds = True\n",
    "v"
   ]
  },
  {
   "cell_type": "markdown",
   "metadata": {},
   "source": [
    "## Comparing MACE to SevenNet"
   ]
  },
  {
   "cell_type": "markdown",
   "metadata": {},
   "source": [
    "Finally, let's compare to the structure optimised by SevenNet:"
   ]
  },
  {
   "cell_type": "code",
   "execution_count": 19,
   "metadata": {},
   "outputs": [
    {
     "name": "stdout",
     "output_type": "stream",
     "text": [
      "Writing geomopt_config_mace.yml\n"
     ]
    }
   ],
   "source": [
    "%%writefile geomopt_config_mace.yml\n",
    "\n",
    "struct: ../data/NaCl-deformed.xyz\n",
    "arch: mace_mp\n",
    "opt_cell_fully: True\n",
    "minimize_kwargs:\n",
    "  filter_kwargs:\n",
    "    constant_volume: True\n",
    "pressure: 10\n",
    "file_prefix: janus_results/NaCl-mace\n",
    "tracker: False"
   ]
  },
  {
   "cell_type": "code",
   "execution_count": 20,
   "metadata": {},
   "outputs": [
    {
     "name": "stdout",
     "output_type": "stream",
     "text": [
      "/Users/elliottkasoar/Documents/PSDI/janus-core/.venv/lib/python3.12/site-packages/e3nn/o3/_wigner.py:10: FutureWarning: You are using `torch.load` with `weights_only=False` (the current default value), which uses the default pickle module implicitly. It is possible to construct malicious pickle data which will execute arbitrary code during unpickling (See https://github.com/pytorch/pytorch/blob/main/SECURITY.md#untrusted-models for more details). In a future release, the default value for `weights_only` will be flipped to `True`. This limits the functions that could be executed during unpickling. Arbitrary objects will no longer be allowed to be loaded via this mode unless they are explicitly allowlisted by the user via `torch.serialization.add_safe_globals`. We recommend you start setting `weights_only=True` for any use case where you don't have full control of the loaded file. Please open an issue on GitHub for any issues related to this experimental feature.\n",
      "  _Jd, _W3j_flat, _W3j_indices = torch.load(os.path.join(os.path.dirname(__file__), 'constants.pt'))\n",
      "cuequivariance or cuequivariance_torch is not available. Cuequivariance acceleration will be disabled.\n",
      "Using Materials Project MACE for MACECalculator with /Users/elliottkasoar/.cache/mace/20231210mace128L0_energy_epoch249model\n",
      "Using float64 for MACECalculator, which is slower but more accurate. Recommended for geometry optimization.\n",
      "/Users/elliottkasoar/Documents/PSDI/janus-core/.venv/lib/python3.12/site-packages/mace/calculators/mace.py:139: FutureWarning: You are using `torch.load` with `weights_only=False` (the current default value), which uses the default pickle module implicitly. It is possible to construct malicious pickle data which will execute arbitrary code during unpickling (See https://github.com/pytorch/pytorch/blob/main/SECURITY.md#untrusted-models for more details). In a future release, the default value for `weights_only` will be flipped to `True`. This limits the functions that could be executed during unpickling. Arbitrary objects will no longer be allowed to be loaded via this mode unless they are explicitly allowlisted by the user via `torch.serialization.add_safe_globals`. We recommend you start setting `weights_only=True` for any use case where you don't have full control of the loaded file. Please open an issue on GitHub for any issues related to this experimental feature.\n",
      "  torch.load(f=model_path, map_location=device)\n",
      "       Step     Time          Energy          fmax\n",
      "LBFGS:    0 15:51:50      -13.238868        2.732337\n",
      "LBFGS:    1 15:51:50      -13.438489        2.154819\n",
      "LBFGS:    2 15:51:50      -13.964822        0.951229\n",
      "LBFGS:    3 15:51:50      -14.168259        0.691490\n",
      "LBFGS:    4 15:51:50      -14.287776        0.967388\n",
      "LBFGS:    5 15:51:50      -14.353338        1.090650\n",
      "LBFGS:    6 15:51:50      -14.462727        1.132334\n",
      "LBFGS:    7 15:51:50      -14.599603        0.979719\n",
      "LBFGS:    8 15:51:50      -14.777078        0.839389\n",
      "LBFGS:    9 15:51:50      -15.047300        0.768000\n",
      "LBFGS:   10 15:51:50      -15.234272        0.506532\n",
      "LBFGS:   11 15:51:51      -15.289339        0.637933\n",
      "LBFGS:   12 15:51:51      -15.315515        0.687128\n",
      "LBFGS:   13 15:51:51      -15.381258        0.722061\n",
      "LBFGS:   14 15:51:51      -15.501767        0.656301\n",
      "LBFGS:   15 15:51:51      -15.613928        0.438204\n",
      "LBFGS:   16 15:51:51      -15.657094        0.267788\n",
      "LBFGS:   17 15:51:51      -15.672232        0.278590\n",
      "LBFGS:   18 15:51:51      -15.685886        0.274355\n",
      "LBFGS:   19 15:51:51      -15.695658        0.276833\n",
      "LBFGS:   20 15:51:51      -15.737869        0.260571\n",
      "LBFGS:   21 15:51:51      -15.795216        0.210303\n",
      "LBFGS:   22 15:51:51      -15.844755        0.192020\n",
      "LBFGS:   23 15:51:51      -15.855027        0.128712\n",
      "LBFGS:   24 15:51:51      -15.857020        0.105543\n",
      "LBFGS:   25 15:51:51      -15.859034        0.082504\n",
      "/Users/elliottkasoar/Documents/PSDI/janus-core/.venv/lib/python3.12/site-packages/e3nn/o3/_wigner.py:10: FutureWarning: You are using `torch.load` with `weights_only=False` (the current default value), which uses the default pickle module implicitly. It is possible to construct malicious pickle data which will execute arbitrary code during unpickling (See https://github.com/pytorch/pytorch/blob/main/SECURITY.md#untrusted-models for more details). In a future release, the default value for `weights_only` will be flipped to `True`. This limits the functions that could be executed during unpickling. Arbitrary objects will no longer be allowed to be loaded via this mode unless they are explicitly allowlisted by the user via `torch.serialization.add_safe_globals`. We recommend you start setting `weights_only=True` for any use case where you don't have full control of the loaded file. Please open an issue on GitHub for any issues related to this experimental feature.\n",
      "  _Jd, _W3j_flat, _W3j_indices = torch.load(os.path.join(os.path.dirname(__file__), 'constants.pt'))\n",
      "       Step     Time          Energy          fmax\n",
      "LBFGS:    0 15:51:55      -13.224955        2.480491\n",
      "LBFGS:    1 15:51:55      -13.409037        2.025704\n",
      "LBFGS:    2 15:51:55      -13.958830        0.882636\n",
      "LBFGS:    3 15:51:55      -14.118237        0.913999\n",
      "LBFGS:    4 15:51:56      -14.197076        1.139245\n",
      "LBFGS:    5 15:51:56      -14.274430        1.231919\n",
      "LBFGS:    6 15:51:56      -14.405305        1.139788\n",
      "LBFGS:    7 15:51:56      -14.545731        0.873386\n",
      "LBFGS:    8 15:51:56      -14.699454        0.873543\n",
      "LBFGS:    9 15:51:56      -14.915076        0.853270\n",
      "LBFGS:   10 15:51:56      -15.109297        0.626114\n",
      "LBFGS:   11 15:51:56      -15.172990        0.807070\n",
      "LBFGS:   12 15:51:56      -15.206856        0.850213\n",
      "LBFGS:   13 15:51:56      -15.321530        0.874762\n",
      "LBFGS:   14 15:51:56      -15.490636        0.744572\n",
      "LBFGS:   15 15:51:56      -15.617524        0.395816\n",
      "LBFGS:   16 15:51:56      -15.664673        0.237203\n",
      "LBFGS:   17 15:51:57      -15.678963        0.249874\n",
      "LBFGS:   18 15:51:57      -15.693007        0.237574\n",
      "LBFGS:   19 15:51:57      -15.705279        0.237635\n",
      "LBFGS:   20 15:51:57      -15.743565        0.255036\n",
      "LBFGS:   21 15:51:57      -15.800006        0.253323\n",
      "LBFGS:   22 15:51:57      -15.855382        0.177574\n",
      "LBFGS:   23 15:51:57      -15.872975        0.098585\n"
     ]
    }
   ],
   "source": [
    "! janus geomopt --config geomopt_config_mace.yml\n",
    "! janus geomopt --config geomopt_config_mace.yml --arch sevennet --file-prefix janus_results/NaCl-sevennet"
   ]
  },
  {
   "cell_type": "markdown",
   "metadata": {},
   "source": [
    "Visualising the final structures:"
   ]
  },
  {
   "cell_type": "code",
   "execution_count": 21,
   "metadata": {},
   "outputs": [
    {
     "data": {
      "application/vnd.jupyter.widget-view+json": {
       "model_id": "7474ed1574564e8cb52cc3b6f0aa6f4b",
       "version_major": 2,
       "version_minor": 0
      },
      "text/plain": [
       "WeasWidget(children=(BaseWidget(atoms=[{'species': {'Na': 'Na', 'Cl': 'Cl'}, 'cell': [5.631828355006976, -0.10…"
      ]
     },
     "execution_count": 21,
     "metadata": {},
     "output_type": "execute_result"
    }
   ],
   "source": [
    "from ase.io import read\n",
    "from weas_widget import WeasWidget\n",
    "\n",
    "mace_opt = read(\"janus_results/NaCl-mace-opt.extxyz\")\n",
    "sevennet_opt = read(\"janus_results/NaCl-sevennet-opt.extxyz\")\n",
    "opt_comparison = [mace_opt, sevennet_opt]\n",
    "\n",
    "v=WeasWidget()\n",
    "v.from_ase(opt_comparison)\n",
    "v.avr.model_style = 1\n",
    "v.avr.show_hydrogen_bonds = True\n",
    "v"
   ]
  }
 ],
 "metadata": {
  "accelerator": "GPU",
  "colab": {
   "authorship_tag": "ABX9TyNvtIsPHVgkt0NvUv51T6ZG",
   "gpuType": "T4",
   "include_colab_link": true,
   "private_outputs": true,
   "provenance": []
  },
  "kernelspec": {
   "display_name": ".venv",
   "language": "python",
   "name": "python3"
  },
  "language_info": {
   "codemirror_mode": {
    "name": "ipython",
    "version": 3
   },
   "file_extension": ".py",
   "mimetype": "text/x-python",
   "name": "python",
   "nbconvert_exporter": "python",
   "pygments_lexer": "ipython3",
   "version": "3.12.8"
  }
 },
 "nbformat": 4,
 "nbformat_minor": 0
}
