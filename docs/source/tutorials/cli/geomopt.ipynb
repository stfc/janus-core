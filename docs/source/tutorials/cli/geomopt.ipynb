{
 "cells": [
  {
   "cell_type": "markdown",
   "metadata": {
    "colab_type": "text",
    "id": "view-in-github"
   },
   "source": [
    "[![Open In Colab](https://colab.research.google.com/assets/colab-badge.svg)](https://colab.research.google.com/github/stfc/janus-core/blob/main/docs/source/tutorials/cli/geomopt.ipynb)"
   ]
  },
  {
   "cell_type": "markdown",
   "metadata": {
    "id": "4vcbRxmIhHLL"
   },
   "source": [
    "# Geometry Optimization"
   ]
  },
  {
   "cell_type": "markdown",
   "metadata": {},
   "source": [
    "## Set up environment (optional)\n",
    "\n",
    "These steps are required to run this tutorial with Google Colab. To do so, uncomment and run the cell below.\n",
    "\n",
    "This will replace pre-installed versions of `numpy` and `torch` in Colab with versions that are known to be compatible with `janus-core`.\n",
    "\n",
    "It may be possible to skip the steps that uninstall and reinstall `torch`, which will save a considerable amount of time.\n",
    "\n",
    "These instructions but may work for other systems too, but it is typically preferable to prepare a virtual environment separately before running this notebook if possible."
   ]
  },
  {
   "cell_type": "code",
   "execution_count": null,
   "metadata": {
    "id": "TF-EiWxyuMc7"
   },
   "outputs": [],
   "source": [
    "# import locale\n",
    "# locale.getpreferredencoding = lambda: \"UTF-8\"\n",
    "\n",
    "# ! pip uninstall numpy -y # Uninstall pre-installed numpy\n",
    "\n",
    "# ! pip uninstall torch torchaudio torchvision transformers -y # Uninstall pre-installed torch\n",
    "# ! uv pip install torch==2.5.1 # Install pinned version of torch\n",
    "\n",
    "# ! uv pip install janus-core[mace,orb,visualise] data-tutorials --system # Install janus-core with MACE, Orb, and WeasWidget, and data-tutorials\n",
    "\n",
    "# get_ipython().kernel.do_shutdown(restart=True) # Restart kernel to update libraries. This may warn that your session has crashed."
   ]
  },
  {
   "cell_type": "markdown",
   "metadata": {},
   "source": [
    "To ensure you have the latest version of `janus-core` installed, compare the output of the following cell to the latest version available at https://pypi.org/project/janus-core/"
   ]
  },
  {
   "cell_type": "code",
   "execution_count": null,
   "metadata": {},
   "outputs": [],
   "source": [
    "from janus_core import __version__\n",
    "\n",
    "print(__version__)"
   ]
  },
  {
   "cell_type": "markdown",
   "metadata": {},
   "source": [
    "## Command-line help and options"
   ]
  },
  {
   "cell_type": "markdown",
   "metadata": {},
   "source": [
    "As with `janus singlepoint`, we can check the options for geometry optimisation:"
   ]
  },
  {
   "cell_type": "code",
   "execution_count": null,
   "metadata": {},
   "outputs": [],
   "source": [
    "! janus geomopt --help"
   ]
  },
  {
   "cell_type": "markdown",
   "metadata": {},
   "source": [
    "## Running geometry optimisation calculation"
   ]
  },
  {
   "cell_type": "markdown",
   "metadata": {},
   "source": [
    "First, we'll build a structure to optimise, as we did for single point calculations, but add in a deformation:"
   ]
  },
  {
   "cell_type": "code",
   "execution_count": null,
   "metadata": {},
   "outputs": [],
   "source": [
    "from pathlib import Path\n",
    "\n",
    "from ase.build import bulk\n",
    "from ase.io import write\n",
    "from weas_widget import WeasWidget\n",
    "\n",
    "Path(\"../data\").mkdir(exist_ok=True)\n",
    "\n",
    "NaCl = bulk(\"NaCl\", \"rocksalt\", a=5.63, cubic=True)\n",
    "NaCl[0].position = [1.5, 1.5, 1.5]\n",
    "\n",
    "write(\"../data/NaCl-deformed.xyz\", NaCl)\n",
    "\n",
    "v=WeasWidget()\n",
    "v.from_ase(NaCl)\n",
    "v.avr.model_style = 1\n",
    "v.avr.show_hydrogen_bonds = True\n",
    "v"
   ]
  },
  {
   "cell_type": "markdown",
   "metadata": {},
   "source": [
    "Now we can optimise the geometry of this structure in a similar manner to running `janus singlepoint`:"
   ]
  },
  {
   "cell_type": "code",
   "execution_count": null,
   "metadata": {},
   "outputs": [],
   "source": [
    "! janus geomopt --arch mace_mp --struct ../data/NaCl-deformed.xyz --no-tracker"
   ]
  },
  {
   "cell_type": "markdown",
   "metadata": {},
   "source": [
    "We can also change the optimisation function used, and specify an even lower force convergence criteria, `fmax` (the maximum force on all individual atoms):"
   ]
  },
  {
   "cell_type": "markdown",
   "metadata": {},
   "source": [
    "<div class=\"alert alert-block alert-info\">\n",
    "<b>Tip:</b> The optimizer must be a class defined in ASE.\n",
    "</div>\n"
   ]
  },
  {
   "cell_type": "code",
   "execution_count": null,
   "metadata": {},
   "outputs": [],
   "source": [
    "! janus geomopt --arch mace_mp --struct ../data/NaCl-deformed.xyz --optimizer FIRE --fmax 0.005 --no-tracker"
   ]
  },
  {
   "cell_type": "markdown",
   "metadata": {},
   "source": [
    "As with single point calculations, this saves a results file, corresponding to the optimised structure, as well as a summary and log:"
   ]
  },
  {
   "cell_type": "code",
   "execution_count": null,
   "metadata": {},
   "outputs": [],
   "source": [
    "! ls janus_results/NaCl-deformed*"
   ]
  },
  {
   "cell_type": "markdown",
   "metadata": {},
   "source": [
    "We can now see the optimised structure:"
   ]
  },
  {
   "cell_type": "code",
   "execution_count": null,
   "metadata": {},
   "outputs": [],
   "source": [
    "from ase.io import read\n",
    "from weas_widget import WeasWidget\n",
    "\n",
    "traj = read(\"janus_results/NaCl-deformed-opt.extxyz\")\n",
    "\n",
    "v=WeasWidget()\n",
    "v.from_ase(traj)\n",
    "v.avr.model_style = 1\n",
    "v.avr.show_hydrogen_bonds = True\n",
    "v"
   ]
  },
  {
   "cell_type": "markdown",
   "metadata": {},
   "source": [
    "## Trajectories"
   ]
  },
  {
   "cell_type": "markdown",
   "metadata": {},
   "source": [
    "We can also save the trajectory during optimisation:"
   ]
  },
  {
   "cell_type": "code",
   "execution_count": null,
   "metadata": {},
   "outputs": [],
   "source": [
    "! janus geomopt --arch mace_mp --struct ../data/NaCl-deformed.xyz --write-traj --no-tracker"
   ]
  },
  {
   "cell_type": "markdown",
   "metadata": {},
   "source": [
    "This creates an additional file, `janus_results/NaCl-deformed-traj.extxyz`:"
   ]
  },
  {
   "cell_type": "code",
   "execution_count": null,
   "metadata": {},
   "outputs": [],
   "source": [
    "! ls janus_results/NaCl-deformed*"
   ]
  },
  {
   "cell_type": "markdown",
   "metadata": {},
   "source": [
    "This allows us to visualise the optimisation:"
   ]
  },
  {
   "cell_type": "code",
   "execution_count": null,
   "metadata": {},
   "outputs": [],
   "source": [
    "from ase.io import read\n",
    "from weas_widget import WeasWidget\n",
    "\n",
    "traj = read(\"janus_results/NaCl-deformed-traj.extxyz\", index=\":\")\n",
    "\n",
    "v=WeasWidget()\n",
    "v.from_ase(traj)\n",
    "v.avr.model_style = 1\n",
    "v.avr.show_hydrogen_bonds = True\n",
    "v"
   ]
  },
  {
   "cell_type": "markdown",
   "metadata": {},
   "source": [
    "## Cell optimisation"
   ]
  },
  {
   "cell_type": "markdown",
   "metadata": {},
   "source": [
    "We can also choose to modify the cell vectors during the optimisation. To allow only the cell lengths to change, we can run:"
   ]
  },
  {
   "cell_type": "code",
   "execution_count": null,
   "metadata": {},
   "outputs": [],
   "source": [
    "! janus geomopt --arch mace_mp --struct ../data/NaCl-deformed.xyz --write-traj --opt-cell-lengths --no-tracker"
   ]
  },
  {
   "cell_type": "markdown",
   "metadata": {},
   "source": [
    "As before, we can visualise this trajectory:"
   ]
  },
  {
   "cell_type": "code",
   "execution_count": null,
   "metadata": {},
   "outputs": [],
   "source": [
    "from ase.io import read\n",
    "from weas_widget import WeasWidget\n",
    "\n",
    "traj = read(\"janus_results/NaCl-deformed-traj.extxyz\", index=\":\")\n",
    "\n",
    "v=WeasWidget()\n",
    "v.from_ase(traj)\n",
    "v.avr.model_style = 1\n",
    "v.avr.show_hydrogen_bonds = True\n",
    "v"
   ]
  },
  {
   "cell_type": "markdown",
   "metadata": {},
   "source": [
    "We can also allow the cell angles to change:"
   ]
  },
  {
   "cell_type": "code",
   "execution_count": null,
   "metadata": {},
   "outputs": [],
   "source": [
    "! janus geomopt --arch mace_mp --struct ../data/NaCl-deformed.xyz --write-traj --opt-cell-fully --no-tracker"
   ]
  },
  {
   "cell_type": "markdown",
   "metadata": {},
   "source": [
    "Visualising this:"
   ]
  },
  {
   "cell_type": "code",
   "execution_count": null,
   "metadata": {},
   "outputs": [],
   "source": [
    "from ase.io import read\n",
    "from weas_widget import WeasWidget\n",
    "\n",
    "traj = read(\"janus_results/NaCl-deformed-traj.extxyz\", index=\":\")\n",
    "\n",
    "v=WeasWidget()\n",
    "v.from_ase(traj)\n",
    "v.avr.model_style = 1\n",
    "v.avr.show_hydrogen_bonds = True\n",
    "v"
   ]
  },
  {
   "cell_type": "markdown",
   "metadata": {},
   "source": [
    "## Setting the unit cell filter"
   ]
  },
  {
   "cell_type": "markdown",
   "metadata": {},
   "source": [
    "Cell optimisation is carried out by appling an ASE `filter` to the structure. By default, this is the `FrechetCellFilter`, but you may wish to apply others, such as the `ExpCellFilter`. This is passed as a string, and must correspond to a class defined in ASE.\n",
    "\n",
    "Key word arguments can also be passed to these filters. For example, we can maintain constant volume using the following configuration file:"
   ]
  },
  {
   "cell_type": "code",
   "execution_count": null,
   "metadata": {},
   "outputs": [],
   "source": [
    "%%writefile geomopt_config_1.yml\n",
    "\n",
    "arch: mace_mp\n",
    "struct: ../data/NaCl-deformed.xyz\n",
    "opt_cell_fully: True\n",
    "filter: ExpCellFilter\n",
    "minimize_kwargs:\n",
    "  filter_kwargs:\n",
    "    constant_volume: True\n",
    "tracker: False"
   ]
  },
  {
   "cell_type": "markdown",
   "metadata": {},
   "source": [
    "<div class=\"alert alert-block alert-info\">\n",
    "<b>Tip:</b> This is equivalent to:\n",
    "\n",
    "--struct ../data/NaCl-deformed.xyz --opt-cell-fully --filter ExpCellFilter --minimize-kwargs \"{'filter_kwargs': {'constant_volume' : True}\" --no-tracker\n",
    "</div>\n"
   ]
  },
  {
   "cell_type": "code",
   "execution_count": null,
   "metadata": {},
   "outputs": [],
   "source": [
    "! janus geomopt --config geomopt_config_1.yml"
   ]
  },
  {
   "cell_type": "markdown",
   "metadata": {},
   "source": [
    "Visualising this:"
   ]
  },
  {
   "cell_type": "code",
   "execution_count": null,
   "metadata": {},
   "outputs": [],
   "source": [
    "from ase.io import read\n",
    "from weas_widget import WeasWidget\n",
    "\n",
    "traj = read(\"janus_results/NaCl-deformed-traj.extxyz\", index=\":\")\n",
    "\n",
    "v=WeasWidget()\n",
    "v.from_ase(traj)\n",
    "v.avr.model_style = 1\n",
    "v.avr.show_hydrogen_bonds = True\n",
    "v"
   ]
  },
  {
   "cell_type": "markdown",
   "metadata": {},
   "source": [
    "## Constant pressure and symmetry refinement"
   ]
  },
  {
   "cell_type": "markdown",
   "metadata": {},
   "source": [
    "We can also choose to optimise at a fixed pressure (in GPa), and refine the symmetry of the final structure:"
   ]
  },
  {
   "cell_type": "code",
   "execution_count": null,
   "metadata": {},
   "outputs": [],
   "source": [
    "! janus geomopt --arch mace_mp --struct ../data/NaCl-deformed.xyz --write-traj --pressure 10 --opt-cell-fully --symmetrize --no-tracker"
   ]
  },
  {
   "cell_type": "markdown",
   "metadata": {},
   "source": [
    "Visualising this:"
   ]
  },
  {
   "cell_type": "code",
   "execution_count": null,
   "metadata": {},
   "outputs": [],
   "source": [
    "from ase.io import read\n",
    "from weas_widget import WeasWidget\n",
    "\n",
    "traj = read(\"janus_results/NaCl-deformed-traj.extxyz\", index=\":\")\n",
    "\n",
    "v=WeasWidget()\n",
    "v.from_ase(traj)\n",
    "v.avr.model_style = 1\n",
    "v.avr.show_hydrogen_bonds = True\n",
    "v"
   ]
  },
  {
   "cell_type": "markdown",
   "metadata": {},
   "source": [
    "## Comparing MACE to Orb"
   ]
  },
  {
   "cell_type": "markdown",
   "metadata": {},
   "source": [
    "Finally, let's compare to the structure optimised by Orb:"
   ]
  },
  {
   "cell_type": "code",
   "execution_count": null,
   "metadata": {},
   "outputs": [],
   "source": [
    "%%writefile geomopt_config_mace.yml\n",
    "\n",
    "struct: ../data/NaCl-deformed.xyz\n",
    "arch: mace_mp\n",
    "opt_cell_fully: True\n",
    "minimize_kwargs:\n",
    "  filter_kwargs:\n",
    "    constant_volume: True\n",
    "pressure: 10\n",
    "file_prefix: janus_results/NaCl-mace\n",
    "tracker: False"
   ]
  },
  {
   "cell_type": "code",
   "execution_count": null,
   "metadata": {},
   "outputs": [],
   "source": [
    "! janus geomopt --config geomopt_config_mace.yml\n",
    "! janus geomopt --config geomopt_config_mace.yml --arch orb --file-prefix janus_results/NaCl-orb"
   ]
  },
  {
   "cell_type": "markdown",
   "metadata": {},
   "source": [
    "Visualising the final structures:"
   ]
  },
  {
   "cell_type": "code",
   "execution_count": null,
   "metadata": {},
   "outputs": [],
   "source": [
    "from ase.io import read\n",
    "from weas_widget import WeasWidget\n",
    "\n",
    "mace_opt = read(\"janus_results/NaCl-mace-opt.extxyz\")\n",
    "orb_opt = read(\"janus_results/NaCl-orb-opt.extxyz\")\n",
    "opt_comparison = [mace_opt, orb_opt]\n",
    "\n",
    "v=WeasWidget()\n",
    "v.from_ase(opt_comparison)\n",
    "v.avr.model_style = 1\n",
    "v.avr.show_hydrogen_bonds = True\n",
    "v"
   ]
  }
 ],
 "metadata": {
  "accelerator": "GPU",
  "colab": {
   "authorship_tag": "ABX9TyNvtIsPHVgkt0NvUv51T6ZG",
   "gpuType": "T4",
   "include_colab_link": true,
   "private_outputs": true,
   "provenance": []
  },
  "kernelspec": {
   "display_name": ".venv",
   "language": "python",
   "name": "python3"
  },
  "language_info": {
   "codemirror_mode": {
    "name": "ipython",
    "version": 3
   },
   "file_extension": ".py",
   "mimetype": "text/x-python",
   "name": "python",
   "nbconvert_exporter": "python",
   "pygments_lexer": "ipython3",
   "version": "3.12.8"
  }
 },
 "nbformat": 4,
 "nbformat_minor": 0
}
