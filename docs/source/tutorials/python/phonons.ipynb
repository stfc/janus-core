{
  "cells": [
    {
      "cell_type": "markdown",
      "metadata": {
        "id": "view-in-github",
        "colab_type": "text"
      },
      "source": [
        "<a href=\"https://colab.research.google.com/github/catastropiyush/janus-core/blob/main/docs/source/tutorials/python/phonons.ipynb\" target=\"_parent\"><img src=\"https://colab.research.google.com/assets/colab-badge.svg\" alt=\"Open In Colab\"/></a>"
      ]
    },
    {
      "cell_type": "markdown",
      "metadata": {
        "id": "4vcbRxmIhHLL"
      },
      "source": [
        "# Phonons"
      ]
    },
    {
      "cell_type": "markdown",
      "metadata": {
        "id": "4uC0CxsifB7-"
      },
      "source": [
        "## Set up environment (optional)\n",
        "\n",
        "These steps are required for Google Colab, but may work on other systems too:"
      ]
    },
    {
      "cell_type": "code",
      "execution_count": null,
      "metadata": {
        "id": "TF-EiWxyuMc7",
        "collapsed": true
      },
      "outputs": [],
      "source": [
        "import locale\n",
        "locale.getpreferredencoding = lambda: \"UTF-8\"\n",
        "\n",
        "! pip uninstall torch torchaudio torchvision numpy -y\n",
        "! uv pip install janus-core[all] data-tutorials torch==2.5.1 --system\n",
        "get_ipython().kernel.do_shutdown(restart=True)"
      ]
    },
    {
      "cell_type": "code",
      "source": [
        "!pip install --upgrade huggingface-hub"
      ],
      "metadata": {
        "collapsed": true,
        "id": "_6Dc0UdafRfb"
      },
      "execution_count": null,
      "outputs": []
    },
    {
      "cell_type": "markdown",
      "metadata": {
        "id": "857K7R9Cenca"
      },
      "source": [
        "## Phonons (periodic)"
      ]
    },
    {
      "cell_type": "code",
      "execution_count": null,
      "metadata": {
        "id": "UiRB2Y59fB7_"
      },
      "outputs": [],
      "source": [
        "from ase.build import bulk\n",
        "from weas_widget import WeasWidget\n",
        "\n",
        "from janus_core.calculations.phonons import Phonons"
      ]
    },
    {
      "cell_type": "markdown",
      "metadata": {
        "id": "6oBY1mbqfB8A"
      },
      "source": [
        "### Prepare for phonon calculations on salt"
      ]
    },
    {
      "cell_type": "code",
      "execution_count": null,
      "metadata": {
        "id": "bKh6ogTxfB8A"
      },
      "outputs": [],
      "source": [
        "NaCl = bulk(\"NaCl\", \"rocksalt\", a=5.63, cubic=True)\n",
        "v=WeasWidget()\n",
        "v.from_ase(NaCl)\n",
        "v.avr.model_style = 1\n",
        "v.avr.show_hydrogen_bonds = True\n",
        "v"
      ]
    },
    {
      "cell_type": "markdown",
      "metadata": {
        "id": "IyBI_XVjfB8A"
      },
      "source": [
        "Note: Set `filter_func = None` for geometry optimization via `minimize_kwargs`, so cell is fixed"
      ]
    },
    {
      "cell_type": "code",
      "execution_count": null,
      "metadata": {
        "id": "LD1d6ucxfB8B"
      },
      "outputs": [],
      "source": [
        "phonons_mace = Phonons(\n",
        "    struct=NaCl.copy(),\n",
        "    arch=\"mace_mp\",\n",
        "    device=\"cpu\",\n",
        "    model_path=\"small\",\n",
        "    calc_kwargs={\"default_dtype\": \"float64\"},\n",
        "    supercell=[2, 2, 2],\n",
        "    displacement=0.01,\n",
        "    temp_step=10.0,\n",
        "    temp_min=0.0,\n",
        "    temp_max=1000.0,\n",
        "    minimize=False,\n",
        "    force_consts_to_hdf5=True,\n",
        "    plot_to_file=True,\n",
        "    symmetrize=False,\n",
        "    write_full=True,\n",
        "    minimize_kwargs={\"filter_func\": None},\n",
        "    write_results=True,\n",
        ")"
      ]
    },
    {
      "cell_type": "markdown",
      "metadata": {
        "id": "VWqURN2dfB8B"
      },
      "source": [
        "Optimize structure and calculate force constants using phonopy.\n",
        "\n",
        "This will save phonopy to `Cl4Na4-phonopy.yml`, and additionally save force constants to `Cl4Na4-force_constants.hdf5`:"
      ]
    },
    {
      "cell_type": "code",
      "execution_count": null,
      "metadata": {
        "id": "lzDn2GW8fB8C"
      },
      "outputs": [],
      "source": [
        "phonons_mace.calc_force_constants()"
      ]
    },
    {
      "cell_type": "markdown",
      "metadata": {
        "id": "XqHa-dzsfB8C"
      },
      "source": [
        "Check cell parameters have not been changed by optimization:"
      ]
    },
    {
      "cell_type": "code",
      "execution_count": null,
      "metadata": {
        "id": "sEsfVpVFfB8C"
      },
      "outputs": [],
      "source": [
        "print(phonons_mace.struct.cell.cellpar())"
      ]
    },
    {
      "cell_type": "markdown",
      "metadata": {
        "id": "Ob2pLjKmfB8C"
      },
      "source": [
        "Calculate and plot band structure, writing results to `Cl4Na4-auto_bands.yml`, and saving the figure as `Cl4Na4-auto_bands.svg`:"
      ]
    },
    {
      "cell_type": "code",
      "execution_count": null,
      "metadata": {
        "id": "AVGFNfEAfB8D"
      },
      "outputs": [],
      "source": [
        "phonons_mace.calc_bands(write_bands=True)"
      ]
    },
    {
      "cell_type": "markdown",
      "metadata": {
        "id": "tqWK9omtfB8D"
      },
      "source": [
        "Calculate thermal properties, saving the heat capacity, enthalpy, and entropy, to `Cl4Na4-thermal.dat`:"
      ]
    },
    {
      "cell_type": "code",
      "execution_count": null,
      "metadata": {
        "id": "au9Do5uqfB8D"
      },
      "outputs": [],
      "source": [
        "phonons_mace.calc_thermal_props(write_thermal=True)"
      ]
    },
    {
      "cell_type": "markdown",
      "metadata": {
        "id": "_oz3IPsTfB8D"
      },
      "source": [
        "### Phonon calcualtions with optimization of cell"
      ]
    },
    {
      "cell_type": "markdown",
      "metadata": {
        "id": "nN5aM4w9fB8E"
      },
      "source": [
        "The same calculations can be run with cell lengths, but not angles, optimized.\n",
        "\n",
        "Note: Set `\"filter_kwargs\" = {\"hydrostatic_strain\": True}` for geometry optimization via `minimize_kwargs`, so cell angles are fixed, but lengths can change"
      ]
    },
    {
      "cell_type": "code",
      "execution_count": null,
      "metadata": {
        "id": "O2r6CyMYfB8E"
      },
      "outputs": [],
      "source": [
        "phonons_mace_lengths_only = Phonons(\n",
        "    struct=NaCl.copy(),\n",
        "    arch=\"mace_mp\",\n",
        "    device=\"cpu\",\n",
        "    model_path=\"small\",\n",
        "    calc_kwargs={\"default_dtype\": \"float64\"},\n",
        "    supercell=[2, 2, 2],\n",
        "    displacement=0.01,\n",
        "    temp_step=10.0,\n",
        "    temp_min=0.0,\n",
        "    temp_max=1000.0,\n",
        "    minimize=True,\n",
        "    force_consts_to_hdf5=True,\n",
        "    plot_to_file=True,\n",
        "    symmetrize=False,\n",
        "    write_full=True,\n",
        "    minimize_kwargs={\"filter_kwargs\": {\"hydrostatic_strain\": True}},\n",
        "    write_results=True,\n",
        ")"
      ]
    },
    {
      "cell_type": "code",
      "execution_count": null,
      "metadata": {
        "id": "L4GEnQegfB8E"
      },
      "outputs": [],
      "source": [
        "phonons_mace_lengths_only.calc_bands(write_bands=True)"
      ]
    },
    {
      "cell_type": "markdown",
      "metadata": {
        "id": "O06meP6ofB8E"
      },
      "source": [
        "Confirm changes to cell lengths:"
      ]
    },
    {
      "cell_type": "code",
      "execution_count": null,
      "metadata": {
        "id": "9cD-wNu-fB8E"
      },
      "outputs": [],
      "source": [
        "print(phonons_mace_lengths_only.struct.cell.cellpar())"
      ]
    },
    {
      "cell_type": "markdown",
      "metadata": {
        "id": "cEAFEW4wfB8F"
      },
      "source": [
        "### Phonon calculations with pressure"
      ]
    },
    {
      "cell_type": "markdown",
      "metadata": {
        "id": "JVDkm3unfB8F"
      },
      "source": [
        "Calculations can also be run at a fixed pressure, as well as optmising both the cell lengths and angles.\n",
        "\n",
        "Note: Set `\"filter_kwargs\" = {\"scalar_pressure\": x}` for geometry optimization via `minimize_kwargs` to set the pressure. Without setting `hydrostatic_strain =  True`, both the cell lengths and angles will be optimized"
      ]
    },
    {
      "cell_type": "code",
      "execution_count": null,
      "metadata": {
        "id": "QhcXBJ1jfB8F"
      },
      "outputs": [],
      "source": [
        "phonons_mace_pressure = Phonons(\n",
        "    struct=NaCl.copy(),\n",
        "    arch=\"mace_mp\",\n",
        "    device=\"cpu\",\n",
        "    model_path=\"small\",\n",
        "    calc_kwargs={\"default_dtype\": \"float64\"},\n",
        "    supercell=[2, 2, 2],\n",
        "    displacement=0.01,\n",
        "    temp_step=10.0,\n",
        "    temp_min=0.0,\n",
        "    temp_max=1000.0,\n",
        "    minimize=True,\n",
        "    force_consts_to_hdf5=True,\n",
        "    plot_to_file=True,\n",
        "    symmetrize=False,\n",
        "    write_full=True,\n",
        "    minimize_kwargs={\"filter_kwargs\": {\"scalar_pressure\": 0.1}},\n",
        "    write_results=True,\n",
        ")"
      ]
    },
    {
      "cell_type": "code",
      "execution_count": null,
      "metadata": {
        "id": "fVa3IMpIfB8F"
      },
      "outputs": [],
      "source": [
        "phonons_mace_pressure.calc_bands(write_bands=True)"
      ]
    },
    {
      "cell_type": "markdown",
      "metadata": {
        "id": "9SacR9Y2fB8F"
      },
      "source": [
        "Confirm changes to cell:"
      ]
    },
    {
      "cell_type": "code",
      "execution_count": null,
      "metadata": {
        "id": "iwK5BPRbfB8F"
      },
      "outputs": [],
      "source": [
        "print(phonons_mace_pressure.struct.cell.cellpar())"
      ]
    },
    {
      "cell_type": "markdown",
      "metadata": {
        "id": "DIheiY8DfB8F"
      },
      "source": [
        "Compare band structures for different optimization options and save to files:"
      ]
    },
    {
      "cell_type": "code",
      "execution_count": null,
      "metadata": {
        "id": "h0atu1-HfB8G"
      },
      "outputs": [],
      "source": [
        "phonons_mace.write_bands(plot_file=\"NaCl_mace.svg\")\n",
        "phonons_mace_lengths_only.write_bands(plot_file=\"NaCl_lengths_only.svg\")\n",
        "phonons_mace_pressure.write_bands(plot_file=\"NaCl_pressure.svg\")"
      ]
    },
    {
      "cell_type": "markdown",
      "metadata": {
        "id": "I1002ijrfB8G"
      },
      "source": [
        "## Comparing the band structure from MACE to CHGNet and SevenNet:"
      ]
    },
    {
      "cell_type": "markdown",
      "metadata": {
        "id": "QnNpACpYfB8G"
      },
      "source": [
        "### Calculate band structure using CHGNet"
      ]
    },
    {
      "cell_type": "code",
      "execution_count": null,
      "metadata": {
        "id": "IBJppP8OfB8G"
      },
      "outputs": [],
      "source": [
        "phonons_chgnet = Phonons(\n",
        "    struct=NaCl.copy(),\n",
        "    arch=\"chgnet\",\n",
        "    device=\"cpu\",\n",
        "    supercell=[2, 2, 2],\n",
        "    displacement=0.01,\n",
        "    temp_step=10.0,\n",
        "    temp_min=0.0,\n",
        "    temp_max=1000.0,\n",
        "    minimize=True,\n",
        "    force_consts_to_hdf5=True,\n",
        "    plot_to_file=True,\n",
        "    symmetrize=False,\n",
        "    write_full=True,\n",
        "    minimize_kwargs={\"filter_func\": None},\n",
        "    write_results=True,\n",
        ")"
      ]
    },
    {
      "cell_type": "code",
      "execution_count": null,
      "metadata": {
        "id": "j4U27jHcfB8G"
      },
      "outputs": [],
      "source": [
        "phonons_chgnet.calc_bands(write_bands=True)"
      ]
    },
    {
      "cell_type": "markdown",
      "metadata": {
        "id": "NGgpFwo1fB8G"
      },
      "source": [
        "### Calculate band structure using SevenNet"
      ]
    },
    {
      "cell_type": "code",
      "execution_count": null,
      "metadata": {
        "id": "G5VFe0FUfB8G"
      },
      "outputs": [],
      "source": [
        "phonons_sevennet = Phonons(\n",
        "    struct=NaCl.copy(),\n",
        "    arch=\"sevennet\",\n",
        "    device=\"cpu\",\n",
        "    supercell=[2, 2, 2],\n",
        "    displacement=0.01,\n",
        "    temp_step=10.0,\n",
        "    temp_min=0.0,\n",
        "    temp_max=1000.0,\n",
        "    minimize=True,\n",
        "    force_consts_to_hdf5=True,\n",
        "    plot_to_file=True,\n",
        "    symmetrize=False,\n",
        "    write_full=True,\n",
        "    minimize_kwargs={\"filter_func\": None},\n",
        "    write_results=True,\n",
        ")"
      ]
    },
    {
      "cell_type": "code",
      "execution_count": null,
      "metadata": {
        "id": "Y-T3ycXAfB8G"
      },
      "outputs": [],
      "source": [
        "phonons_sevennet.calc_bands(write_bands=True)"
      ]
    },
    {
      "cell_type": "markdown",
      "metadata": {
        "id": "uX_GWNdtfB8H"
      },
      "source": [
        "Compare and save plots for each MLIP:"
      ]
    },
    {
      "cell_type": "code",
      "execution_count": null,
      "metadata": {
        "id": "cNwpi3rtfB8O"
      },
      "outputs": [],
      "source": [
        "phonons_mace.write_bands(plot_file=\"MACE.svg\")\n",
        "phonons_chgnet.write_bands(plot_file=\"chgnet.svg\")\n",
        "phonons_sevennet.write_bands(plot_file=\"sevennet.svg\")"
      ]
    },
    {
      "cell_type": "markdown",
      "metadata": {
        "id": "ToyuUpwffB8P"
      },
      "source": [
        "Note: It may be necessary to reset the default PyTorch dtype if different calculators have been set:"
      ]
    },
    {
      "cell_type": "code",
      "execution_count": null,
      "metadata": {
        "id": "B9bctSfyfB8P"
      },
      "outputs": [],
      "source": [
        "import torch\n",
        "torch.set_default_dtype(torch.float64)\n",
        "\n",
        "phonons_mace.calc_force_constants()"
      ]
    }
  ],
  "metadata": {
    "colab": {
      "private_outputs": true,
      "provenance": [],
      "include_colab_link": true
    },
    "kernelspec": {
      "display_name": "Python 3",
      "name": "python3"
    },
    "language_info": {
      "codemirror_mode": {
        "name": "ipython",
        "version": 3
      },
      "file_extension": ".py",
      "mimetype": "text/x-python",
      "name": "python",
      "nbconvert_exporter": "python",
      "pygments_lexer": "ipython3",
      "version": "3.12.4"
    }
  },
  "nbformat": 4,
  "nbformat_minor": 0
}